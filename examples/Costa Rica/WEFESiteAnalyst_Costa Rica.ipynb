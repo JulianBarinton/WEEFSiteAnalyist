{
 "cells": [
  {
   "cell_type": "markdown",
   "id": "cde045ab",
   "metadata": {},
   "source": [
    "# WEFE Site Analyst Tool\n",
    "## implemented in Jupyter Notebook and applied for a Case Study in Costa Rica"
   ]
  },
  {
   "cell_type": "markdown",
   "id": "bc4a3874",
   "metadata": {},
   "source": [
    "This Jupyter Notebook collects environmental and socioeconomic data for the planning of integrated water, energy, food, and environment systems from open servers."
   ]
  },
  {
   "cell_type": "code",
   "execution_count": 1,
   "id": "da821e89",
   "metadata": {},
   "outputs": [],
   "source": [
    "# imports\n",
    "import os\n",
    "import pandas as pd\n",
    "import matplotlib.pyplot as plt\n",
    "# import files from source\n",
    "os.chdir(\"../../src/\")\n",
    "import era5\n",
    "os.chdir(\"../examples/Costa Rica\")"
   ]
  },
  {
   "cell_type": "code",
   "execution_count": 2,
   "id": "e7efdf48",
   "metadata": {},
   "outputs": [
    {
     "data": {
      "text/html": [
       "<p>To authorize access needed by Earth Engine, open the following\n",
       "        URL in a web browser and follow the instructions:</p>\n",
       "        <p><a href=https://code.earthengine.google.com/client-auth?scopes=https%3A//www.googleapis.com/auth/earthengine%20https%3A//www.googleapis.com/auth/devstorage.full_control&request_id=ICbwXSH_50uJ3UlSJMbOwgH5OQZTDJAHNY0aH7XfLAo&tc=ArEWpGQ1B4kz8UYcqaqhbWyNRzRG19b1PZqvH-VUwhU&cc=ID9qts9V-JxXo6sMoWBAycq2qKkutfxVKIn7Jt4_iWs>https://code.earthengine.google.com/client-auth?scopes=https%3A//www.googleapis.com/auth/earthengine%20https%3A//www.googleapis.com/auth/devstorage.full_control&request_id=ICbwXSH_50uJ3UlSJMbOwgH5OQZTDJAHNY0aH7XfLAo&tc=ArEWpGQ1B4kz8UYcqaqhbWyNRzRG19b1PZqvH-VUwhU&cc=ID9qts9V-JxXo6sMoWBAycq2qKkutfxVKIn7Jt4_iWs</a></p>\n",
       "        <p>The authorization workflow will generate a code, which you should paste in the box below.</p>\n",
       "        "
      ],
      "text/plain": [
       "<IPython.core.display.HTML object>"
      ]
     },
     "metadata": {},
     "output_type": "display_data"
    },
    {
     "name": "stdout",
     "output_type": "stream",
     "text": [
      "Enter verification code: 4/1AWgavddkpa7U-GgddKGA_NW_5myIj91D7UuADWXr39unSv31KwvgtpXO1_0\n",
      "\n",
      "Successfully saved authorization token.\n"
     ]
    }
   ],
   "source": [
    "# initiate earth engine\n",
    "import ee\n",
    "\n",
    "# Trigger the authentication flow.\n",
    "ee.Authenticate()\n",
    "\n",
    "# Initialize the library.\n",
    "ee.Initialize()"
   ]
  },
  {
   "cell_type": "code",
   "execution_count": 18,
   "id": "8b95e744",
   "metadata": {},
   "outputs": [],
   "source": [
    "# provide case study name\n",
    "name = 'turrialba'\n",
    "# provide input in form of coordinates\n",
    "lon = -83.616358\n",
    "lat = 9.830153"
   ]
  },
  {
   "cell_type": "code",
   "execution_count": 15,
   "id": "ea7e8957",
   "metadata": {},
   "outputs": [],
   "source": [
    "# set start and end date (end date will be included\n",
    "# in the time period for which data is downloaded)\n",
    "start_date, end_date = '2020-12-31', '2021-12-31'  # time in UTC choose start date one day before time of interest\n",
    "# for position east of 0° meridian for covering all hours of interest"
   ]
  },
  {
   "cell_type": "code",
   "execution_count": null,
   "id": "c3a93934",
   "metadata": {},
   "outputs": [
    {
     "name": "stdout",
     "output_type": "stream",
     "text": [
      "era5_wefesiteanalyst_turrialba.nc\n"
     ]
    },
    {
     "name": "stderr",
     "output_type": "stream",
     "text": [
      "2022-12-15 16:03:25,670 INFO Welcome to the CDS\n",
      "2022-12-15 16:03:25,672 INFO Sending request to https://cds.climate.copernicus.eu/api/v2/resources/reanalysis-era5-single-levels\n",
      "2022-12-15 16:03:25,776 INFO Request is queued\n",
      "2022-12-15 16:03:26,838 INFO Request is running\n",
      "2022-12-15 16:37:47,274 INFO Request is queued\n",
      "2022-12-15 16:39:47,569 INFO Request is running\n"
     ]
    }
   ],
   "source": [
    "# download era5 dataset\n",
    "\n",
    "variable = \"wefesiteanalyst\"\n",
    "target_file = 'era5_wefesiteanalyst_'+name+'.nc'\n",
    "print(target_file)\n",
    "\n",
    "ds = era5.get_era5_data_from_datespan_and_position(\n",
    "    variable=variable,\n",
    "    start_date=start_date, end_date=end_date,\n",
    "    latitude=lat, longitude=lon,\n",
    "    target_file=target_file)"
   ]
  },
  {
   "cell_type": "code",
   "execution_count": 11,
   "id": "066bee93",
   "metadata": {},
   "outputs": [
    {
     "data": {
      "text/html": [
       "<div>\n",
       "<style scoped>\n",
       "    .dataframe tbody tr th:only-of-type {\n",
       "        vertical-align: middle;\n",
       "    }\n",
       "\n",
       "    .dataframe tbody tr th {\n",
       "        vertical-align: top;\n",
       "    }\n",
       "\n",
       "    .dataframe thead th {\n",
       "        text-align: right;\n",
       "    }\n",
       "</style>\n",
       "<table border=\"1\" class=\"dataframe\">\n",
       "  <thead>\n",
       "    <tr style=\"text-align: right;\">\n",
       "      <th></th>\n",
       "      <th>longitude</th>\n",
       "      <th>latitude</th>\n",
       "      <th>time</th>\n",
       "      <th>ssrd</th>\n",
       "      <th>t2m</th>\n",
       "      <th>u10</th>\n",
       "      <th>v10</th>\n",
       "      <th>e</th>\n",
       "      <th>tp</th>\n",
       "      <th>t_air</th>\n",
       "      <th>ghi</th>\n",
       "      <th>Unnamed: 11</th>\n",
       "      <th>Unnamed: 12</th>\n",
       "      <th>Unnamed: 13</th>\n",
       "      <th>Unnamed: 14</th>\n",
       "    </tr>\n",
       "  </thead>\n",
       "  <tbody>\n",
       "    <tr>\n",
       "      <th>0</th>\n",
       "      <td>-83.5</td>\n",
       "      <td>9.75</td>\n",
       "      <td>1/1/2020 0:00</td>\n",
       "      <td>16339.500</td>\n",
       "      <td>289.18842</td>\n",
       "      <td>-0.771638</td>\n",
       "      <td>-0.559500</td>\n",
       "      <td>-2.080000e-06</td>\n",
       "      <td>1.010000e-06</td>\n",
       "      <td>16.038422</td>\n",
       "      <td>4.538750</td>\n",
       "      <td>NaN</td>\n",
       "      <td>NaN</td>\n",
       "      <td>NaN</td>\n",
       "      <td>NaN</td>\n",
       "    </tr>\n",
       "    <tr>\n",
       "      <th>1</th>\n",
       "      <td>-83.5</td>\n",
       "      <td>9.75</td>\n",
       "      <td>1/1/2020 1:00</td>\n",
       "      <td>-0.125</td>\n",
       "      <td>288.63270</td>\n",
       "      <td>-0.487984</td>\n",
       "      <td>-0.340697</td>\n",
       "      <td>6.170000e-07</td>\n",
       "      <td>2.770000e-06</td>\n",
       "      <td>15.482697</td>\n",
       "      <td>-0.000035</td>\n",
       "      <td>NaN</td>\n",
       "      <td>NaN</td>\n",
       "      <td>NaN</td>\n",
       "      <td>NaN</td>\n",
       "    </tr>\n",
       "    <tr>\n",
       "      <th>2</th>\n",
       "      <td>-83.5</td>\n",
       "      <td>9.75</td>\n",
       "      <td>1/1/2020 2:00</td>\n",
       "      <td>-0.125</td>\n",
       "      <td>288.65717</td>\n",
       "      <td>-0.148256</td>\n",
       "      <td>-0.272024</td>\n",
       "      <td>-2.080000e-08</td>\n",
       "      <td>5.790000e-06</td>\n",
       "      <td>15.507172</td>\n",
       "      <td>-0.000035</td>\n",
       "      <td>NaN</td>\n",
       "      <td>NaN</td>\n",
       "      <td>NaN</td>\n",
       "      <td>NaN</td>\n",
       "    </tr>\n",
       "    <tr>\n",
       "      <th>3</th>\n",
       "      <td>-83.5</td>\n",
       "      <td>9.75</td>\n",
       "      <td>1/1/2020 3:00</td>\n",
       "      <td>-0.125</td>\n",
       "      <td>288.49765</td>\n",
       "      <td>0.499541</td>\n",
       "      <td>0.793868</td>\n",
       "      <td>1.220000e-08</td>\n",
       "      <td>2.770000e-06</td>\n",
       "      <td>15.347656</td>\n",
       "      <td>-0.000035</td>\n",
       "      <td>NaN</td>\n",
       "      <td>NaN</td>\n",
       "      <td>NaN</td>\n",
       "      <td>Total Precipitation</td>\n",
       "    </tr>\n",
       "    <tr>\n",
       "      <th>4</th>\n",
       "      <td>-83.5</td>\n",
       "      <td>9.75</td>\n",
       "      <td>1/1/2020 4:00</td>\n",
       "      <td>-0.125</td>\n",
       "      <td>288.42474</td>\n",
       "      <td>0.443244</td>\n",
       "      <td>0.853877</td>\n",
       "      <td>-3.280000e-07</td>\n",
       "      <td>5.040000e-07</td>\n",
       "      <td>15.274750</td>\n",
       "      <td>-0.000035</td>\n",
       "      <td>NaN</td>\n",
       "      <td>NaN</td>\n",
       "      <td>NaN</td>\n",
       "      <td>3.37</td>\n",
       "    </tr>\n",
       "  </tbody>\n",
       "</table>\n",
       "</div>"
      ],
      "text/plain": [
       "   longitude  latitude           time       ssrd        t2m       u10  \\\n",
       "0      -83.5      9.75  1/1/2020 0:00  16339.500  289.18842 -0.771638   \n",
       "1      -83.5      9.75  1/1/2020 1:00     -0.125  288.63270 -0.487984   \n",
       "2      -83.5      9.75  1/1/2020 2:00     -0.125  288.65717 -0.148256   \n",
       "3      -83.5      9.75  1/1/2020 3:00     -0.125  288.49765  0.499541   \n",
       "4      -83.5      9.75  1/1/2020 4:00     -0.125  288.42474  0.443244   \n",
       "\n",
       "        v10             e            tp      t_air       ghi  Unnamed: 11  \\\n",
       "0 -0.559500 -2.080000e-06  1.010000e-06  16.038422  4.538750          NaN   \n",
       "1 -0.340697  6.170000e-07  2.770000e-06  15.482697 -0.000035          NaN   \n",
       "2 -0.272024 -2.080000e-08  5.790000e-06  15.507172 -0.000035          NaN   \n",
       "3  0.793868  1.220000e-08  2.770000e-06  15.347656 -0.000035          NaN   \n",
       "4  0.853877 -3.280000e-07  5.040000e-07  15.274750 -0.000035          NaN   \n",
       "\n",
       "   Unnamed: 12  Unnamed: 13          Unnamed: 14  \n",
       "0          NaN          NaN                  NaN  \n",
       "1          NaN          NaN                  NaN  \n",
       "2          NaN          NaN                  NaN  \n",
       "3          NaN          NaN  Total Precipitation  \n",
       "4          NaN          NaN                 3.37  "
      ]
     },
     "execution_count": 11,
     "metadata": {},
     "output_type": "execute_result"
    }
   ],
   "source": [
    "era5_wefe = pd.read_csv(r\"wefe.csv\")\n",
    "era5_wefe.head()"
   ]
  },
  {
   "cell_type": "code",
   "execution_count": 12,
   "id": "78f0329f",
   "metadata": {},
   "outputs": [
    {
     "data": {
      "text/plain": [
       "Text(0, 0.5, 'Irradiance in $W/m^2$')"
      ]
     },
     "execution_count": 12,
     "metadata": {},
     "output_type": "execute_result"
    },
    {
     "data": {
      "image/png": "[encoded data removed]",
      "text/plain": [
       "<Figure size 640x480 with 1 Axes>"
      ]
     },
     "metadata": {},
     "output_type": "display_data"
    }
   ],
   "source": [
    "# plot global horizontal irradiance\n",
    "era5_wefe.loc[:, ['ghi']].plot(title='Irradiance')\n",
    "plt.xlabel('Time')\n",
    "plt.ylabel('Irradiance in $W/m^2$')"
   ]
  },
  {
   "cell_type": "code",
   "execution_count": 19,
   "id": "47267a75",
   "metadata": {},
   "outputs": [
    {
     "name": "stdout",
     "output_type": "stream",
     "text": [
      "Elevation at -83.616358, 9.830153: None meters\n"
     ]
    },
    {
     "data": {
      "text/html": [
       "<img src=\"https://earthengine.googleapis.com/v1alpha/projects/earthengine-legacy/thumbnails/415d56a0ee3d5a86552495a064d4169c-a21b61cd0335c2c305222e2ef5e73031:getPixels\"/>"
      ],
      "text/plain": [
       "<IPython.core.display.Image object>"
      ]
     },
     "execution_count": 19,
     "metadata": {},
     "output_type": "execute_result"
    }
   ],
   "source": [
    "# SRTM map\n",
    "\n",
    "# Set the area of interest (AOI)\n",
    "# You can use the ee.Geometry.Point function to define a point and the ee.Geometry.Buffer function to create a buffer around the point\n",
    "point = ee.Geometry.Point(lon, lat)\n",
    "buffer = point.buffer(3000)  # 3 km buffer\n",
    "\n",
    "# Load the SRTM elevation data\n",
    "srtm = ee.Image(\"USGS/SRTMGL1_003\")\n",
    "\n",
    "# Get the elevation at the map center\n",
    "elevation = ee.Image('USGS/SRTMGL1_003').sample(point)\n",
    "\n",
    "# Get the elevation value at the map center\n",
    "elevation_value = elevation.get('elevation').getInfo()\n",
    "\n",
    "# Print the elevation value\n",
    "print(f'Elevation at {lon}, {lat}: {elevation_value} meters')\n",
    "\n",
    "# Make pixels with elevation below sea level transparent.\n",
    "elv_img = srtm.updateMask(srtm.gt(0))\n",
    "\n",
    "# Display the thumbnail of styled elevation\n",
    "from IPython.display import Image\n",
    "\n",
    "Image(url=elv_img.getThumbURL({\n",
    "    'min': 0, 'max': 4000, 'dimensions': 512, 'region': buffer,\n",
    "    'palette': ['006633', 'E5FFCC', '662A00', 'D8D8D8', 'F5F5F5']}))\n"
   ]
  },
  {
   "cell_type": "code",
   "execution_count": null,
   "id": "2b3c2442",
   "metadata": {},
   "outputs": [],
   "source": []
  }
 ],
 "metadata": {
  "kernelspec": {
   "display_name": "Python 3 (ipykernel)",
   "language": "python",
   "name": "python3"
  },
  "language_info": {
   "codemirror_mode": {
    "name": "ipython",
    "version": 3
   },
   "file_extension": ".py",
   "mimetype": "text/x-python",
   "name": "python",
   "nbconvert_exporter": "python",
   "pygments_lexer": "ipython3",
   "version": "3.9.15"
  },
  "varInspector": {
   "cols": {
    "lenName": 16,
    "lenType": 16,
    "lenVar": 40
   },
   "kernels_config": {
    "python": {
     "delete_cmd_postfix": "",
     "delete_cmd_prefix": "del ",
     "library": "var_list.py",
     "varRefreshCmd": "print(var_dic_list())"
    },
    "r": {
     "delete_cmd_postfix": ") ",
     "delete_cmd_prefix": "rm(",
     "library": "var_list.r",
     "varRefreshCmd": "cat(var_dic_list()) "
    }
   },
   "position": {
    "height": "144.83px",
    "left": "1374.45px",
    "right": "20px",
    "top": "120px",
    "width": "350px"
   },
   "types_to_exclude": [
    "module",
    "function",
    "builtin_function_or_method",
    "instance",
    "_Feature"
   ],
   "window_display": true
  }
 },
 "nbformat": 4,
 "nbformat_minor": 5
}

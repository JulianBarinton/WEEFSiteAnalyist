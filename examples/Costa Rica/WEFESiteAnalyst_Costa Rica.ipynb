{
 "cells": [
  {
   "cell_type": "markdown",
   "id": "cde045ab",
   "metadata": {},
   "source": [
    "# WEFE Site Analyst Tool\n",
    "## implemented in Jupyter Notebook and applied for a Case Study in Costa Rica"
   ]
  },
  {
   "cell_type": "markdown",
   "id": "bc4a3874",
   "metadata": {},
   "source": [
    "This Jupyter Notebook collects environmental and socioeconomic data for the planning of integrated water, energy, food, and environment systems from open servers."
   ]
  },
  {
   "cell_type": "code",
   "execution_count": 17,
   "id": "da821e89",
   "metadata": {},
   "outputs": [],
   "source": [
    "# imports\n",
    "import pandas as pd\n",
    "import xarray as xr\n",
    "import matplotlib.pyplot as plt\n",
    "import os\n",
    "from math import sqrt\n",
    "import numpy as np\n",
    "#import folium\n",
    "#import geojson\n",
    "import geemap\n",
    "import geemap.foliumap as gfolium\n",
    "import json\n",
    "import requests\n",
    "from geemap import geojson_to_ee, ee_to_geojson\n",
    "from ipyleaflet import GeoJSON\n",
    "from geojson import Point, Feature, FeatureCollection, dump\n",
    "\n",
    "from shapely.geometry import Polygon, shape\n",
    "\n",
    "# import files from source\n",
    "os.chdir(\"../../src/\")\n",
    "import era5\n",
    "import ee_layer\n",
    "os.chdir(\"../examples/Costa Rica\")"
   ]
  },
  {
   "cell_type": "code",
   "execution_count": 5,
   "id": "c00046e4",
   "metadata": {},
   "outputs": [],
   "source": [
    "# provide case study name\n",
    "name = 'finca_turrialba'\n",
    "# provide input in form of coordinates\n",
    "lon = -83.616490\n",
    "lat = 9.830153"
   ]
  },
  {
   "cell_type": "code",
   "execution_count": 6,
   "id": "1a9692c0",
   "metadata": {},
   "outputs": [],
   "source": [
    "# set start and end date (end date will be included\n",
    "# in the time period for which data is downloaded)\n",
    "start_date, end_date = '2022-05-30', '2022-11-30'  # time in UTC choose start date one day before time of interest\n",
    "# for position east of 0° meridian for covering all hours of interest"
   ]
  },
  {
   "cell_type": "code",
   "execution_count": null,
   "id": "e7efdf48",
   "metadata": {},
   "outputs": [],
   "source": [
    "# initiate earth engine\n",
    "import ee\n",
    "\n",
    "# Trigger the authentication flow.\n",
    "ee.Authenticate()\n",
    "\n",
    "# Initialize the library.\n",
    "ee.Initialize()"
   ]
  },
  {
   "cell_type": "code",
   "execution_count": 4,
   "id": "8b95e744",
   "metadata": {
    "scrolled": true
   },
   "outputs": [
    {
     "data": {
      "text/html": [
       "<p>To authorize access needed by Earth Engine, open the following\n",
       "        URL in a web browser and follow the instructions:</p>\n",
       "        <p><a href=https://code.earthengine.google.com/client-auth?scopes=https%3A//www.googleapis.com/auth/earthengine%20https%3A//www.googleapis.com/auth/devstorage.full_control&request_id=X6SbCHR4d43q8VzvSlMqlZXWr5bS1w9EthEhRYN7x7U&tc=3mGLk2KjN7oru07XtzYtPqhXucxw-Zr3YKuJgjvLJcA&cc=rXdlsSB6lS6-GIcPKmO1497ix7_3URsR-WGpLRKvVcE>https://code.earthengine.google.com/client-auth?scopes=https%3A//www.googleapis.com/auth/earthengine%20https%3A//www.googleapis.com/auth/devstorage.full_control&request_id=X6SbCHR4d43q8VzvSlMqlZXWr5bS1w9EthEhRYN7x7U&tc=3mGLk2KjN7oru07XtzYtPqhXucxw-Zr3YKuJgjvLJcA&cc=rXdlsSB6lS6-GIcPKmO1497ix7_3URsR-WGpLRKvVcE</a></p>\n",
       "        <p>The authorization workflow will generate a code, which you should paste in the box below.</p>\n",
       "        "
      ],
      "text/plain": [
       "<IPython.core.display.HTML object>"
      ]
     },
     "metadata": {},
     "output_type": "display_data"
    },
    {
     "name": "stdout",
     "output_type": "stream",
     "text": [
      "Enter verification code: 4/1AWtgzh7LsGlD0Ahl3GzDzsBZ1j8nQzZS1T20EAuQBE9X3CkJz7PfeRPqX98\n",
      "\n",
      "Successfully saved authorization token.\n",
      "please draw center of demand and area of interest into the map displayed below\n",
      "{'type': 'FeatureCollection', 'features': {'type': 'FeatureCollection', 'columns': {'system:index': 'String'}, 'features': [{'type': 'Feature', 'geometry': {'type': 'Polygon', 'coordinates': [[[-83.616471, 9.830277], [-83.616503, 9.830488], [-83.616417, 9.830657], [-83.616353, 9.830974], [-83.61616, 9.831492], [-83.61602, 9.831757], [-83.616128, 9.831915], [-83.616578, 9.831947], [-83.616836, 9.831936], [-83.617029, 9.831957], [-83.617254, 9.831979], [-83.617512, 9.831513], [-83.617855, 9.831482], [-83.618381, 9.831365], [-83.618553, 9.831218], [-83.618756, 9.830552], [-83.618799, 9.829547], [-83.618606, 9.829357], [-83.617898, 9.82904], [-83.617683, 9.828924], [-83.617179, 9.828649], [-83.616943, 9.828585], [-83.616675, 9.828543], [-83.616449, 9.828511], [-83.615913, 9.828458], [-83.614904, 9.828046], [-83.614668, 9.827877], [-83.613338, 9.827824], [-83.612147, 9.827782], [-83.611492, 9.82849], [-83.61131, 9.829262], [-83.611836, 9.830182], [-83.612769, 9.830456], [-83.613574, 9.830488], [-83.613971, 9.830129], [-83.6141, 9.8296], [-83.614228, 9.829272], [-83.615162, 9.829357], [-83.615516, 9.829674], [-83.615709, 9.830319], [-83.616235, 9.830277], [-83.616471, 9.830277]]]}, 'id': '0', 'properties': {}}]}}\n"
     ]
    },
    {
     "data": {
      "application/vnd.jupyter.widget-view+json": {
       "model_id": "4059d269fbb54b35877aca0d1362fdb7",
       "version_major": 2,
       "version_minor": 0
      },
      "text/plain": [
       "Map(center=[9.830153, -83.61649], controls=(WidgetControl(options=['position', 'transparent_bg'], widget=HBox(…"
      ]
     },
     "execution_count": 4,
     "metadata": {},
     "output_type": "execute_result"
    }
   ],
   "source": [
    "\n",
    "# visualization as geemap\n",
    "map = geemap.Map(center=[lat, lon], zoom=17)\n",
    "map.add_basemap('SATELLITE')\n",
    "# map.add_basemap('TERRAIN')\n",
    "\n",
    "print(\"please draw center of demand and area of interest into the map displayed below\")\n",
    "\n",
    "# open aoi geojson file\n",
    "\n",
    "file_path = os.path.abspath('aoi.geojson')\n",
    "with open(file_path) as f:\n",
    "    aoi_geojson = json.load(f)\n",
    "print(aoi_geojson)\n",
    "\n",
    "# geojson to ee\n",
    "# aoi = geojson_to_ee(aoi_geojson)\n",
    "\n",
    "# Create ipiLEAFlet layer from the GeoJSONs    \n",
    "json_shape_layer = GeoJSON(\n",
    "    data=aoi_geojson,\n",
    "    name='AOI',\n",
    "    hover_style={'fillColor': 'red', 'fillOpacity': 0.1},\n",
    ")\n",
    "\n",
    "map.add_layer(json_shape_layer)\n",
    "map\n"
   ]
  },
  {
   "cell_type": "code",
   "execution_count": null,
   "id": "538f886b",
   "metadata": {},
   "outputs": [],
   "source": [
    "map.draw_last_feature\n"
   ]
  },
  {
   "cell_type": "code",
   "execution_count": null,
   "id": "3d92b514",
   "metadata": {},
   "outputs": [],
   "source": [
    "# retrieve area of intrest from drawing\n",
    "\n",
    "aoi = ee.FeatureCollection(map.draw_last_feature)\n",
    "\n",
    "# convert to geoJSON and save in folder\n",
    "\n",
    "aoi_geojson = ee_to_geojson(aoi)\n",
    "\n",
    "\n",
    "feature_collection = FeatureCollection(aoi_geojson)\n",
    "\n",
    "with open('aoi.geojson', 'w') as f:\n",
    "   dump(feature_collection, f)\n"
   ]
  },
  {
   "cell_type": "code",
   "execution_count": null,
   "id": "e7044339",
   "metadata": {},
   "outputs": [],
   "source": [
    "\n",
    "# create GeoJSON for the specific point\n",
    "center = {\n",
    "  \"type\": \"Point\",\n",
    "  \"coordinates\": [lon, lat]\n",
    "}\n",
    "\n",
    "# file_path = os.path.abspath('pp_geometry.geojson')\n",
    "# with open(file_path) as f:\n",
    "#    polygon_json = json.load(f)\n",
    "    \n",
    "\n",
    "# Calculation of project area\n",
    "# Convert the GeoJSON to a Shapely polygon\n",
    "# polygon_shapely = shape(polygon_json)\n",
    "\n",
    "# Calculate the area of the polygon\n",
    "# area = polygon.area\n",
    "\n",
    "# print(area)\n",
    "    \n",
    "    \n",
    "# Create ipiLEAFlet layer from the GeoJSONs    \n",
    "#json_shape_layer = GeoJSON(\n",
    "#    data=polygon_json,\n",
    "#    name='target area',\n",
    "#    hover_style={'fillColor': 'red', 'fillOpacity': 0.1},\n",
    "#)\n",
    "json_center =GeoJSON(data=center,\n",
    "                    name='center'\n",
    ")\n",
    "\n",
    "# adding shape layers to geemap\n",
    "# map.add_layer(json_shape_layer)\n",
    "map.add_layer(json_center)"
   ]
  },
  {
   "cell_type": "code",
   "execution_count": null,
   "id": "0e252124",
   "metadata": {},
   "outputs": [],
   "source": [
    "## TERAIN MAP\n",
    "# Define the location for which you want to create the elevation map (given abo)\n",
    "\n",
    "center = ee.Geometry.Point(lon, lat)\n",
    "buffer = center.buffer(3000)\n",
    "\n",
    "# Get the elevation at the map center\n",
    "elevation = ee.Image('USGS/SRTMGL1_003').sample(center)\n",
    "\n",
    "# Get the elevation value at the map center\n",
    "elevation_value = elevation.get('elevation').getInfo()\n",
    "\n",
    "# Print the elevation value\n",
    "print(f'Elevation at {lon}, {lat}: {elevation_value} meters')\n",
    "\n",
    "\n",
    "# Create a geemap map centered on the location\n",
    "terrain_map = gfolium.Map(center=[lat, lon], zoom=17)\n",
    "\n",
    "# load shape of project area\n",
    "# file_path = os.path.abspath('pp_geometry.geojson')\n",
    "# with open(file_path) as f:\n",
    "#    json_shape = json.load(f)\n",
    "\n",
    "# ee_shape = geojson_to_ee(json_shape)\n",
    "\n",
    "\n",
    "# polygon_shp = 'pp_geometry.shp'\n",
    "# polygon = geemap.shp_to_ee(polygon_shp)\n",
    "# map.addLayer(polygon, {}, 'target_area')\n",
    "\n",
    "# Use the 'SRTM 30m Digital Elevation Database' dataset to get the elevation\n",
    "elevation = ee.Image('USGS/SRTMGL1_003').clip(buffer);\n",
    "slope = ee.Terrain.slope(elevation);\n",
    "# Calculate aspect. Units are degrees where 0=N, 90=E, 180=S, 270=W.\n",
    "aspect = ee.Terrain.aspect(elevation);\n",
    "terrain = ee.Terrain.products(elevation);\n",
    "\n",
    "vis_params = {\n",
    "    'min': 700,\n",
    "    'max': 1600,\n",
    "    'palette': ['006633', 'E5FFCC', '662A00', 'D8D8D8', 'F5F5F5'],\n",
    "}\n",
    "\n",
    "vis_params_slope = {\n",
    "    'min': 0,\n",
    "    'max': 20,\n",
    "    'palette': ['FFFFFF', '000000'],\n",
    "}\n",
    "\n",
    "# map.add_ee_layer(elevation, {'min': 70, 'max': 150, 'palette': ['006633', 'E5FFCC', '662A00', 'D8D8D8', 'F5F5F5']}, 'elevation')\n",
    "terrain_map.addLayer(elevation, vis_params, 'elevation')\n",
    "terrain_map.addLayer(slope,{'min': 0, 'max': 20, 'palette': ['FFFFFF', '000000']}, 'slope')\n",
    "terrain_map.addLayer(aspect,{'min': 0, 'max': 360, 'palette': ['006633', 'E5FFCC', '662A00', 'D8D8D8', 'F5F5F5']}, 'aspect')\n",
    "terrain_map.addLayer(terrain.select('hillshade'), {min: 0, max: 255}, 'Hillshade')\n",
    "terrain_map.add_basemap('SATELLITE')\n",
    "terrain_map.addLayer(aoi,{'color': 'blue', 'weight': 1, 'opacity': 0.4, 'fillColor' : 'red',  'fillOpacity' : 0}, \"shape\")\n",
    "terrain_map.addLayer(center,{'color': 'cyan', 'weight': 1, 'opacity': 0.7}, \"center\")\n",
    "\n",
    "\n",
    "# Make pixels with elevation below sea level transparent. -> please implement\n",
    "# elv_img = srtm.updateMask(srtm.gt(0))\n",
    "\n",
    "colors = vis_params['palette']\n",
    "vmin = vis_params['min']\n",
    "vmax = vis_params['max']\n",
    "\n",
    "terrain_map.add_colorbar_branca(vis_params = vis_params, colors=colors, vmin=vmin, vmax=vmax, layer_name=\"elevation\")\n",
    "terrain_map.add_colorbar_branca(vis_params = vis_params_slope, colors = vis_params_slope['palette'], vmin= vis_params_slope['min'], vmax= vis_params_slope['max'], layer_name=\"slope\")\n",
    "\n",
    "# Display the map\n",
    "terrain_map\n"
   ]
  },
  {
   "cell_type": "code",
   "execution_count": null,
   "id": "f8de2816",
   "metadata": {},
   "outputs": [],
   "source": [
    "## LANDUSE MAP\n",
    "# Define the location for which you want to create the map\n",
    "\n",
    "center = ee.Geometry.Point(lon, lat)\n",
    "buffer = center.buffer(3000)\n",
    "\n",
    "landuse_map = gfolium.Map(center=[lat, lon], zoom=17)\n",
    "dataset = ee.ImageCollection(\"ESA/WorldCover/v100\").first()\n",
    "landuse_map.addLayer(dataset, {'bands': ['Map']}, 'ESA Land Cover')\n",
    "landuse_map.add_legend(builtin_legend='ESA_WorldCover')\n",
    "landuse_map.add_basemap('SATELLITE')\n",
    "landuse_map.addLayer(aoi,{'color': 'blue', 'weight': 1, 'opacity': 0.4, 'fillColor' : 'red',  'fillOpacity' : 0}, \"shape\")\n",
    "landuse_map.addLayer(center,{'color': 'cyan', 'weight': 1, 'opacity': 0.7}, \"center\")\n",
    "landuse_map"
   ]
  },
  {
   "cell_type": "code",
   "execution_count": 7,
   "id": "c3a93934",
   "metadata": {},
   "outputs": [
    {
     "name": "stdout",
     "output_type": "stream",
     "text": [
      "era5_wefesiteanalyst_finca_turrialba.nc\n"
     ]
    },
    {
     "name": "stderr",
     "output_type": "stream",
     "text": [
      "2023-01-30 17:57:05,194 INFO Welcome to the CDS\n",
      "2023-01-30 17:57:05,196 INFO Sending request to https://cds.climate.copernicus.eu/api/v2/resources/reanalysis-era5-single-levels\n",
      "2023-01-30 17:57:05,477 INFO Request is queued\n",
      "2023-01-30 17:57:06,940 INFO Request is running\n",
      "2023-01-30 18:17:31,484 INFO Request is completed\n",
      "2023-01-30 18:17:31,505 INFO Downloading request for 6 variables to era5_wefesiteanalyst_finca_turrialba.nc\n",
      "2023-01-30 18:17:31,514 INFO Downloading https://download-0021.copernicus-climate.eu/cache-compute-0021/cache/data3/adaptor.mars.internal-1675098890.731842-18253-3-01458160-fc48-4216-831a-f61430916fae.nc to era5_wefesiteanalyst_finca_turrialba.nc (143K)\n",
      "2023-01-30 18:17:33,209 INFO Download rate 84.6K/s                                                                     \n"
     ]
    }
   ],
   "source": [
    "# download era5 dataset\n",
    "\n",
    "variable = \"wefesiteanalyst\"\n",
    "target_file = 'era5_wefesiteanalyst_'+name+'.nc'\n",
    "print(target_file)\n",
    "\n",
    "\n",
    "ds = era5.get_era5_data_from_datespan_and_position(\n",
    "    variable=variable,\n",
    "    start_date=start_date, end_date=end_date,\n",
    "    latitude=lat, longitude=lon,\n",
    "    target_file=target_file)"
   ]
  },
  {
   "cell_type": "code",
   "execution_count": 21,
   "id": "6177f804",
   "metadata": {},
   "outputs": [
    {
     "name": "stdout",
     "output_type": "stream",
     "text": [
      "                                                     ssrd         t2m  \\\n",
      "longitude latitude expver time                                          \n",
      "-83.5     9.75     1      2022-05-01 00:00:00   20877.000  289.848938   \n",
      "                          2022-05-01 01:00:00       0.000  289.656799   \n",
      "                          2022-05-01 02:00:00       0.000  289.249207   \n",
      "                          2022-05-01 03:00:00       0.000  289.780579   \n",
      "                          2022-05-01 04:00:00       0.000  289.594910   \n",
      "...                                                   ...         ...   \n",
      "                   5      2022-11-30 19:00:00  651827.500  291.933838   \n",
      "                          2022-11-30 20:00:00  486375.625  291.490814   \n",
      "                          2022-11-30 21:00:00  364889.625  291.495636   \n",
      "                          2022-11-30 22:00:00  152558.875  290.042572   \n",
      "                          2022-11-30 23:00:00   44667.125  290.214172   \n",
      "\n",
      "                                                    u10       v10  \\\n",
      "longitude latitude expver time                                      \n",
      "-83.5     9.75     1      2022-05-01 00:00:00  0.015804  0.153660   \n",
      "                          2022-05-01 01:00:00  0.154198  0.481268   \n",
      "                          2022-05-01 02:00:00  0.287992  0.709032   \n",
      "                          2022-05-01 03:00:00  0.581748  1.009736   \n",
      "                          2022-05-01 04:00:00  0.598499  0.835369   \n",
      "...                                                 ...       ...   \n",
      "                   5      2022-11-30 19:00:00 -0.729370 -0.826070   \n",
      "                          2022-11-30 20:00:00 -0.827000 -0.588328   \n",
      "                          2022-11-30 21:00:00 -1.293156 -0.355679   \n",
      "                          2022-11-30 22:00:00 -0.547983 -0.495571   \n",
      "                          2022-11-30 23:00:00 -0.371341 -0.081261   \n",
      "\n",
      "                                                          e        tp  \n",
      "longitude latitude expver time                                         \n",
      "-83.5     9.75     1      2022-05-01 00:00:00 -4.828646e-06  0.002406  \n",
      "                          2022-05-01 01:00:00 -2.984889e-07  0.002969  \n",
      "                          2022-05-01 02:00:00  5.770213e-06  0.002260  \n",
      "                          2022-05-01 03:00:00  5.075737e-06  0.001799  \n",
      "                          2022-05-01 04:00:00  4.173780e-07  0.001141  \n",
      "...                                                     ...       ...  \n",
      "                   5      2022-11-30 19:00:00 -1.835241e-04  0.004623  \n",
      "                          2022-11-30 20:00:00 -1.445690e-04  0.006822  \n",
      "                          2022-11-30 21:00:00 -1.102616e-04  0.007630  \n",
      "                          2022-11-30 22:00:00 -4.621973e-05  0.007271  \n",
      "                          2022-11-30 23:00:00 -1.410264e-05  0.005637  \n",
      "\n",
      "[10272 rows x 6 columns]\n",
      "ssrd    float32\n",
      "t2m     float32\n",
      "u10     float32\n",
      "v10     float32\n",
      "e       float32\n",
      "tp      float32\n",
      "dtype: object\n"
     ]
    },
    {
     "ename": "KeyError",
     "evalue": "'time'",
     "output_type": "error",
     "traceback": [
      "\u001b[1;31m---------------------------------------------------------------------------\u001b[0m",
      "\u001b[1;31mKeyError\u001b[0m                                  Traceback (most recent call last)",
      "File \u001b[1;32m~\\anaconda3_2022\\envs\\WEFESiteAnalyst\\lib\\site-packages\\pandas\\core\\indexes\\base.py:3803\u001b[0m, in \u001b[0;36mIndex.get_loc\u001b[1;34m(self, key, method, tolerance)\u001b[0m\n\u001b[0;32m   3802\u001b[0m \u001b[38;5;28;01mtry\u001b[39;00m:\n\u001b[1;32m-> 3803\u001b[0m     \u001b[38;5;28;01mreturn\u001b[39;00m \u001b[38;5;28;43mself\u001b[39;49m\u001b[38;5;241;43m.\u001b[39;49m\u001b[43m_engine\u001b[49m\u001b[38;5;241;43m.\u001b[39;49m\u001b[43mget_loc\u001b[49m\u001b[43m(\u001b[49m\u001b[43mcasted_key\u001b[49m\u001b[43m)\u001b[49m\n\u001b[0;32m   3804\u001b[0m \u001b[38;5;28;01mexcept\u001b[39;00m \u001b[38;5;167;01mKeyError\u001b[39;00m \u001b[38;5;28;01mas\u001b[39;00m err:\n",
      "File \u001b[1;32m~\\anaconda3_2022\\envs\\WEFESiteAnalyst\\lib\\site-packages\\pandas\\_libs\\index.pyx:138\u001b[0m, in \u001b[0;36mpandas._libs.index.IndexEngine.get_loc\u001b[1;34m()\u001b[0m\n",
      "File \u001b[1;32m~\\anaconda3_2022\\envs\\WEFESiteAnalyst\\lib\\site-packages\\pandas\\_libs\\index.pyx:165\u001b[0m, in \u001b[0;36mpandas._libs.index.IndexEngine.get_loc\u001b[1;34m()\u001b[0m\n",
      "File \u001b[1;32mpandas\\_libs\\hashtable_class_helper.pxi:5745\u001b[0m, in \u001b[0;36mpandas._libs.hashtable.PyObjectHashTable.get_item\u001b[1;34m()\u001b[0m\n",
      "File \u001b[1;32mpandas\\_libs\\hashtable_class_helper.pxi:5753\u001b[0m, in \u001b[0;36mpandas._libs.hashtable.PyObjectHashTable.get_item\u001b[1;34m()\u001b[0m\n",
      "\u001b[1;31mKeyError\u001b[0m: 'time'",
      "\nThe above exception was the direct cause of the following exception:\n",
      "\u001b[1;31mKeyError\u001b[0m                                  Traceback (most recent call last)",
      "Cell \u001b[1;32mIn[21], line 14\u001b[0m\n\u001b[0;32m     10\u001b[0m era5_wefe[\u001b[38;5;124m'\u001b[39m\u001b[38;5;124me\u001b[39m\u001b[38;5;124m'\u001b[39m] \u001b[38;5;241m*\u001b[39m\u001b[38;5;241m=\u001b[39m\u001b[38;5;241m1000\u001b[39m\n\u001b[0;32m     11\u001b[0m era5_wefe[\u001b[38;5;124m'\u001b[39m\u001b[38;5;124mtp\u001b[39m\u001b[38;5;124m'\u001b[39m]\u001b[38;5;241m*\u001b[39m\u001b[38;5;241m=\u001b[39m\u001b[38;5;241m1000\u001b[39m\n\u001b[1;32m---> 14\u001b[0m era5_wefe\u001b[38;5;241m.\u001b[39mindex \u001b[38;5;241m=\u001b[39m pd\u001b[38;5;241m.\u001b[39mto_datetime(\u001b[43mera5_wefe\u001b[49m\u001b[43m[\u001b[49m\u001b[38;5;124;43m'\u001b[39;49m\u001b[38;5;124;43mtime\u001b[39;49m\u001b[38;5;124;43m'\u001b[39;49m\u001b[43m]\u001b[49m, \u001b[38;5;28mformat\u001b[39m\u001b[38;5;241m=\u001b[39m\u001b[38;5;124m'\u001b[39m\u001b[38;5;124m%\u001b[39m\u001b[38;5;124mY-\u001b[39m\u001b[38;5;124m%\u001b[39m\u001b[38;5;124mm-\u001b[39m\u001b[38;5;132;01m%d\u001b[39;00m\u001b[38;5;124m \u001b[39m\u001b[38;5;124m%\u001b[39m\u001b[38;5;124mH:\u001b[39m\u001b[38;5;124m%\u001b[39m\u001b[38;5;124mM:\u001b[39m\u001b[38;5;124m%\u001b[39m\u001b[38;5;124mS\u001b[39m\u001b[38;5;124m'\u001b[39m)\n\u001b[0;32m     16\u001b[0m \u001b[38;5;28;01mdef\u001b[39;00m \u001b[38;5;21mcalc_sqrt_sum_squares\u001b[39m(df, col1, col2):\n\u001b[0;32m     17\u001b[0m     \u001b[38;5;28;01mreturn\u001b[39;00m np\u001b[38;5;241m.\u001b[39msqrt(df[col1]\u001b[38;5;241m*\u001b[39m\u001b[38;5;241m*\u001b[39m\u001b[38;5;241m2\u001b[39m \u001b[38;5;241m+\u001b[39m df[col2]\u001b[38;5;241m*\u001b[39m\u001b[38;5;241m*\u001b[39m\u001b[38;5;241m2\u001b[39m)\n",
      "File \u001b[1;32m~\\anaconda3_2022\\envs\\WEFESiteAnalyst\\lib\\site-packages\\pandas\\core\\frame.py:3805\u001b[0m, in \u001b[0;36mDataFrame.__getitem__\u001b[1;34m(self, key)\u001b[0m\n\u001b[0;32m   3803\u001b[0m \u001b[38;5;28;01mif\u001b[39;00m \u001b[38;5;28mself\u001b[39m\u001b[38;5;241m.\u001b[39mcolumns\u001b[38;5;241m.\u001b[39mnlevels \u001b[38;5;241m>\u001b[39m \u001b[38;5;241m1\u001b[39m:\n\u001b[0;32m   3804\u001b[0m     \u001b[38;5;28;01mreturn\u001b[39;00m \u001b[38;5;28mself\u001b[39m\u001b[38;5;241m.\u001b[39m_getitem_multilevel(key)\n\u001b[1;32m-> 3805\u001b[0m indexer \u001b[38;5;241m=\u001b[39m \u001b[38;5;28;43mself\u001b[39;49m\u001b[38;5;241;43m.\u001b[39;49m\u001b[43mcolumns\u001b[49m\u001b[38;5;241;43m.\u001b[39;49m\u001b[43mget_loc\u001b[49m\u001b[43m(\u001b[49m\u001b[43mkey\u001b[49m\u001b[43m)\u001b[49m\n\u001b[0;32m   3806\u001b[0m \u001b[38;5;28;01mif\u001b[39;00m is_integer(indexer):\n\u001b[0;32m   3807\u001b[0m     indexer \u001b[38;5;241m=\u001b[39m [indexer]\n",
      "File \u001b[1;32m~\\anaconda3_2022\\envs\\WEFESiteAnalyst\\lib\\site-packages\\pandas\\core\\indexes\\base.py:3805\u001b[0m, in \u001b[0;36mIndex.get_loc\u001b[1;34m(self, key, method, tolerance)\u001b[0m\n\u001b[0;32m   3803\u001b[0m     \u001b[38;5;28;01mreturn\u001b[39;00m \u001b[38;5;28mself\u001b[39m\u001b[38;5;241m.\u001b[39m_engine\u001b[38;5;241m.\u001b[39mget_loc(casted_key)\n\u001b[0;32m   3804\u001b[0m \u001b[38;5;28;01mexcept\u001b[39;00m \u001b[38;5;167;01mKeyError\u001b[39;00m \u001b[38;5;28;01mas\u001b[39;00m err:\n\u001b[1;32m-> 3805\u001b[0m     \u001b[38;5;28;01mraise\u001b[39;00m \u001b[38;5;167;01mKeyError\u001b[39;00m(key) \u001b[38;5;28;01mfrom\u001b[39;00m \u001b[38;5;21;01merr\u001b[39;00m\n\u001b[0;32m   3806\u001b[0m \u001b[38;5;28;01mexcept\u001b[39;00m \u001b[38;5;167;01mTypeError\u001b[39;00m:\n\u001b[0;32m   3807\u001b[0m     \u001b[38;5;66;03m# If we have a listlike key, _check_indexing_error will raise\u001b[39;00m\n\u001b[0;32m   3808\u001b[0m     \u001b[38;5;66;03m#  InvalidIndexError. Otherwise we fall through and re-raise\u001b[39;00m\n\u001b[0;32m   3809\u001b[0m     \u001b[38;5;66;03m#  the TypeError.\u001b[39;00m\n\u001b[0;32m   3810\u001b[0m     \u001b[38;5;28mself\u001b[39m\u001b[38;5;241m.\u001b[39m_check_indexing_error(key)\n",
      "\u001b[1;31mKeyError\u001b[0m: 'time'"
     ]
    }
   ],
   "source": [
    "# File transformation nc to csv\n",
    "ds = xr.open_dataset('era5_wefesiteanalyst_'+name+'.nc')\n",
    "era5_wefe = ds.to_dataframe()\n",
    "print(era5_wefe)\n",
    "print(era5_wefe.dtypes)\n",
    "# convert units\n",
    "# global horizontal irradiance\n",
    "era5_wefe['ghi'] = (era5_wefe['ssrd'] / 3600.0)\n",
    "era5_wefe['t_air'] = era5_wefe['t2m']-273.15\n",
    "era5_wefe['e'] *=1000\n",
    "era5_wefe['tp']*=1000\n",
    "\n",
    "era5_wefe['windspeed'] = calc_sqrt_sum_squares(era5_wefe, 'u10', 'v10')\n",
    "\n",
    "\n",
    "# date_range = pd.date_range(start='2022-05-01 00:00:00', freq='H', periods=len(era5_climate))\n",
    "\n",
    "# Set the date range as the index of the DataFrame\n",
    "# era5_climate.set_index(date_range, inplace=True)\n",
    "\n",
    "\n",
    "def calc_sqrt_sum_squares(df, col1, col2):\n",
    "    return np.sqrt(df[col1]**2 + df[col2]**2)\n",
    "\n",
    "# create new dataframe only consisting out of data for required parameters\n",
    "\n",
    "columns = ['ghi', 't_air', 'e', 'tp', 'windspeed']\n",
    "values = era5_wefe[columns].values\n",
    "ep = pd.DataFrame(values, columns=columns, index = era5_wefe.index)\n",
    "\n",
    "\n",
    "print(ep)\n",
    "#print(ep.dtypes)\n",
    "\n",
    "ep.to_csv(\"era5_wefesiteanalyst_'+name+'.csv\", index=True)\n"
   ]
  },
  {
   "cell_type": "code",
   "execution_count": 20,
   "id": "066bee93",
   "metadata": {},
   "outputs": [
    {
     "data": {
      "text/html": [
       "<div>\n",
       "<style scoped>\n",
       "    .dataframe tbody tr th:only-of-type {\n",
       "        vertical-align: middle;\n",
       "    }\n",
       "\n",
       "    .dataframe tbody tr th {\n",
       "        vertical-align: top;\n",
       "    }\n",
       "\n",
       "    .dataframe thead th {\n",
       "        text-align: right;\n",
       "    }\n",
       "</style>\n",
       "<table border=\"1\" class=\"dataframe\">\n",
       "  <thead>\n",
       "    <tr style=\"text-align: right;\">\n",
       "      <th></th>\n",
       "      <th></th>\n",
       "      <th></th>\n",
       "      <th></th>\n",
       "      <th>ghi</th>\n",
       "      <th>t_air</th>\n",
       "      <th>e</th>\n",
       "      <th>tp</th>\n",
       "      <th>windspeed</th>\n",
       "    </tr>\n",
       "    <tr>\n",
       "      <th>longitude</th>\n",
       "      <th>latitude</th>\n",
       "      <th>expver</th>\n",
       "      <th>time</th>\n",
       "      <th></th>\n",
       "      <th></th>\n",
       "      <th></th>\n",
       "      <th></th>\n",
       "      <th></th>\n",
       "    </tr>\n",
       "  </thead>\n",
       "  <tbody>\n",
       "    <tr>\n",
       "      <th rowspan=\"5\" valign=\"top\">-83.5</th>\n",
       "      <th rowspan=\"5\" valign=\"top\">9.75</th>\n",
       "      <th rowspan=\"5\" valign=\"top\">1</th>\n",
       "      <th>2022-05-01 00:00:00</th>\n",
       "      <td>5.799167</td>\n",
       "      <td>16.698944</td>\n",
       "      <td>-0.004829</td>\n",
       "      <td>2.405666</td>\n",
       "      <td>0.154470</td>\n",
       "    </tr>\n",
       "    <tr>\n",
       "      <th>2022-05-01 01:00:00</th>\n",
       "      <td>0.000000</td>\n",
       "      <td>16.506805</td>\n",
       "      <td>-0.000298</td>\n",
       "      <td>2.969206</td>\n",
       "      <td>0.505367</td>\n",
       "    </tr>\n",
       "    <tr>\n",
       "      <th>2022-05-01 02:00:00</th>\n",
       "      <td>0.000000</td>\n",
       "      <td>16.099213</td>\n",
       "      <td>0.005770</td>\n",
       "      <td>2.260137</td>\n",
       "      <td>0.765288</td>\n",
       "    </tr>\n",
       "    <tr>\n",
       "      <th>2022-05-01 03:00:00</th>\n",
       "      <td>0.000000</td>\n",
       "      <td>16.630585</td>\n",
       "      <td>0.005076</td>\n",
       "      <td>1.799162</td>\n",
       "      <td>1.165331</td>\n",
       "    </tr>\n",
       "    <tr>\n",
       "      <th>2022-05-01 04:00:00</th>\n",
       "      <td>0.000000</td>\n",
       "      <td>16.444916</td>\n",
       "      <td>0.000417</td>\n",
       "      <td>1.140648</td>\n",
       "      <td>1.027639</td>\n",
       "    </tr>\n",
       "  </tbody>\n",
       "</table>\n",
       "</div>"
      ],
      "text/plain": [
       "                                                    ghi      t_air         e  \\\n",
       "longitude latitude expver time                                                 \n",
       "-83.5     9.75     1      2022-05-01 00:00:00  5.799167  16.698944 -0.004829   \n",
       "                          2022-05-01 01:00:00  0.000000  16.506805 -0.000298   \n",
       "                          2022-05-01 02:00:00  0.000000  16.099213  0.005770   \n",
       "                          2022-05-01 03:00:00  0.000000  16.630585  0.005076   \n",
       "                          2022-05-01 04:00:00  0.000000  16.444916  0.000417   \n",
       "\n",
       "                                                     tp  windspeed  \n",
       "longitude latitude expver time                                      \n",
       "-83.5     9.75     1      2022-05-01 00:00:00  2.405666   0.154470  \n",
       "                          2022-05-01 01:00:00  2.969206   0.505367  \n",
       "                          2022-05-01 02:00:00  2.260137   0.765288  \n",
       "                          2022-05-01 03:00:00  1.799162   1.165331  \n",
       "                          2022-05-01 04:00:00  1.140648   1.027639  "
      ]
     },
     "execution_count": 20,
     "metadata": {},
     "output_type": "execute_result"
    }
   ],
   "source": [
    "#era5_wefe = pd.read_csv(r\"wefe.csv\")\n",
    "ep.head()"
   ]
  },
  {
   "cell_type": "code",
   "execution_count": null,
   "id": "78f0329f",
   "metadata": {},
   "outputs": [],
   "source": [
    "# plot global horizontal irradiance\n",
    "era5_wefe.loc[:, ['ghi']].plot(title='Irradiance')\n",
    "plt.xlabel('Time')\n",
    "plt.ylabel('Irradiance in $W/m^2$')"
   ]
  },
  {
   "cell_type": "code",
   "execution_count": null,
   "id": "2b3c2442",
   "metadata": {},
   "outputs": [],
   "source": [
    "# plot total precipitation\n",
    "era5_wefe.loc[:, ['tp']].plot(title='Total Precipitation')\n",
    "plt.xlabel('Time')\n",
    "plt.ylabel('Total Precipitation in $m³/h$')"
   ]
  },
  {
   "cell_type": "code",
   "execution_count": null,
   "id": "263de23f",
   "metadata": {},
   "outputs": [],
   "source": [
    "# plot temperature\n",
    "era5_wefe.loc[:, ['t_air']].plot(title='Temperature')\n",
    "plt.xlabel('Time')\n",
    "plt.ylabel('Air Temperature in $°C$')"
   ]
  },
  {
   "cell_type": "code",
   "execution_count": null,
   "id": "d30cb574",
   "metadata": {},
   "outputs": [],
   "source": []
  }
 ],
 "metadata": {
  "kernelspec": {
   "display_name": "Python 3 (ipykernel)",
   "language": "python",
   "name": "python3"
  },
  "language_info": {
   "codemirror_mode": {
    "name": "ipython",
    "version": 3
   },
   "file_extension": ".py",
   "mimetype": "text/x-python",
   "name": "python",
   "nbconvert_exporter": "python",
   "pygments_lexer": "ipython3",
   "version": "3.9.15"
  },
  "varInspector": {
   "cols": {
    "lenName": 16,
    "lenType": 16,
    "lenVar": 40
   },
   "kernels_config": {
    "python": {
     "delete_cmd_postfix": "",
     "delete_cmd_prefix": "del ",
     "library": "var_list.py",
     "varRefreshCmd": "print(var_dic_list())"
    },
    "r": {
     "delete_cmd_postfix": ") ",
     "delete_cmd_prefix": "rm(",
     "library": "var_list.r",
     "varRefreshCmd": "cat(var_dic_list()) "
    }
   },
   "oldHeight": 122.828,
   "position": {
    "height": "40px",
    "left": "1563.44px",
    "right": "20px",
    "top": "231px",
    "width": "350px"
   },
   "types_to_exclude": [
    "module",
    "function",
    "builtin_function_or_method",
    "instance",
    "_Feature"
   ],
   "varInspector_section_display": "none",
   "window_display": false
  }
 },
 "nbformat": 4,
 "nbformat_minor": 5
}

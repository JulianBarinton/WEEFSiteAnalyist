{
 "cells": [
  {
   "cell_type": "code",
   "execution_count": 18,
   "id": "303ff85d",
   "metadata": {},
   "outputs": [],
   "source": [
    "import matplotlib as plt\n",
    "import pandas as pd\n",
    "from math import sqrt\n"
   ]
  },
  {
   "cell_type": "code",
   "execution_count": 30,
   "id": "ea6ba4c8",
   "metadata": {},
   "outputs": [
    {
     "data": {
      "text/html": [
       "<div>\n",
       "<style scoped>\n",
       "    .dataframe tbody tr th:only-of-type {\n",
       "        vertical-align: middle;\n",
       "    }\n",
       "\n",
       "    .dataframe tbody tr th {\n",
       "        vertical-align: top;\n",
       "    }\n",
       "\n",
       "    .dataframe thead th {\n",
       "        text-align: right;\n",
       "    }\n",
       "</style>\n",
       "<table border=\"1\" class=\"dataframe\">\n",
       "  <thead>\n",
       "    <tr style=\"text-align: right;\">\n",
       "      <th></th>\n",
       "      <th>ghi</th>\n",
       "      <th>t_air</th>\n",
       "      <th>e</th>\n",
       "      <th>tp</th>\n",
       "      <th>windspeed</th>\n",
       "    </tr>\n",
       "  </thead>\n",
       "  <tbody>\n",
       "    <tr>\n",
       "      <th>2022-05-01 00:00:00</th>\n",
       "      <td>5.799167</td>\n",
       "      <td>16.698944</td>\n",
       "      <td>-0.004829</td>\n",
       "      <td>2.405666</td>\n",
       "      <td>0.154470</td>\n",
       "    </tr>\n",
       "    <tr>\n",
       "      <th>2022-05-01 01:00:00</th>\n",
       "      <td>0.000000</td>\n",
       "      <td>16.506805</td>\n",
       "      <td>-0.000298</td>\n",
       "      <td>2.969206</td>\n",
       "      <td>0.505367</td>\n",
       "    </tr>\n",
       "    <tr>\n",
       "      <th>2022-05-01 02:00:00</th>\n",
       "      <td>0.000000</td>\n",
       "      <td>16.099213</td>\n",
       "      <td>0.005770</td>\n",
       "      <td>2.260137</td>\n",
       "      <td>0.765288</td>\n",
       "    </tr>\n",
       "    <tr>\n",
       "      <th>2022-05-01 03:00:00</th>\n",
       "      <td>0.000000</td>\n",
       "      <td>16.630585</td>\n",
       "      <td>0.005076</td>\n",
       "      <td>1.799162</td>\n",
       "      <td>1.165331</td>\n",
       "    </tr>\n",
       "    <tr>\n",
       "      <th>2022-05-01 04:00:00</th>\n",
       "      <td>0.000000</td>\n",
       "      <td>16.444916</td>\n",
       "      <td>0.000417</td>\n",
       "      <td>1.140648</td>\n",
       "      <td>1.027639</td>\n",
       "    </tr>\n",
       "  </tbody>\n",
       "</table>\n",
       "</div>"
      ],
      "text/plain": [
       "                          ghi      t_air         e        tp  windspeed\n",
       "2022-05-01 00:00:00  5.799167  16.698944 -0.004829  2.405666   0.154470\n",
       "2022-05-01 01:00:00  0.000000  16.506805 -0.000298  2.969206   0.505367\n",
       "2022-05-01 02:00:00  0.000000  16.099213  0.005770  2.260137   0.765288\n",
       "2022-05-01 03:00:00  0.000000  16.630585  0.005076  1.799162   1.165331\n",
       "2022-05-01 04:00:00  0.000000  16.444916  0.000417  1.140648   1.027639"
      ]
     },
     "execution_count": 30,
     "metadata": {},
     "output_type": "execute_result"
    }
   ],
   "source": [
    "era5_climate = pd.read_csv(r\"era5_wefesiteanalyst_finca_turrialba.csv\")\n",
    "date_range = pd.date_range(start='2022-05-01 00:00:00', freq='H', periods=len(era5_climate))\n",
    "\n",
    "# Set the date range as the index of the DataFrame\n",
    "era5_climate.set_index(date_range, inplace=True)\n",
    "# Remove all columns between column index 1 to 4 (4 is time)\n",
    "era5_climate.drop(era5_climate.iloc[:, 0:4], inplace=True, axis=1)\n",
    "era5_climate.head()"
   ]
  },
  {
   "cell_type": "code",
   "execution_count": 33,
   "id": "19a72f50",
   "metadata": {},
   "outputs": [
    {
     "name": "stdout",
     "output_type": "stream",
     "text": [
      "t_air_is        object\n",
      "windspeed_is    object\n",
      "tp_is           object\n",
      "ghi_is          object\n",
      "e_is            object\n",
      "dtype: object\n",
      "t_air_is        float64\n",
      "windspeed_is    float64\n",
      "tp_is           float64\n",
      "ghi_is          float64\n",
      "e_is            float64\n",
      "dtype: object\n"
     ]
    },
    {
     "data": {
      "text/html": [
       "<div>\n",
       "<style scoped>\n",
       "    .dataframe tbody tr th:only-of-type {\n",
       "        vertical-align: middle;\n",
       "    }\n",
       "\n",
       "    .dataframe tbody tr th {\n",
       "        vertical-align: top;\n",
       "    }\n",
       "\n",
       "    .dataframe thead th {\n",
       "        text-align: right;\n",
       "    }\n",
       "</style>\n",
       "<table border=\"1\" class=\"dataframe\">\n",
       "  <thead>\n",
       "    <tr style=\"text-align: right;\">\n",
       "      <th></th>\n",
       "      <th>t_air_is</th>\n",
       "      <th>windspeed_is</th>\n",
       "      <th>tp_is</th>\n",
       "      <th>ghi_is</th>\n",
       "      <th>e_is</th>\n",
       "    </tr>\n",
       "  </thead>\n",
       "  <tbody>\n",
       "    <tr>\n",
       "      <th>2022-05-29 15:00:00</th>\n",
       "      <td>20.000000</td>\n",
       "      <td>0.89408</td>\n",
       "      <td>1.016</td>\n",
       "      <td>13.0</td>\n",
       "      <td>0.0</td>\n",
       "    </tr>\n",
       "    <tr>\n",
       "      <th>2022-05-29 16:00:00</th>\n",
       "      <td>19.444444</td>\n",
       "      <td>2.90576</td>\n",
       "      <td>25.654</td>\n",
       "      <td>13.0</td>\n",
       "      <td>0.0</td>\n",
       "    </tr>\n",
       "    <tr>\n",
       "      <th>2022-05-29 17:00:00</th>\n",
       "      <td>19.444444</td>\n",
       "      <td>1.11760</td>\n",
       "      <td>12.954</td>\n",
       "      <td>8.5</td>\n",
       "      <td>0.0</td>\n",
       "    </tr>\n",
       "    <tr>\n",
       "      <th>2022-05-29 18:00:00</th>\n",
       "      <td>19.166667</td>\n",
       "      <td>0.67056</td>\n",
       "      <td>4.826</td>\n",
       "      <td>0.0</td>\n",
       "      <td>0.0</td>\n",
       "    </tr>\n",
       "    <tr>\n",
       "      <th>2022-05-29 19:00:00</th>\n",
       "      <td>18.888889</td>\n",
       "      <td>1.34112</td>\n",
       "      <td>2.540</td>\n",
       "      <td>0.0</td>\n",
       "      <td>0.0</td>\n",
       "    </tr>\n",
       "  </tbody>\n",
       "</table>\n",
       "</div>"
      ],
      "text/plain": [
       "                      t_air_is  windspeed_is   tp_is  ghi_is  e_is\n",
       "2022-05-29 15:00:00  20.000000       0.89408   1.016    13.0   0.0\n",
       "2022-05-29 16:00:00  19.444444       2.90576  25.654    13.0   0.0\n",
       "2022-05-29 17:00:00  19.444444       1.11760  12.954     8.5   0.0\n",
       "2022-05-29 18:00:00  19.166667       0.67056   4.826     0.0   0.0\n",
       "2022-05-29 19:00:00  18.888889       1.34112   2.540     0.0   0.0"
      ]
     },
     "execution_count": 33,
     "metadata": {},
     "output_type": "execute_result"
    }
   ],
   "source": [
    "# load local weather data file\n",
    "local_weather = pd.read_csv(r\"local.csv\")\n",
    "local_weather.head()\n",
    "\n",
    "\n",
    "# Create a date range with the desired starting date and frequency\n",
    "date_range = pd.date_range(start='2022-05-29 15:30:00', freq='30min', periods=len(local_weather))\n",
    "\n",
    "# Set the date range as the index of the DataFrame\n",
    "local_weather.set_index(date_range, inplace=True)\n",
    " \n",
    "    \n",
    "\n",
    "# create new dataframe only consisting out of data for required parameters\n",
    "\n",
    "\n",
    "columns = ['t_air_is', 'windspeed_is', 'tp_is','ghi_is', 'e_is']\n",
    "# check whether local measurement was ETO, from era5 we have retrieved evapo total, eto is also available though\n",
    "values = local_weather[columns].values\n",
    "sp = pd.DataFrame(values, columns=columns, index = local_weather.index)\n",
    "\n",
    "sp.head()\n",
    "print(sp.dtypes)\n",
    "\n",
    "# convert the datatype of a column to numeric\n",
    "sp = sp.apply(pd.to_numeric, errors = 'coerce')\n",
    "\n",
    "# check the datatypes again\n",
    "print(sp.dtypes)\n",
    "\n",
    "# Group by hour\n",
    "# grouped = selected_parameters.groupby(pd.Grouper(freq='H'))\n",
    "\n",
    "# Calculate mean of each group\n",
    "# local_weather_H = grouped.mean()\n",
    "\n",
    "# Resample the 30-minute timeseries data to hourly data\n",
    "local_weather_H = sp.resample('H').mean(numeric_only=True)\n",
    "# convert rain  unit (sum value (required after calculating mean) and convert inch to mm)\n",
    "local_weather_H['tp_is'] *= 2*25.4\n",
    "# convert ET unit (sum value and convert inch to mm)\n",
    "local_weather_H['e_is'] *= 2*25.4\n",
    "# convert wind speed unit (mph to m/s)\n",
    "local_weather_H['windspeed_is']*=0.44704 \n",
    "# convert temperature unit (Fahrenheit to Celsius)\n",
    "local_weather_H['t_air_is']=(local_weather_H['t_air_is']-32)/1.8\n",
    "local_weather_H.head()\n"
   ]
  },
  {
   "cell_type": "code",
   "execution_count": null,
   "id": "77a0728b",
   "metadata": {},
   "outputs": [],
   "source": [
    "# cutting local and remote data to same time range\n",
    "# remote data\n"
   ]
  },
  {
   "cell_type": "code",
   "execution_count": 35,
   "id": "f8975a19",
   "metadata": {},
   "outputs": [
    {
     "name": "stderr",
     "output_type": "stream",
     "text": [
      "C:\\Users\\Julian\\AppData\\Local\\Temp\\ipykernel_2716\\1112579989.py:1: FutureWarning: In a future version of pandas all arguments of concat except for the argument 'objs' will be keyword-only.\n",
      "  print(pd.concat(['era5_climate'], ['local_weather_H'], axis=1))\n"
     ]
    },
    {
     "ename": "TypeError",
     "evalue": "concat() got multiple values for argument 'axis'",
     "output_type": "error",
     "traceback": [
      "\u001b[1;31m---------------------------------------------------------------------------\u001b[0m",
      "\u001b[1;31mTypeError\u001b[0m                                 Traceback (most recent call last)",
      "Cell \u001b[1;32mIn[35], line 1\u001b[0m\n\u001b[1;32m----> 1\u001b[0m \u001b[38;5;28mprint\u001b[39m(\u001b[43mpd\u001b[49m\u001b[38;5;241;43m.\u001b[39;49m\u001b[43mconcat\u001b[49m\u001b[43m(\u001b[49m\u001b[43m[\u001b[49m\u001b[38;5;124;43m'\u001b[39;49m\u001b[38;5;124;43mera5_climate\u001b[39;49m\u001b[38;5;124;43m'\u001b[39;49m\u001b[43m]\u001b[49m\u001b[43m,\u001b[49m\u001b[43m \u001b[49m\u001b[43m[\u001b[49m\u001b[38;5;124;43m'\u001b[39;49m\u001b[38;5;124;43mlocal_weather_H\u001b[39;49m\u001b[38;5;124;43m'\u001b[39;49m\u001b[43m]\u001b[49m\u001b[43m,\u001b[49m\u001b[43m \u001b[49m\u001b[43maxis\u001b[49m\u001b[38;5;241;43m=\u001b[39;49m\u001b[38;5;241;43m1\u001b[39;49m\u001b[43m)\u001b[49m)\n",
      "File \u001b[1;32m~\\anaconda3_2022\\envs\\WEFESiteAnalyst\\lib\\site-packages\\pandas\\util\\_decorators.py:331\u001b[0m, in \u001b[0;36mdeprecate_nonkeyword_arguments.<locals>.decorate.<locals>.wrapper\u001b[1;34m(*args, **kwargs)\u001b[0m\n\u001b[0;32m    325\u001b[0m \u001b[38;5;28;01mif\u001b[39;00m \u001b[38;5;28mlen\u001b[39m(args) \u001b[38;5;241m>\u001b[39m num_allow_args:\n\u001b[0;32m    326\u001b[0m     warnings\u001b[38;5;241m.\u001b[39mwarn(\n\u001b[0;32m    327\u001b[0m         msg\u001b[38;5;241m.\u001b[39mformat(arguments\u001b[38;5;241m=\u001b[39m_format_argument_list(allow_args)),\n\u001b[0;32m    328\u001b[0m         \u001b[38;5;167;01mFutureWarning\u001b[39;00m,\n\u001b[0;32m    329\u001b[0m         stacklevel\u001b[38;5;241m=\u001b[39mfind_stack_level(),\n\u001b[0;32m    330\u001b[0m     )\n\u001b[1;32m--> 331\u001b[0m \u001b[38;5;28;01mreturn\u001b[39;00m func(\u001b[38;5;241m*\u001b[39margs, \u001b[38;5;241m*\u001b[39m\u001b[38;5;241m*\u001b[39mkwargs)\n",
      "\u001b[1;31mTypeError\u001b[0m: concat() got multiple values for argument 'axis'"
     ]
    }
   ],
   "source": [
    "print(pd.concat(['era5_climate'], ['local_weather_H'], axis=1))"
   ]
  },
  {
   "cell_type": "code",
   "execution_count": null,
   "id": "f899d341",
   "metadata": {},
   "outputs": [],
   "source": [
    "# plot global horizontal irradiance\n",
    "era5_wefe.loc[:, ['ghi']].plot(title='Irradiance')\n",
    "plt.xlabel('Time')\n",
    "plt.ylabel('Irradiance in $W/m^2$')"
   ]
  },
  {
   "cell_type": "code",
   "execution_count": null,
   "id": "0af8a2ff",
   "metadata": {},
   "outputs": [],
   "source": [
    "# plot temperature\n",
    "era5_wefe.loc[:, ['t_air']].plot(title='Temperature')\n",
    "plt.xlabel('Time')\n",
    "plt.ylabel('Air Temperature in $°C$')"
   ]
  },
  {
   "cell_type": "code",
   "execution_count": null,
   "id": "c5015654",
   "metadata": {},
   "outputs": [],
   "source": []
  }
 ],
 "metadata": {
  "kernelspec": {
   "display_name": "Python 3 (ipykernel)",
   "language": "python",
   "name": "python3"
  },
  "language_info": {
   "codemirror_mode": {
    "name": "ipython",
    "version": 3
   },
   "file_extension": ".py",
   "mimetype": "text/x-python",
   "name": "python",
   "nbconvert_exporter": "python",
   "pygments_lexer": "ipython3",
   "version": "3.9.15"
  },
  "varInspector": {
   "cols": {
    "lenName": 16,
    "lenType": 16,
    "lenVar": 40
   },
   "kernels_config": {
    "python": {
     "delete_cmd_postfix": "",
     "delete_cmd_prefix": "del ",
     "library": "var_list.py",
     "varRefreshCmd": "print(var_dic_list())"
    },
    "r": {
     "delete_cmd_postfix": ") ",
     "delete_cmd_prefix": "rm(",
     "library": "var_list.r",
     "varRefreshCmd": "cat(var_dic_list()) "
    }
   },
   "types_to_exclude": [
    "module",
    "function",
    "builtin_function_or_method",
    "instance",
    "_Feature"
   ],
   "window_display": false
  }
 },
 "nbformat": 4,
 "nbformat_minor": 5
}

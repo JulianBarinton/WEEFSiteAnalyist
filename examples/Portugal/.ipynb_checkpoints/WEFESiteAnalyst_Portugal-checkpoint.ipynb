{
 "cells": [
  {
   "cell_type": "markdown",
   "id": "cde045ab",
   "metadata": {},
   "source": [
    "# WEFE Site Analyst Tool\n",
    "## implemented in Jupyter Notebook and applied for a Case Study in Portugal"
   ]
  },
  {
   "cell_type": "markdown",
   "id": "bc4a3874",
   "metadata": {},
   "source": [
    "This Jupyter Notebook collects environmental and socioeconomic data for the planning of integrated water, energy, food, and environment systems from open servers."
   ]
  },
  {
   "cell_type": "code",
   "execution_count": 4,
   "id": "da821e89",
   "metadata": {},
   "outputs": [],
   "source": [
    "# imports\n",
    "import os\n",
    "import pandas as pd\n",
    "import matplotlib.pyplot as plt\n",
    "import folium\n",
    "import geemap.foliumap as geemap\n",
    "# import files from source\n",
    "os.chdir(\"../../src/\")\n",
    "import era5\n",
    "import ee_layer\n",
    "os.chdir(\"../examples/Portugal\")"
   ]
  },
  {
   "cell_type": "code",
   "execution_count": 5,
   "id": "e7efdf48",
   "metadata": {},
   "outputs": [
    {
     "data": {
      "text/html": [
       "<p>To authorize access needed by Earth Engine, open the following\n",
       "        URL in a web browser and follow the instructions:</p>\n",
       "        <p><a href=https://code.earthengine.google.com/client-auth?scopes=https%3A//www.googleapis.com/auth/earthengine%20https%3A//www.googleapis.com/auth/devstorage.full_control&request_id=LSnSZkCNNvixhT4z65k-KT6MSBOWmTkQaudoPnhUNfY&tc=Vwkc28POM02cjp9KMJ8qRNfg1poWByLUAnBVTZLKRQg&cc=YH_kWsX77SEio4TAgycn62iAaW_Ro8Po1_vIJLw07ck>https://code.earthengine.google.com/client-auth?scopes=https%3A//www.googleapis.com/auth/earthengine%20https%3A//www.googleapis.com/auth/devstorage.full_control&request_id=LSnSZkCNNvixhT4z65k-KT6MSBOWmTkQaudoPnhUNfY&tc=Vwkc28POM02cjp9KMJ8qRNfg1poWByLUAnBVTZLKRQg&cc=YH_kWsX77SEio4TAgycn62iAaW_Ro8Po1_vIJLw07ck</a></p>\n",
       "        <p>The authorization workflow will generate a code, which you should paste in the box below.</p>\n",
       "        "
      ],
      "text/plain": [
       "<IPython.core.display.HTML object>"
      ]
     },
     "metadata": {},
     "output_type": "display_data"
    },
    {
     "name": "stdout",
     "output_type": "stream",
     "text": [
      "Enter verification code: 4/1AWgavdc320susaNRg0oq3C3GHl-t9g7h2aS6aZHVvJ14G_rnc1GKZcugNrM\n",
      "\n",
      "Successfully saved authorization token.\n"
     ]
    }
   ],
   "source": [
    "# initiate earth engine\n",
    "import ee\n",
    "\n",
    "# Trigger the authentication flow.\n",
    "ee.Authenticate()\n",
    "\n",
    "# Initialize the library.\n",
    "ee.Initialize()"
   ]
  },
  {
   "cell_type": "code",
   "execution_count": 6,
   "id": "8b95e744",
   "metadata": {},
   "outputs": [],
   "source": [
    "# provide case study name\n",
    "name = 'permontanha'\n",
    "# coordinates\n",
    "lat = 37.134986\n",
    "lon = -8.853894\n",
    "# set center of maps and zoom level\n",
    "center = [lat, lon]\n",
    "zoom = 17"
   ]
  },
  {
   "cell_type": "code",
   "execution_count": 9,
   "id": "8baaeffb-7c39-42fb-b22f-094aa0aff7f8",
   "metadata": {},
   "outputs": [
    {
     "data": {
      "text/html": [
       "<div style=\"width:100%;\"><div style=\"position:relative;width:100%;height:0;padding-bottom:60%;\"><span style=\"color:#565656\">Make this Notebook Trusted to load map: File -> Trust Notebook</span><iframe srcdoc=\"&lt;!DOCTYPE html&gt;\n",
       "&lt;html&gt;\n",
       "&lt;head&gt;\n",
       "    \n",
       "    &lt;meta http-equiv=&quot;content-type&quot; content=&quot;text/html; charset=UTF-8&quot; /&gt;\n",
       "    \n",
       "        &lt;script&gt;\n",
       "            L_NO_TOUCH = false;\n",
       "            L_DISABLE_3D = false;\n",
       "        &lt;/script&gt;\n",
       "    \n",
       "    &lt;style&gt;html, body {width: 100%;height: 100%;margin: 0;padding: 0;}&lt;/style&gt;\n",
       "    &lt;style&gt;#map {position:absolute;top:0;bottom:0;right:0;left:0;}&lt;/style&gt;\n",
       "    &lt;script src=&quot;https://cdn.jsdelivr.net/npm/leaflet@1.9.3/dist/leaflet.js&quot;&gt;&lt;/script&gt;\n",
       "    &lt;script src=&quot;https://code.jquery.com/jquery-1.12.4.min.js&quot;&gt;&lt;/script&gt;\n",
       "    &lt;script src=&quot;https://cdn.jsdelivr.net/npm/bootstrap@5.2.2/dist/js/bootstrap.bundle.min.js&quot;&gt;&lt;/script&gt;\n",
       "    &lt;script src=&quot;https://cdnjs.cloudflare.com/ajax/libs/Leaflet.awesome-markers/2.0.2/leaflet.awesome-markers.js&quot;&gt;&lt;/script&gt;\n",
       "    &lt;link rel=&quot;stylesheet&quot; href=&quot;https://cdn.jsdelivr.net/npm/leaflet@1.9.3/dist/leaflet.css&quot;/&gt;\n",
       "    &lt;link rel=&quot;stylesheet&quot; href=&quot;https://cdn.jsdelivr.net/npm/bootstrap@5.2.2/dist/css/bootstrap.min.css&quot;/&gt;\n",
       "    &lt;link rel=&quot;stylesheet&quot; href=&quot;https://netdna.bootstrapcdn.com/bootstrap/3.0.0/css/bootstrap.min.css&quot;/&gt;\n",
       "    &lt;link rel=&quot;stylesheet&quot; href=&quot;https://cdn.jsdelivr.net/npm/@fortawesome/fontawesome-free@6.2.0/css/all.min.css&quot;/&gt;\n",
       "    &lt;link rel=&quot;stylesheet&quot; href=&quot;https://cdnjs.cloudflare.com/ajax/libs/Leaflet.awesome-markers/2.0.2/leaflet.awesome-markers.css&quot;/&gt;\n",
       "    &lt;link rel=&quot;stylesheet&quot; href=&quot;https://cdn.jsdelivr.net/gh/python-visualization/folium/folium/templates/leaflet.awesome.rotate.min.css&quot;/&gt;\n",
       "    \n",
       "            &lt;meta name=&quot;viewport&quot; content=&quot;width=device-width,\n",
       "                initial-scale=1.0, maximum-scale=1.0, user-scalable=no&quot; /&gt;\n",
       "            &lt;style&gt;\n",
       "                #map_3573f900ea8486cdf0602f236d686720 {\n",
       "                    position: relative;\n",
       "                    width: 100.0%;\n",
       "                    height: 100.0%;\n",
       "                    left: 0.0%;\n",
       "                    top: 0.0%;\n",
       "                }\n",
       "                .leaflet-container { font-size: 1rem; }\n",
       "            &lt;/style&gt;\n",
       "        \n",
       "&lt;/head&gt;\n",
       "&lt;body&gt;\n",
       "    \n",
       "    \n",
       "            &lt;div class=&quot;folium-map&quot; id=&quot;map_3573f900ea8486cdf0602f236d686720&quot; &gt;&lt;/div&gt;\n",
       "        \n",
       "&lt;/body&gt;\n",
       "&lt;script&gt;\n",
       "    \n",
       "    \n",
       "            var map_3573f900ea8486cdf0602f236d686720 = L.map(\n",
       "                &quot;map_3573f900ea8486cdf0602f236d686720&quot;,\n",
       "                {\n",
       "                    center: [37.134986, -8.853894],\n",
       "                    crs: L.CRS.EPSG3857,\n",
       "                    zoom: 17,\n",
       "                    zoomControl: true,\n",
       "                    preferCanvas: false,\n",
       "                }\n",
       "            );\n",
       "\n",
       "            \n",
       "\n",
       "        \n",
       "    \n",
       "            var tile_layer_0f941d53be97181a0caf7f9c57218f40 = L.tileLayer(\n",
       "                &quot;https://{s}.tile.openstreetmap.org/{z}/{x}/{y}.png&quot;,\n",
       "                {&quot;attribution&quot;: &quot;Data by \\u0026copy; \\u003ca target=\\&quot;_blank\\&quot; href=\\&quot;http://openstreetmap.org\\&quot;\\u003eOpenStreetMap\\u003c/a\\u003e, under \\u003ca target=\\&quot;_blank\\&quot; href=\\&quot;http://www.openstreetmap.org/copyright\\&quot;\\u003eODbL\\u003c/a\\u003e.&quot;, &quot;detectRetina&quot;: false, &quot;maxNativeZoom&quot;: 18, &quot;maxZoom&quot;: 18, &quot;minZoom&quot;: 0, &quot;noWrap&quot;: false, &quot;opacity&quot;: 1, &quot;subdomains&quot;: &quot;abc&quot;, &quot;tms&quot;: false}\n",
       "            ).addTo(map_3573f900ea8486cdf0602f236d686720);\n",
       "        \n",
       "    \n",
       "\n",
       "        function geo_json_e6b971ac6c13f7079b20079bef4f9812_onEachFeature(feature, layer) {\n",
       "            layer.on({\n",
       "            });\n",
       "        };\n",
       "        var geo_json_e6b971ac6c13f7079b20079bef4f9812 = L.geoJson(null, {\n",
       "                onEachFeature: geo_json_e6b971ac6c13f7079b20079bef4f9812_onEachFeature,\n",
       "            \n",
       "        });\n",
       "\n",
       "        function geo_json_e6b971ac6c13f7079b20079bef4f9812_add (data) {\n",
       "            geo_json_e6b971ac6c13f7079b20079bef4f9812\n",
       "                .addData(data)\n",
       "                .addTo(map_3573f900ea8486cdf0602f236d686720);\n",
       "        }\n",
       "            geo_json_e6b971ac6c13f7079b20079bef4f9812_add({&quot;crs&quot;: {&quot;properties&quot;: {&quot;name&quot;: &quot;urn:ogc:def:crs:OGC:1.3:CRS84&quot;}, &quot;type&quot;: &quot;name&quot;}, &quot;features&quot;: [{&quot;geometry&quot;: {&quot;coordinates&quot;: [[[-8.854397164323958, 37.13384347121716], [-8.854705519411379, 37.1338743067259], [-8.854940640165536, 37.13403233870821], [-8.85511408990221, 37.13407859197132], [-8.85546484381415, 37.13419037069051], [-8.855279830761699, 37.13458352342697], [-8.855040855568948, 37.1348841696372], [-8.85476333599027, 37.135134708145735], [-8.853217706114576, 37.13589017810991], [-8.853202288360205, 37.135963412443175], [-8.852123045554233, 37.13587090591695], [-8.852350457431205, 37.135616512969825], [-8.852786008992187, 37.13519252472462], [-8.852839971132486, 37.13514241702292], [-8.853040401939309, 37.134880315198615], [-8.853352611465322, 37.1346721755146], [-8.853637839921186, 37.13443705476045], [-8.85399244827172, 37.134132554111616], [-8.854397164323958, 37.13384347121716]]], &quot;type&quot;: &quot;Polygon&quot;}, &quot;properties&quot;: {&quot;id&quot;: 1}, &quot;type&quot;: &quot;Feature&quot;}], &quot;type&quot;: &quot;FeatureCollection&quot;});\n",
       "\n",
       "        \n",
       "&lt;/script&gt;\n",
       "&lt;/html&gt;\" style=\"position:absolute;width:100%;height:100%;left:0;top:0;border:none !important;\" allowfullscreen webkitallowfullscreen mozallowfullscreen></iframe></div></div>"
      ],
      "text/plain": [
       "<folium.folium.Map at 0x247f7ab17c0>"
      ]
     },
     "execution_count": 9,
     "metadata": {},
     "output_type": "execute_result"
    }
   ],
   "source": [
    "# create a folium elevation map\n",
    "map = folium.Map(location=center, zoom_start=zoom)\n",
    "\n",
    "# Load the shapefile as GeoJsnon into folium map/ better: create shapefile from points\n",
    "folium.GeoJson(\"pp_geometry.shp\", name = 'geojson').add_to(map) \n",
    "point = ee.Geometry.Point(lon, lat)\n",
    "buffer = point.buffer(1000)\n",
    "\n",
    "# display the map\n",
    "map"
   ]
  },
  {
   "cell_type": "code",
   "execution_count": 8,
   "id": "753f2a98",
   "metadata": {},
   "outputs": [
    {
     "data": {
      "text/html": [
       "<div style=\"width:100%;\"><div style=\"position:relative;width:100%;height:0;padding-bottom:60%;\"><span style=\"color:#565656\">Make this Notebook Trusted to load map: File -> Trust Notebook</span><iframe srcdoc=\"&lt;!DOCTYPE html&gt;\n",
       "&lt;html&gt;\n",
       "&lt;head&gt;\n",
       "    \n",
       "    &lt;meta http-equiv=&quot;content-type&quot; content=&quot;text/html; charset=UTF-8&quot; /&gt;\n",
       "    \n",
       "        &lt;script&gt;\n",
       "            L_NO_TOUCH = false;\n",
       "            L_DISABLE_3D = false;\n",
       "        &lt;/script&gt;\n",
       "    \n",
       "    &lt;style&gt;html, body {width: 100%;height: 100%;margin: 0;padding: 0;}&lt;/style&gt;\n",
       "    &lt;style&gt;#map {position:absolute;top:0;bottom:0;right:0;left:0;}&lt;/style&gt;\n",
       "    &lt;script src=&quot;https://cdn.jsdelivr.net/npm/leaflet@1.9.3/dist/leaflet.js&quot;&gt;&lt;/script&gt;\n",
       "    &lt;script src=&quot;https://code.jquery.com/jquery-1.12.4.min.js&quot;&gt;&lt;/script&gt;\n",
       "    &lt;script src=&quot;https://cdn.jsdelivr.net/npm/bootstrap@5.2.2/dist/js/bootstrap.bundle.min.js&quot;&gt;&lt;/script&gt;\n",
       "    &lt;script src=&quot;https://cdnjs.cloudflare.com/ajax/libs/Leaflet.awesome-markers/2.0.2/leaflet.awesome-markers.js&quot;&gt;&lt;/script&gt;\n",
       "    &lt;link rel=&quot;stylesheet&quot; href=&quot;https://cdn.jsdelivr.net/npm/leaflet@1.9.3/dist/leaflet.css&quot;/&gt;\n",
       "    &lt;link rel=&quot;stylesheet&quot; href=&quot;https://cdn.jsdelivr.net/npm/bootstrap@5.2.2/dist/css/bootstrap.min.css&quot;/&gt;\n",
       "    &lt;link rel=&quot;stylesheet&quot; href=&quot;https://netdna.bootstrapcdn.com/bootstrap/3.0.0/css/bootstrap.min.css&quot;/&gt;\n",
       "    &lt;link rel=&quot;stylesheet&quot; href=&quot;https://cdn.jsdelivr.net/npm/@fortawesome/fontawesome-free@6.2.0/css/all.min.css&quot;/&gt;\n",
       "    &lt;link rel=&quot;stylesheet&quot; href=&quot;https://cdnjs.cloudflare.com/ajax/libs/Leaflet.awesome-markers/2.0.2/leaflet.awesome-markers.css&quot;/&gt;\n",
       "    &lt;link rel=&quot;stylesheet&quot; href=&quot;https://cdn.jsdelivr.net/gh/python-visualization/folium/folium/templates/leaflet.awesome.rotate.min.css&quot;/&gt;\n",
       "    \n",
       "            &lt;meta name=&quot;viewport&quot; content=&quot;width=device-width,\n",
       "                initial-scale=1.0, maximum-scale=1.0, user-scalable=no&quot; /&gt;\n",
       "            &lt;style&gt;\n",
       "                #map_b7e21d979cda61664930f631216cd71d {\n",
       "                    position: relative;\n",
       "                    width: 100.0%;\n",
       "                    height: 100.0%;\n",
       "                    left: 0.0%;\n",
       "                    top: 0.0%;\n",
       "                }\n",
       "                .leaflet-container { font-size: 1rem; }\n",
       "            &lt;/style&gt;\n",
       "        \n",
       "&lt;/head&gt;\n",
       "&lt;body&gt;\n",
       "    \n",
       "    \n",
       "            &lt;div class=&quot;folium-map&quot; id=&quot;map_b7e21d979cda61664930f631216cd71d&quot; &gt;&lt;/div&gt;\n",
       "        \n",
       "&lt;/body&gt;\n",
       "&lt;script&gt;\n",
       "    \n",
       "    \n",
       "            var map_b7e21d979cda61664930f631216cd71d = L.map(\n",
       "                &quot;map_b7e21d979cda61664930f631216cd71d&quot;,\n",
       "                {\n",
       "                    center: [37.134986, -8.853894],\n",
       "                    crs: L.CRS.EPSG3857,\n",
       "                    zoom: 17,\n",
       "                    zoomControl: true,\n",
       "                    preferCanvas: false,\n",
       "                }\n",
       "            );\n",
       "\n",
       "            \n",
       "\n",
       "        \n",
       "    \n",
       "            var tile_layer_af6021c925d5909ce560803703948cf9 = L.tileLayer(\n",
       "                &quot;https://stamen-tiles-{s}.a.ssl.fastly.net/terrain/{z}/{x}/{y}.jpg&quot;,\n",
       "                {&quot;attribution&quot;: &quot;Map tiles by \\u003ca target=\\&quot;_blank\\&quot; href=\\&quot;http://stamen.com\\&quot;\\u003eStamen Design\\u003c/a\\u003e, under \\u003ca target=\\&quot;_blank\\&quot; href=\\&quot;http://creativecommons.org/licenses/by/3.0\\&quot;\\u003eCC BY 3.0\\u003c/a\\u003e. Data by \\u0026copy; \\u003ca target=\\&quot;_blank\\&quot; href=\\&quot;http://openstreetmap.org\\&quot;\\u003eOpenStreetMap\\u003c/a\\u003e, under \\u003ca target=\\&quot;_blank\\&quot; href=\\&quot;http://creativecommons.org/licenses/by-sa/3.0\\&quot;\\u003eCC BY SA\\u003c/a\\u003e.&quot;, &quot;detectRetina&quot;: false, &quot;maxNativeZoom&quot;: 18, &quot;maxZoom&quot;: 18, &quot;minZoom&quot;: 0, &quot;noWrap&quot;: false, &quot;opacity&quot;: 1, &quot;subdomains&quot;: &quot;abc&quot;, &quot;tms&quot;: false}\n",
       "            ).addTo(map_b7e21d979cda61664930f631216cd71d);\n",
       "        \n",
       "    \n",
       "\n",
       "        function geo_json_040b510105087dcecbf9f98c48754ff6_onEachFeature(feature, layer) {\n",
       "            layer.on({\n",
       "            });\n",
       "        };\n",
       "        var geo_json_040b510105087dcecbf9f98c48754ff6 = L.geoJson(null, {\n",
       "                onEachFeature: geo_json_040b510105087dcecbf9f98c48754ff6_onEachFeature,\n",
       "            \n",
       "        });\n",
       "\n",
       "        function geo_json_040b510105087dcecbf9f98c48754ff6_add (data) {\n",
       "            geo_json_040b510105087dcecbf9f98c48754ff6\n",
       "                .addData(data)\n",
       "                .addTo(map_b7e21d979cda61664930f631216cd71d);\n",
       "        }\n",
       "            geo_json_040b510105087dcecbf9f98c48754ff6_add({&quot;crs&quot;: {&quot;properties&quot;: {&quot;name&quot;: &quot;urn:ogc:def:crs:OGC:1.3:CRS84&quot;}, &quot;type&quot;: &quot;name&quot;}, &quot;features&quot;: [{&quot;geometry&quot;: {&quot;coordinates&quot;: [[[-8.854397164323958, 37.13384347121716], [-8.854705519411379, 37.1338743067259], [-8.854940640165536, 37.13403233870821], [-8.85511408990221, 37.13407859197132], [-8.85546484381415, 37.13419037069051], [-8.855279830761699, 37.13458352342697], [-8.855040855568948, 37.1348841696372], [-8.85476333599027, 37.135134708145735], [-8.853217706114576, 37.13589017810991], [-8.853202288360205, 37.135963412443175], [-8.852123045554233, 37.13587090591695], [-8.852350457431205, 37.135616512969825], [-8.852786008992187, 37.13519252472462], [-8.852839971132486, 37.13514241702292], [-8.853040401939309, 37.134880315198615], [-8.853352611465322, 37.1346721755146], [-8.853637839921186, 37.13443705476045], [-8.85399244827172, 37.134132554111616], [-8.854397164323958, 37.13384347121716]]], &quot;type&quot;: &quot;Polygon&quot;}, &quot;properties&quot;: {&quot;id&quot;: 1}, &quot;type&quot;: &quot;Feature&quot;}], &quot;type&quot;: &quot;FeatureCollection&quot;});\n",
       "\n",
       "        \n",
       "    \n",
       "\n",
       "        function geo_json_3540562098aba415797490793b196d2d_onEachFeature(feature, layer) {\n",
       "            layer.on({\n",
       "            });\n",
       "        };\n",
       "        var geo_json_3540562098aba415797490793b196d2d = L.geoJson(null, {\n",
       "                onEachFeature: geo_json_3540562098aba415797490793b196d2d_onEachFeature,\n",
       "            \n",
       "        });\n",
       "\n",
       "        function geo_json_3540562098aba415797490793b196d2d_add (data) {\n",
       "            geo_json_3540562098aba415797490793b196d2d\n",
       "                .addData(data)\n",
       "                .addTo(map_b7e21d979cda61664930f631216cd71d);\n",
       "        }\n",
       "            geo_json_3540562098aba415797490793b196d2d_add({&quot;crs&quot;: {&quot;properties&quot;: {&quot;name&quot;: &quot;urn:ogc:def:crs:OGC:1.3:CRS84&quot;}, &quot;type&quot;: &quot;name&quot;}, &quot;features&quot;: [{&quot;geometry&quot;: {&quot;coordinates&quot;: [[[-8.854397164323958, 37.13384347121716], [-8.854705519411379, 37.1338743067259], [-8.854940640165536, 37.13403233870821], [-8.85511408990221, 37.13407859197132], [-8.85546484381415, 37.13419037069051], [-8.855279830761699, 37.13458352342697], [-8.855040855568948, 37.1348841696372], [-8.85476333599027, 37.135134708145735], [-8.853217706114576, 37.13589017810991], [-8.853202288360205, 37.135963412443175], [-8.852123045554233, 37.13587090591695], [-8.852350457431205, 37.135616512969825], [-8.852786008992187, 37.13519252472462], [-8.852839971132486, 37.13514241702292], [-8.853040401939309, 37.134880315198615], [-8.853352611465322, 37.1346721755146], [-8.853637839921186, 37.13443705476045], [-8.85399244827172, 37.134132554111616], [-8.854397164323958, 37.13384347121716]]], &quot;type&quot;: &quot;Polygon&quot;}, &quot;properties&quot;: {&quot;id&quot;: 1}, &quot;type&quot;: &quot;Feature&quot;}], &quot;type&quot;: &quot;FeatureCollection&quot;});\n",
       "\n",
       "        \n",
       "&lt;/script&gt;\n",
       "&lt;/html&gt;\" style=\"position:absolute;width:100%;height:100%;left:0;top:0;border:none !important;\" allowfullscreen webkitallowfullscreen mozallowfullscreen></iframe></div></div>"
      ],
      "text/plain": [
       "<folium.folium.Map at 0x247f7a44970>"
      ]
     },
     "execution_count": 8,
     "metadata": {},
     "output_type": "execute_result"
    }
   ],
   "source": [
    "# Digital Elevation Model (DEM) \n",
    "elevation = ee.Image(\"USGS/SRTMGL1_003\").clip(buffer)\n",
    "# slope = ee.Terrain.slope(elevation);\n",
    "# Calculate aspect. Units are degrees where 0=N, 90=E, 180=S, 270=W.\n",
    "# aspect = ee.Terrain.aspect(elevation);\n",
    "# terrain = ee.Terrain.products(elevation);\n",
    "\n",
    "# Add the elevation layer to the map\n",
    "# map.add_ee_layer(elevation, {'min': 70, 'max': 150, 'palette': ['006633', 'E5FFCC', '662A00', 'D8D8D8', 'F5F5F5']}, 'elevation')\n",
    "# map.add_ee_layer(slope,{'min': 0, 'max': 100, 'palette': ['006633', 'E5FFCC', '662A00', 'D8D8D8', 'F5F5F5']}, 'slope')\n",
    "# map.add_ee_layer(aspect,{'min': 0, 'max': 100, 'palette': ['006633', 'E5FFCC', '662A00', 'D8D8D8', 'F5F5F5']}, 'aspect')\n",
    "# map.add_ee_layer(terrain.select('hillshade'), {min: 0, max: 255}, 'Hillshade')\n",
    "\n",
    "# Use the ee.Terrain.products function to calculate slope, aspect, and\n",
    "# hillshade simultaneously. The output bands are appended to the input image.\n",
    "# Hillshade is calculated based on illumination azimuth=270, elevation=45.\n",
    "\n",
    "#print('ee.Terrain.products bands', terrain.bandNames());\n",
    "\n",
    "# min max should be selected given the elevation range found in the polygon\n",
    "# Add the shapefile to the map\n",
    "# in case of problems; use geopandas to create geojson from shapefile and add generated geojson into folium\n",
    "\n",
    "# Legend\n",
    "\n",
    "\n",
    "\n",
    "\n",
    "\n",
    "folium.GeoJson(\"pp_geometry.shp\", name = 'geojson').add_to(map)\n",
    "\n",
    "# display the map\n",
    "map\n"
   ]
  },
  {
   "cell_type": "code",
   "execution_count": 17,
   "id": "c21ff1e4-8485-43de-99ef-4bf1bea406bf",
   "metadata": {},
   "outputs": [],
   "source": [
    "\n",
    "\n",
    "# Get the elevation at the map center\n",
    "srtm = ee.Image('USGS/SRTMGL1_003').sample(point)\n",
    "\n",
    "# Get the elevation value at the map center\n",
    "elevation_value = srtm.get('elevation').getInfo()\n",
    "\n",
    "\n"
   ]
  },
  {
   "cell_type": "code",
   "execution_count": 30,
   "id": "f1d2674a",
   "metadata": {},
   "outputs": [
    {
     "name": "stdout",
     "output_type": "stream",
     "text": [
      "876106578\n"
     ]
    },
    {
     "ename": "AttributeError",
     "evalue": "\n\nThe image argument in 'addLayer' function must be an instance of one of ee.Image, ee.Geometry, ee.Feature or ee.FeatureCollection.",
     "output_type": "error",
     "traceback": [
      "\u001b[1;31m---------------------------------------------------------------------------\u001b[0m",
      "\u001b[1;31mAttributeError\u001b[0m                            Traceback (most recent call last)",
      "Cell \u001b[1;32mIn[30], line 18\u001b[0m\n\u001b[0;32m     16\u001b[0m polygon_shp \u001b[38;5;241m=\u001b[39m \u001b[38;5;124m'\u001b[39m\u001b[38;5;124mpp_geometry.shp\u001b[39m\u001b[38;5;124m'\u001b[39m\n\u001b[0;32m     17\u001b[0m polygon \u001b[38;5;241m=\u001b[39m geemap\u001b[38;5;241m.\u001b[39mshp_to_ee(\u001b[38;5;124m'\u001b[39m\u001b[38;5;124mpp_geometry.shp\u001b[39m\u001b[38;5;124m'\u001b[39m)\n\u001b[1;32m---> 18\u001b[0m \u001b[38;5;28;43mmap\u001b[39;49m\u001b[38;5;241;43m.\u001b[39;49m\u001b[43maddLayer\u001b[49m\u001b[43m(\u001b[49m\u001b[43mpolygon\u001b[49m\u001b[43m,\u001b[49m\u001b[43m \u001b[49m\u001b[43m{\u001b[49m\u001b[43m}\u001b[49m\u001b[43m,\u001b[49m\u001b[43m \u001b[49m\u001b[38;5;124;43m'\u001b[39;49m\u001b[38;5;124;43mtarget_area\u001b[39;49m\u001b[38;5;124;43m'\u001b[39;49m\u001b[43m)\u001b[49m\n\u001b[0;32m     20\u001b[0m \u001b[38;5;66;03m# Use the 'SRTM 30m Digital Elevation Database' dataset to get the elevation\u001b[39;00m\n\u001b[0;32m     21\u001b[0m elevation \u001b[38;5;241m=\u001b[39m ee\u001b[38;5;241m.\u001b[39mImage(\u001b[38;5;124m'\u001b[39m\u001b[38;5;124mUSGS/SRTMGL1_003\u001b[39m\u001b[38;5;124m'\u001b[39m);\n",
      "File \u001b[1;32m~\\anaconda3_2022\\envs\\WEFESiteAnalyst\\lib\\site-packages\\geemap\\foliumap.py:228\u001b[0m, in \u001b[0;36mMap.add_layer\u001b[1;34m(self, ee_object, vis_params, name, shown, opacity, **kwargs)\u001b[0m\n\u001b[0;32m    220\u001b[0m \u001b[38;5;28;01mif\u001b[39;00m (\n\u001b[0;32m    221\u001b[0m     \u001b[38;5;129;01mnot\u001b[39;00m \u001b[38;5;28misinstance\u001b[39m(ee_object, ee\u001b[38;5;241m.\u001b[39mImage)\n\u001b[0;32m    222\u001b[0m     \u001b[38;5;129;01mand\u001b[39;00m \u001b[38;5;129;01mnot\u001b[39;00m \u001b[38;5;28misinstance\u001b[39m(ee_object, ee\u001b[38;5;241m.\u001b[39mImageCollection)\n\u001b[1;32m   (...)\u001b[0m\n\u001b[0;32m    225\u001b[0m     \u001b[38;5;129;01mand\u001b[39;00m \u001b[38;5;129;01mnot\u001b[39;00m \u001b[38;5;28misinstance\u001b[39m(ee_object, ee\u001b[38;5;241m.\u001b[39mGeometry)\n\u001b[0;32m    226\u001b[0m ):\n\u001b[0;32m    227\u001b[0m     err_str \u001b[38;5;241m=\u001b[39m \u001b[38;5;124m\"\u001b[39m\u001b[38;5;130;01m\\n\u001b[39;00m\u001b[38;5;130;01m\\n\u001b[39;00m\u001b[38;5;124mThe image argument in \u001b[39m\u001b[38;5;124m'\u001b[39m\u001b[38;5;124maddLayer\u001b[39m\u001b[38;5;124m'\u001b[39m\u001b[38;5;124m function must be an instance of one of ee.Image, ee.Geometry, ee.Feature or ee.FeatureCollection.\u001b[39m\u001b[38;5;124m\"\u001b[39m\n\u001b[1;32m--> 228\u001b[0m     \u001b[38;5;28;01mraise\u001b[39;00m \u001b[38;5;167;01mAttributeError\u001b[39;00m(err_str)\n\u001b[0;32m    230\u001b[0m \u001b[38;5;28;01mif\u001b[39;00m (\n\u001b[0;32m    231\u001b[0m     \u001b[38;5;28misinstance\u001b[39m(ee_object, ee\u001b[38;5;241m.\u001b[39mgeometry\u001b[38;5;241m.\u001b[39mGeometry)\n\u001b[0;32m    232\u001b[0m     \u001b[38;5;129;01mor\u001b[39;00m \u001b[38;5;28misinstance\u001b[39m(ee_object, ee\u001b[38;5;241m.\u001b[39mfeature\u001b[38;5;241m.\u001b[39mFeature)\n\u001b[0;32m    233\u001b[0m     \u001b[38;5;129;01mor\u001b[39;00m \u001b[38;5;28misinstance\u001b[39m(ee_object, ee\u001b[38;5;241m.\u001b[39mfeaturecollection\u001b[38;5;241m.\u001b[39mFeatureCollection)\n\u001b[0;32m    234\u001b[0m ):\n\u001b[0;32m    235\u001b[0m     features \u001b[38;5;241m=\u001b[39m ee\u001b[38;5;241m.\u001b[39mFeatureCollection(ee_object)\n",
      "\u001b[1;31mAttributeError\u001b[0m: \n\nThe image argument in 'addLayer' function must be an instance of one of ee.Image, ee.Geometry, ee.Feature or ee.FeatureCollection."
     ]
    }
   ],
   "source": [
    "# Define the location for which you want to create the elevation map\n",
    "# You can use latitude and longitude coordinates or a place name\n",
    "\n",
    "lat = 37.134986\n",
    "lon = -8.853894\n",
    "location = ee.Geometry.Point(lon, lat)\n",
    "buffer = point.buffer(1000)\n",
    "\n",
    "# geemap.show_youtube('OlNlqfj4uHo')\n",
    "\n",
    "# Create a geemap map centered on the location\n",
    "map = geemap.Map(center=[lat, lon], zoom=13)\n",
    "\n",
    "# Load the shapefile from target area\n",
    "\n",
    "polygon_shp = 'pp_geometry.shp'\n",
    "polygon = geemap.shp_to_ee(polygon_shp)\n",
    "map.addLayer(polygon, {}, 'target_area')\n",
    "\n",
    "# Use the 'SRTM 30m Digital Elevation Database' dataset to get the elevation\n",
    "elevation = ee.Image('USGS/SRTMGL1_003');\n",
    "slope = ee.Terrain.slope(elevation);\n",
    "# Calculate aspect. Units are degrees where 0=N, 90=E, 180=S, 270=W.\n",
    "aspect = ee.Terrain.aspect(elevation);\n",
    "terrain = ee.Terrain.products(elevation);\n",
    "\n",
    "vis_params = {\n",
    "    'min': 0,\n",
    "    'max': 500,\n",
    "    'palette': ['006633', 'E5FFCC', '662A00', 'D8D8D8', 'F5F5F5'],\n",
    "}\n",
    "\n",
    "vis_params_slope = {\n",
    "    'min': 0,\n",
    "    'max': 100,\n",
    "    'palette': ['FFFFFF', '000000'],\n",
    "}\n",
    "\n",
    "# map.add_ee_layer(elevation, {'min': 70, 'max': 150, 'palette': ['006633', 'E5FFCC', '662A00', 'D8D8D8', 'F5F5F5']}, 'elevation')\n",
    "map.addLayer(dem, vis_params, 'elevation')\n",
    "map.addLayer(slope,{'min': 0, 'max': 100, 'palette': ['FFFFFF', '000000']}, 'slope')\n",
    "map.addLayer(aspect,{'min': 0, 'max': 100, 'palette': ['006633', 'E5FFCC', '662A00', 'D8D8D8', 'F5F5F5']}, 'aspect')\n",
    "map.addLayer(terrain.select('hillshade'), {min: 0, max: 255}, 'Hillshade')\n",
    "\n",
    "\n",
    "colors = vis_params['palette']\n",
    "vmin = vis_params['min']\n",
    "vmax = vis_params['max']\n",
    "\n",
    "map.add_colorbar_branca(vis_params = vis_params, colors=colors, vmin=vmin, vmax=vmax, layer_name=\"elevation\")\n",
    "map.add_colorbar_branca(vis_params = vis_params_slope, colors = vis_params_slope['palette'], vmin= vis_params_slope['min'], vmax= vis_params_slope['max'], layer_name=\"slope\")\n",
    "# Display the map\n",
    "map\n"
   ]
  },
  {
   "cell_type": "code",
   "execution_count": null,
   "id": "ea7e8957",
   "metadata": {},
   "outputs": [],
   "source": [
    "# set start and end date (end date will be included\n",
    "# in the time period for which data is downloaded)\n",
    "start_date, end_date = '2020-12-31', '2021-12-31'  # time in UTC choose start date one day before time of interest\n",
    "# for position east of 0° meridian for covering all hours of interest"
   ]
  },
  {
   "cell_type": "code",
   "execution_count": 5,
   "id": "057da60f",
   "metadata": {
    "scrolled": false
   },
   "outputs": [
    {
     "data": {
      "text/html": [
       "<div style=\"width:100%;\"><div style=\"position:relative;width:100%;height:0;padding-bottom:60%;\"><span style=\"color:#565656\">Make this Notebook Trusted to load map: File -> Trust Notebook</span><iframe srcdoc=\"&lt;!DOCTYPE html&gt;\n",
       "&lt;html&gt;\n",
       "&lt;head&gt;\n",
       "    \n",
       "    &lt;meta http-equiv=&quot;content-type&quot; content=&quot;text/html; charset=UTF-8&quot; /&gt;\n",
       "    \n",
       "        &lt;script&gt;\n",
       "            L_NO_TOUCH = false;\n",
       "            L_DISABLE_3D = false;\n",
       "        &lt;/script&gt;\n",
       "    \n",
       "    &lt;style&gt;html, body {width: 100%;height: 100%;margin: 0;padding: 0;}&lt;/style&gt;\n",
       "    &lt;style&gt;#map {position:absolute;top:0;bottom:0;right:0;left:0;}&lt;/style&gt;\n",
       "    &lt;script src=&quot;https://cdn.jsdelivr.net/npm/leaflet@1.9.3/dist/leaflet.js&quot;&gt;&lt;/script&gt;\n",
       "    &lt;script src=&quot;https://code.jquery.com/jquery-1.12.4.min.js&quot;&gt;&lt;/script&gt;\n",
       "    &lt;script src=&quot;https://cdn.jsdelivr.net/npm/bootstrap@5.2.2/dist/js/bootstrap.bundle.min.js&quot;&gt;&lt;/script&gt;\n",
       "    &lt;script src=&quot;https://cdnjs.cloudflare.com/ajax/libs/Leaflet.awesome-markers/2.0.2/leaflet.awesome-markers.js&quot;&gt;&lt;/script&gt;\n",
       "    &lt;link rel=&quot;stylesheet&quot; href=&quot;https://cdn.jsdelivr.net/npm/leaflet@1.9.3/dist/leaflet.css&quot;/&gt;\n",
       "    &lt;link rel=&quot;stylesheet&quot; href=&quot;https://cdn.jsdelivr.net/npm/bootstrap@5.2.2/dist/css/bootstrap.min.css&quot;/&gt;\n",
       "    &lt;link rel=&quot;stylesheet&quot; href=&quot;https://netdna.bootstrapcdn.com/bootstrap/3.0.0/css/bootstrap.min.css&quot;/&gt;\n",
       "    &lt;link rel=&quot;stylesheet&quot; href=&quot;https://cdn.jsdelivr.net/npm/@fortawesome/fontawesome-free@6.2.0/css/all.min.css&quot;/&gt;\n",
       "    &lt;link rel=&quot;stylesheet&quot; href=&quot;https://cdnjs.cloudflare.com/ajax/libs/Leaflet.awesome-markers/2.0.2/leaflet.awesome-markers.css&quot;/&gt;\n",
       "    &lt;link rel=&quot;stylesheet&quot; href=&quot;https://cdn.jsdelivr.net/gh/python-visualization/folium/folium/templates/leaflet.awesome.rotate.min.css&quot;/&gt;\n",
       "    \n",
       "            &lt;meta name=&quot;viewport&quot; content=&quot;width=device-width,\n",
       "                initial-scale=1.0, maximum-scale=1.0, user-scalable=no&quot; /&gt;\n",
       "            &lt;style&gt;\n",
       "                #map_a685f98953d04963d9a7b4d35ffc56c5 {\n",
       "                    position: relative;\n",
       "                    width: 100.0%;\n",
       "                    height: 100.0%;\n",
       "                    left: 0.0%;\n",
       "                    top: 0.0%;\n",
       "                }\n",
       "                .leaflet-container { font-size: 1rem; }\n",
       "            &lt;/style&gt;\n",
       "        \n",
       "&lt;/head&gt;\n",
       "&lt;body&gt;\n",
       "    \n",
       "    \n",
       "            &lt;div class=&quot;folium-map&quot; id=&quot;map_a685f98953d04963d9a7b4d35ffc56c5&quot; &gt;&lt;/div&gt;\n",
       "        \n",
       "&lt;/body&gt;\n",
       "&lt;script&gt;\n",
       "    \n",
       "    \n",
       "            var map_a685f98953d04963d9a7b4d35ffc56c5 = L.map(\n",
       "                &quot;map_a685f98953d04963d9a7b4d35ffc56c5&quot;,\n",
       "                {\n",
       "                    center: [45.5236, -122.675],\n",
       "                    crs: L.CRS.EPSG3857,\n",
       "                    zoom: 13,\n",
       "                    zoomControl: true,\n",
       "                    preferCanvas: false,\n",
       "                }\n",
       "            );\n",
       "\n",
       "            \n",
       "\n",
       "        \n",
       "    \n",
       "            var tile_layer_61764128a540752cfbd318f51d1e8b6a = L.tileLayer(\n",
       "                &quot;https://{s}.tile.openstreetmap.org/{z}/{x}/{y}.png&quot;,\n",
       "                {&quot;attribution&quot;: &quot;Data by \\u0026copy; \\u003ca target=\\&quot;_blank\\&quot; href=\\&quot;http://openstreetmap.org\\&quot;\\u003eOpenStreetMap\\u003c/a\\u003e, under \\u003ca target=\\&quot;_blank\\&quot; href=\\&quot;http://www.openstreetmap.org/copyright\\&quot;\\u003eODbL\\u003c/a\\u003e.&quot;, &quot;detectRetina&quot;: false, &quot;maxNativeZoom&quot;: 18, &quot;maxZoom&quot;: 18, &quot;minZoom&quot;: 0, &quot;noWrap&quot;: false, &quot;opacity&quot;: 1, &quot;subdomains&quot;: &quot;abc&quot;, &quot;tms&quot;: false}\n",
       "            ).addTo(map_a685f98953d04963d9a7b4d35ffc56c5);\n",
       "        \n",
       "    \n",
       "            var tile_layer_39e48bf60c694eb7e425fd7f713be102 = L.tileLayer(\n",
       "                &quot;https://mt1.google.com/vt/lyrs=p\\u0026x={x}\\u0026y={y}\\u0026z={z}&quot;,\n",
       "                {&quot;attribution&quot;: &quot;Google&quot;, &quot;detectRetina&quot;: false, &quot;maxNativeZoom&quot;: 18, &quot;maxZoom&quot;: 18, &quot;minZoom&quot;: 0, &quot;noWrap&quot;: false, &quot;opacity&quot;: 1, &quot;overlays&quot;: [&quot;Google Terrain&quot;], &quot;subdomains&quot;: &quot;abc&quot;, &quot;tms&quot;: false}\n",
       "            ).addTo(map_a685f98953d04963d9a7b4d35ffc56c5);\n",
       "        \n",
       "    \n",
       "            var tile_layer_31578d2d2c01ffbc8f88cabb1517bd06 = L.tileLayer(\n",
       "                &quot;https://elevation-tiles-prod.s3.amazonaws.com/terrarium/{z}/{x}/{y}.png&quot;,\n",
       "                {&quot;attribution&quot;: &quot;Mapbox&quot;, &quot;detectRetina&quot;: false, &quot;maxNativeZoom&quot;: 18, &quot;maxZoom&quot;: 18, &quot;minZoom&quot;: 0, &quot;noWrap&quot;: false, &quot;opacity&quot;: 1, &quot;overlays&quot;: [&quot;Contours&quot;], &quot;subdomains&quot;: &quot;abc&quot;, &quot;tms&quot;: false}\n",
       "            ).addTo(map_a685f98953d04963d9a7b4d35ffc56c5);\n",
       "        \n",
       "&lt;/script&gt;\n",
       "&lt;/html&gt;\" style=\"position:absolute;width:100%;height:100%;left:0;top:0;border:none !important;\" allowfullscreen webkitallowfullscreen mozallowfullscreen></iframe></div></div>"
      ],
      "text/plain": [
       "<folium.folium.Map at 0x13abd28f190>"
      ]
     },
     "execution_count": 5,
     "metadata": {},
     "output_type": "execute_result"
    }
   ],
   "source": [
    "\n",
    "\n",
    "\n",
    "\n"
   ]
  },
  {
   "cell_type": "code",
   "execution_count": null,
   "id": "c3a93934",
   "metadata": {},
   "outputs": [],
   "source": [
    "# download era5 dataset\n",
    "\n",
    "variable = \"wefesiteanalyst\"\n",
    "target_file = 'era5_wefesiteanalyst_'+name+'.nc'\n",
    "print(target_file)\n",
    "\n",
    "ds = era5.get_era5_data_from_datespan_and_position(\n",
    "    variable=variable,\n",
    "    start_date=start_date, end_date=end_date,\n",
    "    latitude=latitude, longitude=longitude,\n",
    "    target_file=target_file)"
   ]
  },
  {
   "cell_type": "code",
   "execution_count": 18,
   "id": "ccbd3974",
   "metadata": {},
   "outputs": [
    {
     "ename": "AttributeError",
     "evalue": "'Image' object has no attribute 'contour'",
     "output_type": "error",
     "traceback": [
      "\u001b[1;31m---------------------------------------------------------------------------\u001b[0m",
      "\u001b[1;31mAttributeError\u001b[0m                            Traceback (most recent call last)",
      "Cell \u001b[1;32mIn[18], line 22\u001b[0m\n\u001b[0;32m     19\u001b[0m roi \u001b[38;5;241m=\u001b[39m ee\u001b[38;5;241m.\u001b[39mGeometry\u001b[38;5;241m.\u001b[39mRectangle([\u001b[38;5;241m-\u001b[39m\u001b[38;5;241m122.35\u001b[39m, \u001b[38;5;241m37.75\u001b[39m, \u001b[38;5;241m-\u001b[39m\u001b[38;5;241m121.75\u001b[39m, \u001b[38;5;241m37.25\u001b[39m])\n\u001b[0;32m     21\u001b[0m \u001b[38;5;66;03m# Now, we can generate the contour lines for the ROI and convert them to a FeatureCollection.\u001b[39;00m\n\u001b[1;32m---> 22\u001b[0m contours \u001b[38;5;241m=\u001b[39m \u001b[43mgenerate_contours\u001b[49m\u001b[43m(\u001b[49m\u001b[43mroi\u001b[49m\u001b[43m)\u001b[49m\u001b[38;5;241m.\u001b[39mfilterMetadata(\u001b[38;5;124m'\u001b[39m\u001b[38;5;124melevation\u001b[39m\u001b[38;5;124m'\u001b[39m, \u001b[38;5;124m'\u001b[39m\u001b[38;5;124mgreater_than\u001b[39m\u001b[38;5;124m'\u001b[39m, min_elevation)\u001b[38;5;241m.\u001b[39mfilterMetadata(\u001b[38;5;124m'\u001b[39m\u001b[38;5;124melevation\u001b[39m\u001b[38;5;124m'\u001b[39m, \u001b[38;5;124m'\u001b[39m\u001b[38;5;124mless_than\u001b[39m\u001b[38;5;124m'\u001b[39m, max_elevation)\n\u001b[0;32m     24\u001b[0m \u001b[38;5;66;03m# Now, we can use folium to visualize the contour lines on a map.\u001b[39;00m\n\u001b[0;32m     25\u001b[0m \u001b[38;5;66;03m# First, we need to define the base map that we will use.\u001b[39;00m\n\u001b[0;32m     26\u001b[0m \u001b[38;5;66;03m# You can adjust the zoom level and starting coordinates to change the map view.\u001b[39;00m\n\u001b[0;32m     27\u001b[0m m \u001b[38;5;241m=\u001b[39m folium\u001b[38;5;241m.\u001b[39mMap(location\u001b[38;5;241m=\u001b[39m[\u001b[38;5;241m37.5\u001b[39m, \u001b[38;5;241m-\u001b[39m\u001b[38;5;241m122.0\u001b[39m], zoom_start\u001b[38;5;241m=\u001b[39m\u001b[38;5;241m10\u001b[39m)\n",
      "Cell \u001b[1;32mIn[18], line 13\u001b[0m, in \u001b[0;36mgenerate_contours\u001b[1;34m(geometry)\u001b[0m\n\u001b[0;32m     11\u001b[0m \u001b[38;5;28;01mdef\u001b[39;00m \u001b[38;5;21mgenerate_contours\u001b[39m(geometry):\n\u001b[0;32m     12\u001b[0m   srtm \u001b[38;5;241m=\u001b[39m ee\u001b[38;5;241m.\u001b[39mImage(\u001b[38;5;124m\"\u001b[39m\u001b[38;5;124mCGIAR/SRTM90_V4\u001b[39m\u001b[38;5;124m\"\u001b[39m)\n\u001b[1;32m---> 13\u001b[0m   contours \u001b[38;5;241m=\u001b[39m \u001b[43msrtm\u001b[49m\u001b[38;5;241;43m.\u001b[39;49m\u001b[43mcontour\u001b[49m(contour_interval, geometry)\u001b[38;5;241m.\u001b[39mstyle(color\u001b[38;5;241m=\u001b[39m\u001b[38;5;124m'\u001b[39m\u001b[38;5;124mblack\u001b[39m\u001b[38;5;124m'\u001b[39m, width\u001b[38;5;241m=\u001b[39m\u001b[38;5;241m1\u001b[39m)\n\u001b[0;32m     14\u001b[0m   \u001b[38;5;28;01mreturn\u001b[39;00m contours\n",
      "\u001b[1;31mAttributeError\u001b[0m: 'Image' object has no attribute 'contour'"
     ]
    }
   ],
   "source": []
  },
  {
   "cell_type": "code",
   "execution_count": null,
   "id": "066bee93",
   "metadata": {},
   "outputs": [],
   "source": [
    "era5_wefe = pd.read_csv(r\"wefe.csv\")\n",
    "era5_wefe.head()"
   ]
  },
  {
   "cell_type": "code",
   "execution_count": 6,
   "id": "4ca74591",
   "metadata": {},
   "outputs": [
    {
     "ename": "ValueError",
     "evalue": "Custom tiles must have an attribution.",
     "output_type": "error",
     "traceback": [
      "\u001b[1;31m---------------------------------------------------------------------------\u001b[0m",
      "\u001b[1;31mValueError\u001b[0m                                Traceback (most recent call last)",
      "Cell \u001b[1;32mIn[6], line 5\u001b[0m\n\u001b[0;32m      2\u001b[0m m \u001b[38;5;241m=\u001b[39m folium\u001b[38;5;241m.\u001b[39mMap(location\u001b[38;5;241m=\u001b[39m[\u001b[38;5;241m45.5236\u001b[39m, \u001b[38;5;241m-\u001b[39m\u001b[38;5;241m122.6750\u001b[39m], zoom_start\u001b[38;5;241m=\u001b[39m\u001b[38;5;241m13\u001b[39m)\n\u001b[0;32m      4\u001b[0m \u001b[38;5;66;03m# Add the Google Maps terrain layer as a basemap\u001b[39;00m\n\u001b[1;32m----> 5\u001b[0m \u001b[43mfolium\u001b[49m\u001b[38;5;241;43m.\u001b[39;49m\u001b[43mTileLayer\u001b[49m\u001b[43m(\u001b[49m\u001b[38;5;124;43m'\u001b[39;49m\u001b[38;5;124;43mterrain\u001b[39;49m\u001b[38;5;124;43m'\u001b[39;49m\u001b[43m,\u001b[49m\u001b[43m \u001b[49m\u001b[43mname\u001b[49m\u001b[38;5;241;43m=\u001b[39;49m\u001b[38;5;124;43m'\u001b[39;49m\u001b[38;5;124;43mGoogle Maps Terrain\u001b[39;49m\u001b[38;5;124;43m'\u001b[39;49m\u001b[43m)\u001b[49m\u001b[38;5;241m.\u001b[39madd_to(m)\n\u001b[0;32m      7\u001b[0m \u001b[38;5;66;03m# Add numbered contour lines as a basemap\u001b[39;00m\n\u001b[0;32m      8\u001b[0m folium\u001b[38;5;241m.\u001b[39mContour(\n\u001b[0;32m      9\u001b[0m     {\n\u001b[0;32m     10\u001b[0m         \u001b[38;5;124m\"\u001b[39m\u001b[38;5;124murl\u001b[39m\u001b[38;5;124m\"\u001b[39m: \u001b[38;5;124m\"\u001b[39m\u001b[38;5;124mhttps://elevation-tiles-prod.s3.amazonaws.com/terrarium/\u001b[39m\u001b[38;5;132;01m{z}\u001b[39;00m\u001b[38;5;124m/\u001b[39m\u001b[38;5;132;01m{x}\u001b[39;00m\u001b[38;5;124m/\u001b[39m\u001b[38;5;132;01m{y}\u001b[39;00m\u001b[38;5;124m.png\u001b[39m\u001b[38;5;124m\"\u001b[39m,\n\u001b[1;32m   (...)\u001b[0m\n\u001b[0;32m     15\u001b[0m     }\n\u001b[0;32m     16\u001b[0m )\u001b[38;5;241m.\u001b[39madd_to(m)\n",
      "File \u001b[1;32m~\\anaconda3_2022\\envs\\WEFESiteAnalyst\\lib\\site-packages\\folium\\raster_layers.py:135\u001b[0m, in \u001b[0;36mTileLayer.__init__\u001b[1;34m(self, tiles, min_zoom, max_zoom, max_native_zoom, attr, detect_retina, name, overlay, control, show, no_wrap, subdomains, tms, opacity, **kwargs)\u001b[0m\n\u001b[0;32m    133\u001b[0m     \u001b[38;5;28mself\u001b[39m\u001b[38;5;241m.\u001b[39mtiles \u001b[38;5;241m=\u001b[39m tiles\n\u001b[0;32m    134\u001b[0m     \u001b[38;5;28;01mif\u001b[39;00m \u001b[38;5;129;01mnot\u001b[39;00m attr:\n\u001b[1;32m--> 135\u001b[0m         \u001b[38;5;28;01mraise\u001b[39;00m \u001b[38;5;167;01mValueError\u001b[39;00m(\u001b[38;5;124m\"\u001b[39m\u001b[38;5;124mCustom tiles must have an attribution.\u001b[39m\u001b[38;5;124m\"\u001b[39m)\n\u001b[0;32m    137\u001b[0m \u001b[38;5;28mself\u001b[39m\u001b[38;5;241m.\u001b[39moptions \u001b[38;5;241m=\u001b[39m parse_options(\n\u001b[0;32m    138\u001b[0m     min_zoom\u001b[38;5;241m=\u001b[39mmin_zoom,\n\u001b[0;32m    139\u001b[0m     max_zoom\u001b[38;5;241m=\u001b[39mmax_zoom,\n\u001b[1;32m   (...)\u001b[0m\n\u001b[0;32m    147\u001b[0m     \u001b[38;5;241m*\u001b[39m\u001b[38;5;241m*\u001b[39mkwargs\n\u001b[0;32m    148\u001b[0m )\n",
      "\u001b[1;31mValueError\u001b[0m: Custom tiles must have an attribution."
     ]
    }
   ],
   "source": []
  },
  {
   "cell_type": "code",
   "execution_count": null,
   "id": "78f0329f",
   "metadata": {},
   "outputs": [],
   "source": [
    "# plot global horizontal irradiance\n",
    "import matplotlib.pyplot as plt\n",
    "\n",
    "era5_wefe.loc[:, ['ghi']].plot(title='Irradiance')\n",
    "plt.xlabel('Time')\n",
    "plt.ylabel('Irradiance in $W/m^2$')"
   ]
  },
  {
   "cell_type": "code",
   "execution_count": null,
   "id": "47267a75",
   "metadata": {},
   "outputs": [],
   "source": []
  }
 ],
 "metadata": {
  "kernelspec": {
   "display_name": "Python 3 (ipykernel)",
   "language": "python",
   "name": "python3"
  },
  "language_info": {
   "codemirror_mode": {
    "name": "ipython",
    "version": 3
   },
   "file_extension": ".py",
   "mimetype": "text/x-python",
   "name": "python",
   "nbconvert_exporter": "python",
   "pygments_lexer": "ipython3",
   "version": "3.9.15"
  },
  "varInspector": {
   "cols": {
    "lenName": 16,
    "lenType": 16,
    "lenVar": 40
   },
   "kernels_config": {
    "python": {
     "delete_cmd_postfix": "",
     "delete_cmd_prefix": "del ",
     "library": "var_list.py",
     "varRefreshCmd": "print(var_dic_list())"
    },
    "r": {
     "delete_cmd_postfix": ") ",
     "delete_cmd_prefix": "rm(",
     "library": "var_list.r",
     "varRefreshCmd": "cat(var_dic_list()) "
    }
   },
   "position": {
    "height": "144.83px",
    "left": "1374.45px",
    "right": "20px",
    "top": "120px",
    "width": "350px"
   },
   "types_to_exclude": [
    "module",
    "function",
    "builtin_function_or_method",
    "instance",
    "_Feature"
   ],
   "window_display": true
  }
 },
 "nbformat": 4,
 "nbformat_minor": 5
}

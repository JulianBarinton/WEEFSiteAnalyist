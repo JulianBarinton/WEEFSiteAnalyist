{
 "cells": [
  {
   "cell_type": "markdown",
   "id": "cde045ab",
   "metadata": {},
   "source": [
    "# WEFE Site Analyst Tool\n",
    "## implemented in Jupyter Notebook and applied for a Case Study in Portugal"
   ]
  },
  {
   "cell_type": "markdown",
   "id": "bc4a3874",
   "metadata": {},
   "source": [
    "This Jupyter Notebook collects environmental and socioeconomic data for the planning of integrated water, energy, food, and environment systems from open servers."
   ]
  },
  {
   "cell_type": "code",
   "execution_count": 13,
   "id": "da821e89",
   "metadata": {},
   "outputs": [],
   "source": [
    "# imports\n",
    "import os\n",
    "import pandas as pd\n",
    "import matplotlib.pyplot as plt\n",
    "# import files from source\n",
    "os.chdir(\"../../src/\")\n",
    "import era5\n",
    "import ee_layer\n",
    "os.chdir(\"../examples/Portugal\")"
   ]
  },
  {
   "cell_type": "code",
   "execution_count": 10,
   "id": "e7efdf48",
   "metadata": {},
   "outputs": [
    {
     "data": {
      "text/html": [
       "<p>To authorize access needed by Earth Engine, open the following\n",
       "        URL in a web browser and follow the instructions:</p>\n",
       "        <p><a href=https://code.earthengine.google.com/client-auth?scopes=https%3A//www.googleapis.com/auth/earthengine%20https%3A//www.googleapis.com/auth/devstorage.full_control&request_id=7oyTFLoka2jtb7ZdlhuaUUjEjr8eaIlIvrKRDHrfXO4&tc=Aj2Q6aVXHMCt61BH0Alr6kJeJUGgMrNas3WFLEmhwxM&cc=b2SC-eOrODlOC0YoIceCgCXinVmCFb2L14HRrqny3Io>https://code.earthengine.google.com/client-auth?scopes=https%3A//www.googleapis.com/auth/earthengine%20https%3A//www.googleapis.com/auth/devstorage.full_control&request_id=7oyTFLoka2jtb7ZdlhuaUUjEjr8eaIlIvrKRDHrfXO4&tc=Aj2Q6aVXHMCt61BH0Alr6kJeJUGgMrNas3WFLEmhwxM&cc=b2SC-eOrODlOC0YoIceCgCXinVmCFb2L14HRrqny3Io</a></p>\n",
       "        <p>The authorization workflow will generate a code, which you should paste in the box below.</p>\n",
       "        "
      ],
      "text/plain": [
       "<IPython.core.display.HTML object>"
      ]
     },
     "metadata": {},
     "output_type": "display_data"
    },
    {
     "name": "stdin",
     "output_type": "stream",
     "text": [
      "Enter verification code:  4/1AWgavdeBwNDp5xhNCorJCNHqNpQvbM41WeJ8AQksxO0ChT9E4meNVki7uhI\n"
     ]
    },
    {
     "name": "stdout",
     "output_type": "stream",
     "text": [
      "\n",
      "Successfully saved authorization token.\n"
     ]
    }
   ],
   "source": [
    "# initiate earth engine\n",
    "import ee\n",
    "\n",
    "# Trigger the authentication flow.\n",
    "ee.Authenticate()\n",
    "\n",
    "# Initialize the library.\n",
    "ee.Initialize()"
   ]
  },
  {
   "cell_type": "code",
   "execution_count": 14,
   "id": "8b95e744",
   "metadata": {},
   "outputs": [],
   "source": [
    "# provide case study name\n",
    "name = 'permontanha'\n",
    "# coordinates\n",
    "lat = 37.134986\n",
    "lon = -8.853894\n",
    "# set center of maps and zoom level\n",
    "center = [lat, lon]\n",
    "zoom = 17"
   ]
  },
  {
   "cell_type": "code",
   "execution_count": 19,
   "id": "8baaeffb-7c39-42fb-b22f-094aa0aff7f8",
   "metadata": {},
   "outputs": [
    {
     "data": {
      "text/html": [
       "<div style=\"width:100%;\"><div style=\"position:relative;width:100%;height:0;padding-bottom:60%;\"><span style=\"color:#565656\">Make this Notebook Trusted to load map: File -> Trust Notebook</span><iframe srcdoc=\"&lt;!DOCTYPE html&gt;\n",
       "&lt;html&gt;\n",
       "&lt;head&gt;\n",
       "    \n",
       "    &lt;meta http-equiv=&quot;content-type&quot; content=&quot;text/html; charset=UTF-8&quot; /&gt;\n",
       "    \n",
       "        &lt;script&gt;\n",
       "            L_NO_TOUCH = false;\n",
       "            L_DISABLE_3D = false;\n",
       "        &lt;/script&gt;\n",
       "    \n",
       "    &lt;style&gt;html, body {width: 100%;height: 100%;margin: 0;padding: 0;}&lt;/style&gt;\n",
       "    &lt;style&gt;#map {position:absolute;top:0;bottom:0;right:0;left:0;}&lt;/style&gt;\n",
       "    &lt;script src=&quot;https://cdn.jsdelivr.net/npm/leaflet@1.9.3/dist/leaflet.js&quot;&gt;&lt;/script&gt;\n",
       "    &lt;script src=&quot;https://code.jquery.com/jquery-1.12.4.min.js&quot;&gt;&lt;/script&gt;\n",
       "    &lt;script src=&quot;https://cdn.jsdelivr.net/npm/bootstrap@5.2.2/dist/js/bootstrap.bundle.min.js&quot;&gt;&lt;/script&gt;\n",
       "    &lt;script src=&quot;https://cdnjs.cloudflare.com/ajax/libs/Leaflet.awesome-markers/2.0.2/leaflet.awesome-markers.js&quot;&gt;&lt;/script&gt;\n",
       "    &lt;link rel=&quot;stylesheet&quot; href=&quot;https://cdn.jsdelivr.net/npm/leaflet@1.9.3/dist/leaflet.css&quot;/&gt;\n",
       "    &lt;link rel=&quot;stylesheet&quot; href=&quot;https://cdn.jsdelivr.net/npm/bootstrap@5.2.2/dist/css/bootstrap.min.css&quot;/&gt;\n",
       "    &lt;link rel=&quot;stylesheet&quot; href=&quot;https://netdna.bootstrapcdn.com/bootstrap/3.0.0/css/bootstrap.min.css&quot;/&gt;\n",
       "    &lt;link rel=&quot;stylesheet&quot; href=&quot;https://cdn.jsdelivr.net/npm/@fortawesome/fontawesome-free@6.2.0/css/all.min.css&quot;/&gt;\n",
       "    &lt;link rel=&quot;stylesheet&quot; href=&quot;https://cdnjs.cloudflare.com/ajax/libs/Leaflet.awesome-markers/2.0.2/leaflet.awesome-markers.css&quot;/&gt;\n",
       "    &lt;link rel=&quot;stylesheet&quot; href=&quot;https://cdn.jsdelivr.net/gh/python-visualization/folium/folium/templates/leaflet.awesome.rotate.min.css&quot;/&gt;\n",
       "    \n",
       "            &lt;meta name=&quot;viewport&quot; content=&quot;width=device-width,\n",
       "                initial-scale=1.0, maximum-scale=1.0, user-scalable=no&quot; /&gt;\n",
       "            &lt;style&gt;\n",
       "                #map_f5ae65ae54cccadb4e5a3e16ebe642a6 {\n",
       "                    position: relative;\n",
       "                    width: 100.0%;\n",
       "                    height: 100.0%;\n",
       "                    left: 0.0%;\n",
       "                    top: 0.0%;\n",
       "                }\n",
       "                .leaflet-container { font-size: 1rem; }\n",
       "            &lt;/style&gt;\n",
       "        \n",
       "&lt;/head&gt;\n",
       "&lt;body&gt;\n",
       "    \n",
       "    \n",
       "            &lt;div class=&quot;folium-map&quot; id=&quot;map_f5ae65ae54cccadb4e5a3e16ebe642a6&quot; &gt;&lt;/div&gt;\n",
       "        \n",
       "&lt;/body&gt;\n",
       "&lt;script&gt;\n",
       "    \n",
       "    \n",
       "            var map_f5ae65ae54cccadb4e5a3e16ebe642a6 = L.map(\n",
       "                &quot;map_f5ae65ae54cccadb4e5a3e16ebe642a6&quot;,\n",
       "                {\n",
       "                    center: [37.134986, -8.853894],\n",
       "                    crs: L.CRS.EPSG3857,\n",
       "                    zoom: 17,\n",
       "                    zoomControl: true,\n",
       "                    preferCanvas: false,\n",
       "                }\n",
       "            );\n",
       "\n",
       "            \n",
       "\n",
       "        \n",
       "    \n",
       "            var tile_layer_b9d0d713b00058e036a7cc4bb544774c = L.tileLayer(\n",
       "                &quot;https://{s}.tile.openstreetmap.org/{z}/{x}/{y}.png&quot;,\n",
       "                {&quot;attribution&quot;: &quot;Data by \\u0026copy; \\u003ca target=\\&quot;_blank\\&quot; href=\\&quot;http://openstreetmap.org\\&quot;\\u003eOpenStreetMap\\u003c/a\\u003e, under \\u003ca target=\\&quot;_blank\\&quot; href=\\&quot;http://www.openstreetmap.org/copyright\\&quot;\\u003eODbL\\u003c/a\\u003e.&quot;, &quot;detectRetina&quot;: false, &quot;maxNativeZoom&quot;: 18, &quot;maxZoom&quot;: 18, &quot;minZoom&quot;: 0, &quot;noWrap&quot;: false, &quot;opacity&quot;: 1, &quot;subdomains&quot;: &quot;abc&quot;, &quot;tms&quot;: false}\n",
       "            ).addTo(map_f5ae65ae54cccadb4e5a3e16ebe642a6);\n",
       "        \n",
       "    \n",
       "\n",
       "        function geo_json_1dd118d2f8774f6345b5e9537729fe96_onEachFeature(feature, layer) {\n",
       "            layer.on({\n",
       "            });\n",
       "        };\n",
       "        var geo_json_1dd118d2f8774f6345b5e9537729fe96 = L.geoJson(null, {\n",
       "                onEachFeature: geo_json_1dd118d2f8774f6345b5e9537729fe96_onEachFeature,\n",
       "            \n",
       "        });\n",
       "\n",
       "        function geo_json_1dd118d2f8774f6345b5e9537729fe96_add (data) {\n",
       "            geo_json_1dd118d2f8774f6345b5e9537729fe96\n",
       "                .addData(data)\n",
       "                .addTo(map_f5ae65ae54cccadb4e5a3e16ebe642a6);\n",
       "        }\n",
       "            geo_json_1dd118d2f8774f6345b5e9537729fe96_add({&quot;crs&quot;: {&quot;properties&quot;: {&quot;name&quot;: &quot;urn:ogc:def:crs:OGC:1.3:CRS84&quot;}, &quot;type&quot;: &quot;name&quot;}, &quot;features&quot;: [{&quot;geometry&quot;: {&quot;coordinates&quot;: [[[-8.854397164323958, 37.13384347121716], [-8.854705519411379, 37.1338743067259], [-8.854940640165536, 37.13403233870821], [-8.85511408990221, 37.13407859197132], [-8.85546484381415, 37.13419037069051], [-8.855279830761699, 37.13458352342697], [-8.855040855568948, 37.1348841696372], [-8.85476333599027, 37.135134708145735], [-8.853217706114576, 37.13589017810991], [-8.853202288360205, 37.135963412443175], [-8.852123045554233, 37.13587090591695], [-8.852350457431205, 37.135616512969825], [-8.852786008992187, 37.13519252472462], [-8.852839971132486, 37.13514241702292], [-8.853040401939309, 37.134880315198615], [-8.853352611465322, 37.1346721755146], [-8.853637839921186, 37.13443705476045], [-8.85399244827172, 37.134132554111616], [-8.854397164323958, 37.13384347121716]]], &quot;type&quot;: &quot;Polygon&quot;}, &quot;properties&quot;: {&quot;id&quot;: 1}, &quot;type&quot;: &quot;Feature&quot;}], &quot;type&quot;: &quot;FeatureCollection&quot;});\n",
       "\n",
       "        \n",
       "&lt;/script&gt;\n",
       "&lt;/html&gt;\" style=\"position:absolute;width:100%;height:100%;left:0;top:0;border:none !important;\" allowfullscreen webkitallowfullscreen mozallowfullscreen></iframe></div></div>"
      ],
      "text/plain": [
       "<folium.folium.Map at 0x20b62b18340>"
      ]
     },
     "execution_count": 19,
     "metadata": {},
     "output_type": "execute_result"
    }
   ],
   "source": [
    "# create a folium elevation map\n",
    "map = folium.Map(location=center, zoom_start=zoom)\n",
    "\n",
    "# Load the shapefile as GeoJsnon into folium map/ better: create shapefile from points\n",
    "folium.GeoJson(\"pp_geometry.shp\", name = 'geojson').add_to(map) \n",
    "point = ee.Geometry.Point(lon, lat)\n",
    "buffer = point.buffer(1000)\n",
    "\n",
    "# Define the study area as a Geometry object\n",
    "# study_area = ee.Geometry.Polygon(\n",
    "#    [[[-122.44, 37.75],\n",
    "#      [-122.44, 37.63],\n",
    "#      [-122.35, 37.63],\n",
    "#      [-122.35, 37.75]]])\n",
    "# display the map\n",
    "map"
   ]
  },
  {
   "cell_type": "code",
   "execution_count": 23,
   "id": "753f2a98",
   "metadata": {},
   "outputs": [
    {
     "data": {
      "text/html": [
       "<div style=\"width:100%;\"><div style=\"position:relative;width:100%;height:0;padding-bottom:60%;\"><span style=\"color:#565656\">Make this Notebook Trusted to load map: File -> Trust Notebook</span><iframe srcdoc=\"&lt;!DOCTYPE html&gt;\n",
       "&lt;html&gt;\n",
       "&lt;head&gt;\n",
       "    \n",
       "    &lt;meta http-equiv=&quot;content-type&quot; content=&quot;text/html; charset=UTF-8&quot; /&gt;\n",
       "    \n",
       "        &lt;script&gt;\n",
       "            L_NO_TOUCH = false;\n",
       "            L_DISABLE_3D = false;\n",
       "        &lt;/script&gt;\n",
       "    \n",
       "    &lt;style&gt;html, body {width: 100%;height: 100%;margin: 0;padding: 0;}&lt;/style&gt;\n",
       "    &lt;style&gt;#map {position:absolute;top:0;bottom:0;right:0;left:0;}&lt;/style&gt;\n",
       "    &lt;script src=&quot;https://cdn.jsdelivr.net/npm/leaflet@1.9.3/dist/leaflet.js&quot;&gt;&lt;/script&gt;\n",
       "    &lt;script src=&quot;https://code.jquery.com/jquery-1.12.4.min.js&quot;&gt;&lt;/script&gt;\n",
       "    &lt;script src=&quot;https://cdn.jsdelivr.net/npm/bootstrap@5.2.2/dist/js/bootstrap.bundle.min.js&quot;&gt;&lt;/script&gt;\n",
       "    &lt;script src=&quot;https://cdnjs.cloudflare.com/ajax/libs/Leaflet.awesome-markers/2.0.2/leaflet.awesome-markers.js&quot;&gt;&lt;/script&gt;\n",
       "    &lt;link rel=&quot;stylesheet&quot; href=&quot;https://cdn.jsdelivr.net/npm/leaflet@1.9.3/dist/leaflet.css&quot;/&gt;\n",
       "    &lt;link rel=&quot;stylesheet&quot; href=&quot;https://cdn.jsdelivr.net/npm/bootstrap@5.2.2/dist/css/bootstrap.min.css&quot;/&gt;\n",
       "    &lt;link rel=&quot;stylesheet&quot; href=&quot;https://netdna.bootstrapcdn.com/bootstrap/3.0.0/css/bootstrap.min.css&quot;/&gt;\n",
       "    &lt;link rel=&quot;stylesheet&quot; href=&quot;https://cdn.jsdelivr.net/npm/@fortawesome/fontawesome-free@6.2.0/css/all.min.css&quot;/&gt;\n",
       "    &lt;link rel=&quot;stylesheet&quot; href=&quot;https://cdnjs.cloudflare.com/ajax/libs/Leaflet.awesome-markers/2.0.2/leaflet.awesome-markers.css&quot;/&gt;\n",
       "    &lt;link rel=&quot;stylesheet&quot; href=&quot;https://cdn.jsdelivr.net/gh/python-visualization/folium/folium/templates/leaflet.awesome.rotate.min.css&quot;/&gt;\n",
       "    \n",
       "            &lt;meta name=&quot;viewport&quot; content=&quot;width=device-width,\n",
       "                initial-scale=1.0, maximum-scale=1.0, user-scalable=no&quot; /&gt;\n",
       "            &lt;style&gt;\n",
       "                #map_f5ae65ae54cccadb4e5a3e16ebe642a6 {\n",
       "                    position: relative;\n",
       "                    width: 100.0%;\n",
       "                    height: 100.0%;\n",
       "                    left: 0.0%;\n",
       "                    top: 0.0%;\n",
       "                }\n",
       "                .leaflet-container { font-size: 1rem; }\n",
       "            &lt;/style&gt;\n",
       "        \n",
       "&lt;/head&gt;\n",
       "&lt;body&gt;\n",
       "    \n",
       "    \n",
       "            &lt;div class=&quot;folium-map&quot; id=&quot;map_f5ae65ae54cccadb4e5a3e16ebe642a6&quot; &gt;&lt;/div&gt;\n",
       "        \n",
       "&lt;/body&gt;\n",
       "&lt;script&gt;\n",
       "    \n",
       "    \n",
       "            var map_f5ae65ae54cccadb4e5a3e16ebe642a6 = L.map(\n",
       "                &quot;map_f5ae65ae54cccadb4e5a3e16ebe642a6&quot;,\n",
       "                {\n",
       "                    center: [37.134986, -8.853894],\n",
       "                    crs: L.CRS.EPSG3857,\n",
       "                    zoom: 17,\n",
       "                    zoomControl: true,\n",
       "                    preferCanvas: false,\n",
       "                }\n",
       "            );\n",
       "\n",
       "            \n",
       "\n",
       "        \n",
       "    \n",
       "            var tile_layer_b9d0d713b00058e036a7cc4bb544774c = L.tileLayer(\n",
       "                &quot;https://{s}.tile.openstreetmap.org/{z}/{x}/{y}.png&quot;,\n",
       "                {&quot;attribution&quot;: &quot;Data by \\u0026copy; \\u003ca target=\\&quot;_blank\\&quot; href=\\&quot;http://openstreetmap.org\\&quot;\\u003eOpenStreetMap\\u003c/a\\u003e, under \\u003ca target=\\&quot;_blank\\&quot; href=\\&quot;http://www.openstreetmap.org/copyright\\&quot;\\u003eODbL\\u003c/a\\u003e.&quot;, &quot;detectRetina&quot;: false, &quot;maxNativeZoom&quot;: 18, &quot;maxZoom&quot;: 18, &quot;minZoom&quot;: 0, &quot;noWrap&quot;: false, &quot;opacity&quot;: 1, &quot;subdomains&quot;: &quot;abc&quot;, &quot;tms&quot;: false}\n",
       "            ).addTo(map_f5ae65ae54cccadb4e5a3e16ebe642a6);\n",
       "        \n",
       "    \n",
       "\n",
       "        function geo_json_1dd118d2f8774f6345b5e9537729fe96_onEachFeature(feature, layer) {\n",
       "            layer.on({\n",
       "            });\n",
       "        };\n",
       "        var geo_json_1dd118d2f8774f6345b5e9537729fe96 = L.geoJson(null, {\n",
       "                onEachFeature: geo_json_1dd118d2f8774f6345b5e9537729fe96_onEachFeature,\n",
       "            \n",
       "        });\n",
       "\n",
       "        function geo_json_1dd118d2f8774f6345b5e9537729fe96_add (data) {\n",
       "            geo_json_1dd118d2f8774f6345b5e9537729fe96\n",
       "                .addData(data)\n",
       "                .addTo(map_f5ae65ae54cccadb4e5a3e16ebe642a6);\n",
       "        }\n",
       "            geo_json_1dd118d2f8774f6345b5e9537729fe96_add({&quot;crs&quot;: {&quot;properties&quot;: {&quot;name&quot;: &quot;urn:ogc:def:crs:OGC:1.3:CRS84&quot;}, &quot;type&quot;: &quot;name&quot;}, &quot;features&quot;: [{&quot;geometry&quot;: {&quot;coordinates&quot;: [[[-8.854397164323958, 37.13384347121716], [-8.854705519411379, 37.1338743067259], [-8.854940640165536, 37.13403233870821], [-8.85511408990221, 37.13407859197132], [-8.85546484381415, 37.13419037069051], [-8.855279830761699, 37.13458352342697], [-8.855040855568948, 37.1348841696372], [-8.85476333599027, 37.135134708145735], [-8.853217706114576, 37.13589017810991], [-8.853202288360205, 37.135963412443175], [-8.852123045554233, 37.13587090591695], [-8.852350457431205, 37.135616512969825], [-8.852786008992187, 37.13519252472462], [-8.852839971132486, 37.13514241702292], [-8.853040401939309, 37.134880315198615], [-8.853352611465322, 37.1346721755146], [-8.853637839921186, 37.13443705476045], [-8.85399244827172, 37.134132554111616], [-8.854397164323958, 37.13384347121716]]], &quot;type&quot;: &quot;Polygon&quot;}, &quot;properties&quot;: {&quot;id&quot;: 1}, &quot;type&quot;: &quot;Feature&quot;}], &quot;type&quot;: &quot;FeatureCollection&quot;});\n",
       "\n",
       "        \n",
       "    \n",
       "            var tile_layer_9c5d27aed5a9fb5faa14f87d5cfd5148 = L.tileLayer(\n",
       "                &quot;https://earthengine.googleapis.com/v1alpha/projects/earthengine-legacy/maps/12756abd31d1394f449de52d139a5ed1-96e9e670c0131f5b774879100bf00975/tiles/{z}/{x}/{y}&quot;,\n",
       "                {&quot;attribution&quot;: &quot;Map Data \\u0026copy; \\u003ca href=\\&quot;https://earthengine.google.com/\\&quot;\\u003eGoogle Earth Engine\\u003c/a\\u003e&quot;, &quot;detectRetina&quot;: false, &quot;maxNativeZoom&quot;: 18, &quot;maxZoom&quot;: 18, &quot;minZoom&quot;: 0, &quot;noWrap&quot;: false, &quot;opacity&quot;: 1, &quot;subdomains&quot;: &quot;abc&quot;, &quot;tms&quot;: false}\n",
       "            ).addTo(map_f5ae65ae54cccadb4e5a3e16ebe642a6);\n",
       "        \n",
       "    \n",
       "\n",
       "        function geo_json_6c6697c2345da953d9bf8bb98e9d9e9a_onEachFeature(feature, layer) {\n",
       "            layer.on({\n",
       "            });\n",
       "        };\n",
       "        var geo_json_6c6697c2345da953d9bf8bb98e9d9e9a = L.geoJson(null, {\n",
       "                onEachFeature: geo_json_6c6697c2345da953d9bf8bb98e9d9e9a_onEachFeature,\n",
       "            \n",
       "        });\n",
       "\n",
       "        function geo_json_6c6697c2345da953d9bf8bb98e9d9e9a_add (data) {\n",
       "            geo_json_6c6697c2345da953d9bf8bb98e9d9e9a\n",
       "                .addData(data)\n",
       "                .addTo(map_f5ae65ae54cccadb4e5a3e16ebe642a6);\n",
       "        }\n",
       "            geo_json_6c6697c2345da953d9bf8bb98e9d9e9a_add({&quot;crs&quot;: {&quot;properties&quot;: {&quot;name&quot;: &quot;urn:ogc:def:crs:OGC:1.3:CRS84&quot;}, &quot;type&quot;: &quot;name&quot;}, &quot;features&quot;: [{&quot;geometry&quot;: {&quot;coordinates&quot;: [[[-8.854397164323958, 37.13384347121716], [-8.854705519411379, 37.1338743067259], [-8.854940640165536, 37.13403233870821], [-8.85511408990221, 37.13407859197132], [-8.85546484381415, 37.13419037069051], [-8.855279830761699, 37.13458352342697], [-8.855040855568948, 37.1348841696372], [-8.85476333599027, 37.135134708145735], [-8.853217706114576, 37.13589017810991], [-8.853202288360205, 37.135963412443175], [-8.852123045554233, 37.13587090591695], [-8.852350457431205, 37.135616512969825], [-8.852786008992187, 37.13519252472462], [-8.852839971132486, 37.13514241702292], [-8.853040401939309, 37.134880315198615], [-8.853352611465322, 37.1346721755146], [-8.853637839921186, 37.13443705476045], [-8.85399244827172, 37.134132554111616], [-8.854397164323958, 37.13384347121716]]], &quot;type&quot;: &quot;Polygon&quot;}, &quot;properties&quot;: {&quot;id&quot;: 1}, &quot;type&quot;: &quot;Feature&quot;}], &quot;type&quot;: &quot;FeatureCollection&quot;});\n",
       "\n",
       "        \n",
       "    \n",
       "            var tile_layer_ddc89b1a19df1a1d07b125281d0cd04d = L.tileLayer(\n",
       "                &quot;https://earthengine.googleapis.com/v1alpha/projects/earthengine-legacy/maps/01f126085fecc9061b62d98f3e1d9370-d800d632ae41e9dd962f7368c7a79571/tiles/{z}/{x}/{y}&quot;,\n",
       "                {&quot;attribution&quot;: &quot;Map Data \\u0026copy; \\u003ca href=\\&quot;https://earthengine.google.com/\\&quot;\\u003eGoogle Earth Engine\\u003c/a\\u003e&quot;, &quot;detectRetina&quot;: false, &quot;maxNativeZoom&quot;: 18, &quot;maxZoom&quot;: 18, &quot;minZoom&quot;: 0, &quot;noWrap&quot;: false, &quot;opacity&quot;: 1, &quot;subdomains&quot;: &quot;abc&quot;, &quot;tms&quot;: false}\n",
       "            ).addTo(map_f5ae65ae54cccadb4e5a3e16ebe642a6);\n",
       "        \n",
       "    \n",
       "\n",
       "        function geo_json_2784b0acd96dcc11485954f8082777a2_onEachFeature(feature, layer) {\n",
       "            layer.on({\n",
       "            });\n",
       "        };\n",
       "        var geo_json_2784b0acd96dcc11485954f8082777a2 = L.geoJson(null, {\n",
       "                onEachFeature: geo_json_2784b0acd96dcc11485954f8082777a2_onEachFeature,\n",
       "            \n",
       "        });\n",
       "\n",
       "        function geo_json_2784b0acd96dcc11485954f8082777a2_add (data) {\n",
       "            geo_json_2784b0acd96dcc11485954f8082777a2\n",
       "                .addData(data)\n",
       "                .addTo(map_f5ae65ae54cccadb4e5a3e16ebe642a6);\n",
       "        }\n",
       "            geo_json_2784b0acd96dcc11485954f8082777a2_add({&quot;crs&quot;: {&quot;properties&quot;: {&quot;name&quot;: &quot;urn:ogc:def:crs:OGC:1.3:CRS84&quot;}, &quot;type&quot;: &quot;name&quot;}, &quot;features&quot;: [{&quot;geometry&quot;: {&quot;coordinates&quot;: [[[-8.854397164323958, 37.13384347121716], [-8.854705519411379, 37.1338743067259], [-8.854940640165536, 37.13403233870821], [-8.85511408990221, 37.13407859197132], [-8.85546484381415, 37.13419037069051], [-8.855279830761699, 37.13458352342697], [-8.855040855568948, 37.1348841696372], [-8.85476333599027, 37.135134708145735], [-8.853217706114576, 37.13589017810991], [-8.853202288360205, 37.135963412443175], [-8.852123045554233, 37.13587090591695], [-8.852350457431205, 37.135616512969825], [-8.852786008992187, 37.13519252472462], [-8.852839971132486, 37.13514241702292], [-8.853040401939309, 37.134880315198615], [-8.853352611465322, 37.1346721755146], [-8.853637839921186, 37.13443705476045], [-8.85399244827172, 37.134132554111616], [-8.854397164323958, 37.13384347121716]]], &quot;type&quot;: &quot;Polygon&quot;}, &quot;properties&quot;: {&quot;id&quot;: 1}, &quot;type&quot;: &quot;Feature&quot;}], &quot;type&quot;: &quot;FeatureCollection&quot;});\n",
       "\n",
       "        \n",
       "    \n",
       "            var tile_layer_0ea182de57c1f9e7c74eb74622d675f7 = L.tileLayer(\n",
       "                &quot;https://earthengine.googleapis.com/v1alpha/projects/earthengine-legacy/maps/54eee5726515b07908377583a58820e0-187a9103924970fd1390e4ff93d45064/tiles/{z}/{x}/{y}&quot;,\n",
       "                {&quot;attribution&quot;: &quot;Map Data \\u0026copy; \\u003ca href=\\&quot;https://earthengine.google.com/\\&quot;\\u003eGoogle Earth Engine\\u003c/a\\u003e&quot;, &quot;detectRetina&quot;: false, &quot;maxNativeZoom&quot;: 18, &quot;maxZoom&quot;: 18, &quot;minZoom&quot;: 0, &quot;noWrap&quot;: false, &quot;opacity&quot;: 1, &quot;subdomains&quot;: &quot;abc&quot;, &quot;tms&quot;: false}\n",
       "            ).addTo(map_f5ae65ae54cccadb4e5a3e16ebe642a6);\n",
       "        \n",
       "    \n",
       "\n",
       "        function geo_json_0e38f889e3c8269fae60e05ec8edced7_onEachFeature(feature, layer) {\n",
       "            layer.on({\n",
       "            });\n",
       "        };\n",
       "        var geo_json_0e38f889e3c8269fae60e05ec8edced7 = L.geoJson(null, {\n",
       "                onEachFeature: geo_json_0e38f889e3c8269fae60e05ec8edced7_onEachFeature,\n",
       "            \n",
       "        });\n",
       "\n",
       "        function geo_json_0e38f889e3c8269fae60e05ec8edced7_add (data) {\n",
       "            geo_json_0e38f889e3c8269fae60e05ec8edced7\n",
       "                .addData(data)\n",
       "                .addTo(map_f5ae65ae54cccadb4e5a3e16ebe642a6);\n",
       "        }\n",
       "            geo_json_0e38f889e3c8269fae60e05ec8edced7_add({&quot;crs&quot;: {&quot;properties&quot;: {&quot;name&quot;: &quot;urn:ogc:def:crs:OGC:1.3:CRS84&quot;}, &quot;type&quot;: &quot;name&quot;}, &quot;features&quot;: [{&quot;geometry&quot;: {&quot;coordinates&quot;: [[[-8.854397164323958, 37.13384347121716], [-8.854705519411379, 37.1338743067259], [-8.854940640165536, 37.13403233870821], [-8.85511408990221, 37.13407859197132], [-8.85546484381415, 37.13419037069051], [-8.855279830761699, 37.13458352342697], [-8.855040855568948, 37.1348841696372], [-8.85476333599027, 37.135134708145735], [-8.853217706114576, 37.13589017810991], [-8.853202288360205, 37.135963412443175], [-8.852123045554233, 37.13587090591695], [-8.852350457431205, 37.135616512969825], [-8.852786008992187, 37.13519252472462], [-8.852839971132486, 37.13514241702292], [-8.853040401939309, 37.134880315198615], [-8.853352611465322, 37.1346721755146], [-8.853637839921186, 37.13443705476045], [-8.85399244827172, 37.134132554111616], [-8.854397164323958, 37.13384347121716]]], &quot;type&quot;: &quot;Polygon&quot;}, &quot;properties&quot;: {&quot;id&quot;: 1}, &quot;type&quot;: &quot;Feature&quot;}], &quot;type&quot;: &quot;FeatureCollection&quot;});\n",
       "\n",
       "        \n",
       "    \n",
       "            var tile_layer_32d7bf9c3d37a25c24e02ac5e773ec47 = L.tileLayer(\n",
       "                &quot;https://earthengine.googleapis.com/v1alpha/projects/earthengine-legacy/maps/1146a8f01e6e41ce64ebd36fc2c4ac1b-4ce260c2b63f36ba3964497cbad0a3bc/tiles/{z}/{x}/{y}&quot;,\n",
       "                {&quot;attribution&quot;: &quot;Map Data \\u0026copy; \\u003ca href=\\&quot;https://earthengine.google.com/\\&quot;\\u003eGoogle Earth Engine\\u003c/a\\u003e&quot;, &quot;detectRetina&quot;: false, &quot;maxNativeZoom&quot;: 18, &quot;maxZoom&quot;: 18, &quot;minZoom&quot;: 0, &quot;noWrap&quot;: false, &quot;opacity&quot;: 1, &quot;subdomains&quot;: &quot;abc&quot;, &quot;tms&quot;: false}\n",
       "            ).addTo(map_f5ae65ae54cccadb4e5a3e16ebe642a6);\n",
       "        \n",
       "    \n",
       "\n",
       "        function geo_json_992ac6b4fb5492f5534b3e4ee653f906_onEachFeature(feature, layer) {\n",
       "            layer.on({\n",
       "            });\n",
       "        };\n",
       "        var geo_json_992ac6b4fb5492f5534b3e4ee653f906 = L.geoJson(null, {\n",
       "                onEachFeature: geo_json_992ac6b4fb5492f5534b3e4ee653f906_onEachFeature,\n",
       "            \n",
       "        });\n",
       "\n",
       "        function geo_json_992ac6b4fb5492f5534b3e4ee653f906_add (data) {\n",
       "            geo_json_992ac6b4fb5492f5534b3e4ee653f906\n",
       "                .addData(data)\n",
       "                .addTo(map_f5ae65ae54cccadb4e5a3e16ebe642a6);\n",
       "        }\n",
       "            geo_json_992ac6b4fb5492f5534b3e4ee653f906_add({&quot;crs&quot;: {&quot;properties&quot;: {&quot;name&quot;: &quot;urn:ogc:def:crs:OGC:1.3:CRS84&quot;}, &quot;type&quot;: &quot;name&quot;}, &quot;features&quot;: [{&quot;geometry&quot;: {&quot;coordinates&quot;: [[[-8.854397164323958, 37.13384347121716], [-8.854705519411379, 37.1338743067259], [-8.854940640165536, 37.13403233870821], [-8.85511408990221, 37.13407859197132], [-8.85546484381415, 37.13419037069051], [-8.855279830761699, 37.13458352342697], [-8.855040855568948, 37.1348841696372], [-8.85476333599027, 37.135134708145735], [-8.853217706114576, 37.13589017810991], [-8.853202288360205, 37.135963412443175], [-8.852123045554233, 37.13587090591695], [-8.852350457431205, 37.135616512969825], [-8.852786008992187, 37.13519252472462], [-8.852839971132486, 37.13514241702292], [-8.853040401939309, 37.134880315198615], [-8.853352611465322, 37.1346721755146], [-8.853637839921186, 37.13443705476045], [-8.85399244827172, 37.134132554111616], [-8.854397164323958, 37.13384347121716]]], &quot;type&quot;: &quot;Polygon&quot;}, &quot;properties&quot;: {&quot;id&quot;: 1}, &quot;type&quot;: &quot;Feature&quot;}], &quot;type&quot;: &quot;FeatureCollection&quot;});\n",
       "\n",
       "        \n",
       "&lt;/script&gt;\n",
       "&lt;/html&gt;\" style=\"position:absolute;width:100%;height:100%;left:0;top:0;border:none !important;\" allowfullscreen webkitallowfullscreen mozallowfullscreen></iframe></div></div>"
      ],
      "text/plain": [
       "<folium.folium.Map at 0x20b62b18340>"
      ]
     },
     "execution_count": 23,
     "metadata": {},
     "output_type": "execute_result"
    }
   ],
   "source": [
    "# Use the Digital Elevation Model (DEM) to get the elevation values for the study area\n",
    "elevation = ee.Image(\"USGS/SRTMGL1_003\").clip(buffer)\n",
    "\n",
    "# Add the elevation layer to the map\n",
    "map.add_ee_layer(elevation, {'min': 70, 'max': 150, 'palette': ['006633', 'E5FFCC', '662A00', 'D8D8D8', 'F5F5F5']}, 'elevation')\n",
    "# min max should be selected given the elevation range found in the polygon\n",
    "# Add the shapefile to the map\n",
    "# in case of problems; use geopandas to create geojson from shapefile and add generated geojson into folium\n",
    "\n",
    "folium.GeoJson(\"pp_geometry.shp\", name = 'geojson').add_to(map)\n",
    "\n",
    "# display the map\n",
    "map\n"
   ]
  },
  {
   "cell_type": "code",
   "execution_count": 19,
   "id": "c21ff1e4-8485-43de-99ef-4bf1bea406bf",
   "metadata": {},
   "outputs": [
    {
     "name": "stdout",
     "output_type": "stream",
     "text": [
      "Elevation at -83.616358, 9.830153: None meters\n"
     ]
    },
    {
     "data": {
      "text/html": [
       "<img src=\"https://earthengine.googleapis.com/v1alpha/projects/earthengine-legacy/thumbnails/415d56a0ee3d5a86552495a064d4169c-a21b61cd0335c2c305222e2ef5e73031:getPixels\"/>"
      ],
      "text/plain": [
       "<IPython.core.display.Image object>"
      ]
     },
     "execution_count": 19,
     "metadata": {},
     "output_type": "execute_result"
    }
   ],
   "source": [
    "# SRTM map\n",
    "\n",
    "# Set the area of interest (AOI)\n",
    "# You can use the ee.Geometry.Point function to define a point and the ee.Geometry.Buffer function to create a buffer around the point\n",
    "point = ee.Geometry.Point(lon, lat)\n",
    "buffer = point.buffer(3000)  # 3 km buffer\n",
    "\n",
    "# Load the SRTM elevation data\n",
    "srtm = ee.Image(\"USGS/SRTMGL1_003\")\n",
    "\n",
    "# Get the elevation at the map center\n",
    "elevation = ee.Image('USGS/SRTMGL1_003').sample(point)\n",
    "\n",
    "# Get the elevation value at the map center\n",
    "elevation_value = elevation.get('elevation').getInfo()\n",
    "\n",
    "# Print the elevation value\n",
    "print(f'Elevation at {lon}, {lat}: {elevation_value} meters')\n",
    "\n",
    "# Make pixels with elevation below sea level transparent.\n",
    "elv_img = srtm.updateMask(srtm.gt(0))\n",
    "\n",
    "# Display the thumbnail of styled elevation\n",
    "from IPython.display import Image\n",
    "\n",
    "Image(url=elv_img.getThumbURL({\n",
    "    'min': 0, 'max': 4000, 'dimensions': 512, 'region': buffer,\n",
    "    'palette': ['006633', 'E5FFCC', '662A00', 'D8D8D8', 'F5F5F5']}))\n"
   ]
  },
  {
   "cell_type": "code",
   "execution_count": null,
   "id": "f1d2674a",
   "metadata": {},
   "outputs": [],
   "source": []
  },
  {
   "cell_type": "code",
   "execution_count": null,
   "id": "ea7e8957",
   "metadata": {},
   "outputs": [],
   "source": [
    "# set start and end date (end date will be included\n",
    "# in the time period for which data is downloaded)\n",
    "start_date, end_date = '2020-12-31', '2021-12-31'  # time in UTC choose start date one day before time of interest\n",
    "# for position east of 0° meridian for covering all hours of interest"
   ]
  },
  {
   "cell_type": "code",
   "execution_count": null,
   "id": "c3a93934",
   "metadata": {},
   "outputs": [],
   "source": [
    "# download era5 dataset\n",
    "\n",
    "variable = \"wefesiteanalyst\"\n",
    "target_file = 'era5_wefesiteanalyst_'+name+'.nc'\n",
    "print(target_file)\n",
    "\n",
    "ds = era5.get_era5_data_from_datespan_and_position(\n",
    "    variable=variable,\n",
    "    start_date=start_date, end_date=end_date,\n",
    "    latitude=latitude, longitude=longitude,\n",
    "    target_file=target_file)"
   ]
  },
  {
   "cell_type": "code",
   "execution_count": null,
   "id": "066bee93",
   "metadata": {},
   "outputs": [],
   "source": [
    "era5_wefe = pd.read_csv(r\"wefe.csv\")\n",
    "era5_wefe.head()"
   ]
  },
  {
   "cell_type": "code",
   "execution_count": null,
   "id": "78f0329f",
   "metadata": {},
   "outputs": [],
   "source": [
    "# plot global horizontal irradiance\n",
    "import matplotlib.pyplot as plt\n",
    "\n",
    "era5_wefe.loc[:, ['ghi']].plot(title='Irradiance')\n",
    "plt.xlabel('Time')\n",
    "plt.ylabel('Irradiance in $W/m^2$')"
   ]
  },
  {
   "cell_type": "code",
   "execution_count": null,
   "id": "47267a75",
   "metadata": {},
   "outputs": [],
   "source": []
  }
 ],
 "metadata": {
  "kernelspec": {
   "display_name": "Python 3 (ipykernel)",
   "language": "python",
   "name": "python3"
  },
  "language_info": {
   "codemirror_mode": {
    "name": "ipython",
    "version": 3
   },
   "file_extension": ".py",
   "mimetype": "text/x-python",
   "name": "python",
   "nbconvert_exporter": "python",
   "pygments_lexer": "ipython3",
   "version": "3.9.15"
  },
  "varInspector": {
   "cols": {
    "lenName": 16,
    "lenType": 16,
    "lenVar": 40
   },
   "kernels_config": {
    "python": {
     "delete_cmd_postfix": "",
     "delete_cmd_prefix": "del ",
     "library": "var_list.py",
     "varRefreshCmd": "print(var_dic_list())"
    },
    "r": {
     "delete_cmd_postfix": ") ",
     "delete_cmd_prefix": "rm(",
     "library": "var_list.r",
     "varRefreshCmd": "cat(var_dic_list()) "
    }
   },
   "position": {
    "height": "144.83px",
    "left": "1374.45px",
    "right": "20px",
    "top": "120px",
    "width": "350px"
   },
   "types_to_exclude": [
    "module",
    "function",
    "builtin_function_or_method",
    "instance",
    "_Feature"
   ],
   "window_display": true
  }
 },
 "nbformat": 4,
 "nbformat_minor": 5
}

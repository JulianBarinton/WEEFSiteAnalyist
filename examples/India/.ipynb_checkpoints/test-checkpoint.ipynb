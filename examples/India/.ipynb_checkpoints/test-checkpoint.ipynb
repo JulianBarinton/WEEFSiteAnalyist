{
 "cells": [
  {
   "cell_type": "code",
   "execution_count": 1,
   "id": "259b44b8-4507-4477-a013-a9aeab5203a6",
   "metadata": {},
   "outputs": [
    {
     "name": "stdout",
     "output_type": "stream",
     "text": [
      "<xarray.Dataset> Size: 109GB\n",
      "Dimensions:     (valid_time: 8760, latitude: 721, longitude: 1440)\n",
      "Coordinates:\n",
      "    number      int64 8B ...\n",
      "  * valid_time  (valid_time) datetime64[ns] 70kB 2022-01-01 ... 2022-12-31T23...\n",
      "  * latitude    (latitude) float64 6kB 90.0 89.75 89.5 ... -89.5 -89.75 -90.0\n",
      "  * longitude   (longitude) float64 12kB 0.0 0.25 0.5 0.75 ... 359.2 359.5 359.8\n",
      "    expver      (valid_time) <U4 140kB ...\n",
      "Data variables:\n",
      "    tp          (valid_time, latitude, longitude) float32 36GB ...\n",
      "    ssrd        (valid_time, latitude, longitude) float32 36GB ...\n",
      "    e           (valid_time, latitude, longitude) float32 36GB ...\n",
      "Attributes:\n",
      "    GRIB_centre:             ecmf\n",
      "    GRIB_centreDescription:  European Centre for Medium-Range Weather Forecasts\n",
      "    GRIB_subCentre:          0\n",
      "    Conventions:             CF-1.7\n",
      "    institution:             European Centre for Medium-Range Weather Forecasts\n",
      "    history:                 2024-12-03T18:54 GRIB to CDM+CF via cfgrib-0.9.1...\n"
     ]
    }
   ],
   "source": [
    "import xarray as xr\n",
    "import pandas as pd\n",
    "\n",
    "# Step 1: Open the .nc file\n",
    "file_path = \"cds_2022_accum.nc\"  # Replace with the path to your .nc file\n",
    "dataset = xr.open_dataset(file_path)\n",
    "\n",
    "# Step 2: Examine the dataset\n",
    "print(dataset)"
   ]
  },
  {
   "cell_type": "code",
   "execution_count": 2,
   "id": "1a5b74d3-31c3-41e0-9307-1fc9ab3af4f3",
   "metadata": {},
   "outputs": [
    {
     "name": "stdout",
     "output_type": "stream",
     "text": [
      "<xarray.Dataset> Size: 109GB\n",
      "Dimensions:     (valid_time: 8760, latitude: 721, longitude: 1440)\n",
      "Coordinates:\n",
      "    number      int64 8B ...\n",
      "  * valid_time  (valid_time) datetime64[ns] 70kB 2022-01-01 ... 2022-12-31T23...\n",
      "  * latitude    (latitude) float64 6kB 90.0 89.75 89.5 ... -89.5 -89.75 -90.0\n",
      "  * longitude   (longitude) float64 12kB 0.0 0.25 0.5 0.75 ... 359.2 359.5 359.8\n",
      "    expver      (valid_time) <U4 140kB ...\n",
      "Data variables:\n",
      "    u10         (valid_time, latitude, longitude) float32 36GB ...\n",
      "    v10         (valid_time, latitude, longitude) float32 36GB ...\n",
      "    t2m         (valid_time, latitude, longitude) float32 36GB ...\n",
      "Attributes:\n",
      "    GRIB_centre:             ecmf\n",
      "    GRIB_centreDescription:  European Centre for Medium-Range Weather Forecasts\n",
      "    GRIB_subCentre:          0\n",
      "    Conventions:             CF-1.7\n",
      "    institution:             European Centre for Medium-Range Weather Forecasts\n",
      "    history:                 2024-12-03T18:54 GRIB to CDM+CF via cfgrib-0.9.1...\n"
     ]
    }
   ],
   "source": [
    "import xarray as xr\n",
    "import pandas as pd\n",
    "\n",
    "# Step 1: Open the .nc file\n",
    "file_path = \"cds_2022_instant.nc\"  # Replace with the path to your .nc file\n",
    "dataset = xr.open_dataset(file_path)\n",
    "\n",
    "# Step 2: Examine the dataset\n",
    "print(dataset)"
   ]
  },
  {
   "cell_type": "code",
   "execution_count": 3,
   "id": "e4918596-1e2a-4513-82cc-0469e61951f8",
   "metadata": {},
   "outputs": [
    {
     "name": "stdout",
     "output_type": "stream",
     "text": [
      "Nearest Latitude: 21.25\n",
      "Nearest Longitude: 72.75\n",
      "\n",
      "Data for all variables at the specified location:\n",
      "<xarray.Dataset> Size: 315kB\n",
      "Dimensions:     (valid_time: 8760)\n",
      "Coordinates:\n",
      "    number      int64 8B ...\n",
      "  * valid_time  (valid_time) datetime64[ns] 70kB 2022-01-01 ... 2022-12-31T23...\n",
      "    latitude    float64 8B 21.25\n",
      "    longitude   float64 8B 72.75\n",
      "    expver      (valid_time) <U4 140kB ...\n",
      "Data variables:\n",
      "    tp          (valid_time) float32 35kB ...\n",
      "    ssrd        (valid_time) float32 35kB ...\n",
      "    e           (valid_time) float32 35kB ...\n",
      "Attributes:\n",
      "    GRIB_centre:             ecmf\n",
      "    GRIB_centreDescription:  European Centre for Medium-Range Weather Forecasts\n",
      "    GRIB_subCentre:          0\n",
      "    Conventions:             CF-1.7\n",
      "    institution:             European Centre for Medium-Range Weather Forecasts\n",
      "    history:                 2024-12-03T18:54 GRIB to CDM+CF via cfgrib-0.9.1...\n",
      "\n",
      "Extracted data saved to: extracted_data_accum.nc\n"
     ]
    }
   ],
   "source": [
    "import xarray as xr\n",
    "\n",
    "# Load the NetCDF file\n",
    "file_path = \"cds_2022_accum.nc\"  # Replace with your NetCDF file path\n",
    "dataset = xr.open_dataset(file_path)\n",
    "\n",
    "# Define the target latitude and longitude\n",
    "target_lat = 21.25  # Replace with your latitude of interest\n",
    "target_lon = 72.75  # Replace with your longitude of interest\n",
    "\n",
    "# Find the nearest latitude and longitude\n",
    "nearest_lat = dataset.latitude.sel(latitude=target_lat, method=\"nearest\")\n",
    "nearest_lon = dataset.longitude.sel(longitude=target_lon, method=\"nearest\")\n",
    "\n",
    "print(f\"Nearest Latitude: {nearest_lat.values}\")\n",
    "print(f\"Nearest Longitude: {nearest_lon.values}\")\n",
    "\n",
    "# Extract all data variables at the nearest location\n",
    "data_at_location = dataset.sel(latitude=nearest_lat, longitude=nearest_lon)\n",
    "\n",
    "# Display data for all variables at the specific location\n",
    "print(\"\\nData for all variables at the specified location:\")\n",
    "print(data_at_location)\n",
    "\n",
    "# Optional: Save the extracted data to a new NetCDF file\n",
    "output_path = \"extracted_data_accum.nc\"\n",
    "data_at_location.to_netcdf(output_path)\n",
    "print(f\"\\nExtracted data saved to: {output_path}\")"
   ]
  },
  {
   "cell_type": "code",
   "execution_count": 4,
   "id": "b8df8234-2768-4e64-b688-c8ab3b256dd7",
   "metadata": {},
   "outputs": [
    {
     "name": "stdout",
     "output_type": "stream",
     "text": [
      "<xarray.Dataset> Size: 315kB\n",
      "Dimensions:     (valid_time: 8760)\n",
      "Coordinates:\n",
      "    number      int64 8B ...\n",
      "  * valid_time  (valid_time) datetime64[ns] 70kB 2022-01-01 ... 2022-12-31T23...\n",
      "    latitude    float64 8B ...\n",
      "    longitude   float64 8B ...\n",
      "    expver      (valid_time) <U4 140kB ...\n",
      "Data variables:\n",
      "    tp          (valid_time) float32 35kB ...\n",
      "    ssrd        (valid_time) float32 35kB ...\n",
      "    e           (valid_time) float32 35kB ...\n",
      "Attributes:\n",
      "    GRIB_centre:             ecmf\n",
      "    GRIB_centreDescription:  European Centre for Medium-Range Weather Forecasts\n",
      "    GRIB_subCentre:          0\n",
      "    Conventions:             CF-1.7\n",
      "    institution:             European Centre for Medium-Range Weather Forecasts\n",
      "    history:                 2024-12-03T18:54 GRIB to CDM+CF via cfgrib-0.9.1...\n"
     ]
    }
   ],
   "source": [
    "import xarray as xr\n",
    "import pandas as pd\n",
    "\n",
    "# Step 1: Open the .nc file\n",
    "file_path = \"extracted_data_accum.nc\"  # Replace with the path to your .nc file\n",
    "dataset = xr.open_dataset(file_path)\n",
    "\n",
    "# Step 2: Examine the dataset\n",
    "print(dataset)"
   ]
  },
  {
   "cell_type": "code",
   "execution_count": 5,
   "id": "a9c2f439-a5fd-4589-8d74-ae2a19b38458",
   "metadata": {},
   "outputs": [
    {
     "name": "stdout",
     "output_type": "stream",
     "text": [
      "Nearest Latitude: 21.25\n",
      "Nearest Longitude: 72.75\n",
      "\n",
      "Data for all variables at the specified location:\n",
      "<xarray.Dataset> Size: 315kB\n",
      "Dimensions:     (valid_time: 8760)\n",
      "Coordinates:\n",
      "    number      int64 8B ...\n",
      "  * valid_time  (valid_time) datetime64[ns] 70kB 2022-01-01 ... 2022-12-31T23...\n",
      "    latitude    float64 8B 21.25\n",
      "    longitude   float64 8B 72.75\n",
      "    expver      (valid_time) <U4 140kB ...\n",
      "Data variables:\n",
      "    u10         (valid_time) float32 35kB ...\n",
      "    v10         (valid_time) float32 35kB ...\n",
      "    t2m         (valid_time) float32 35kB ...\n",
      "Attributes:\n",
      "    GRIB_centre:             ecmf\n",
      "    GRIB_centreDescription:  European Centre for Medium-Range Weather Forecasts\n",
      "    GRIB_subCentre:          0\n",
      "    Conventions:             CF-1.7\n",
      "    institution:             European Centre for Medium-Range Weather Forecasts\n",
      "    history:                 2024-12-03T18:54 GRIB to CDM+CF via cfgrib-0.9.1...\n",
      "\n",
      "Extracted data saved to: extracted_data_instant.nc\n"
     ]
    }
   ],
   "source": [
    "import xarray as xr\n",
    "\n",
    "# Load the NetCDF file\n",
    "file_path = \"cds_2022_instant.nc\"  # Replace with your NetCDF file path\n",
    "dataset = xr.open_dataset(file_path)\n",
    "\n",
    "# Define the target latitude and longitude\n",
    "target_lat = 21.25  # Replace with your latitude of interest\n",
    "target_lon = 72.75  # Replace with your longitude of interest\n",
    "\n",
    "# Find the nearest latitude and longitude\n",
    "nearest_lat = dataset.latitude.sel(latitude=target_lat, method=\"nearest\")\n",
    "nearest_lon = dataset.longitude.sel(longitude=target_lon, method=\"nearest\")\n",
    "\n",
    "print(f\"Nearest Latitude: {nearest_lat.values}\")\n",
    "print(f\"Nearest Longitude: {nearest_lon.values}\")\n",
    "\n",
    "# Extract all data variables at the nearest location\n",
    "data_at_location = dataset.sel(latitude=nearest_lat, longitude=nearest_lon)\n",
    "\n",
    "# Display data for all variables at the specific location\n",
    "print(\"\\nData for all variables at the specified location:\")\n",
    "print(data_at_location)\n",
    "\n",
    "# Optional: Save the extracted data to a new NetCDF file\n",
    "output_path = \"extracted_data_instant.nc\"\n",
    "data_at_location.to_netcdf(output_path)\n",
    "print(f\"\\nExtracted data saved to: {output_path}\")"
   ]
  },
  {
   "cell_type": "code",
   "execution_count": 6,
   "id": "d0180495-e8ca-4bb0-bd71-394f4eaeff52",
   "metadata": {},
   "outputs": [
    {
     "name": "stdout",
     "output_type": "stream",
     "text": [
      "<xarray.Dataset> Size: 315kB\n",
      "Dimensions:     (valid_time: 8760)\n",
      "Coordinates:\n",
      "    number      int64 8B ...\n",
      "  * valid_time  (valid_time) datetime64[ns] 70kB 2022-01-01 ... 2022-12-31T23...\n",
      "    latitude    float64 8B ...\n",
      "    longitude   float64 8B ...\n",
      "    expver      (valid_time) <U4 140kB ...\n",
      "Data variables:\n",
      "    u10         (valid_time) float32 35kB ...\n",
      "    v10         (valid_time) float32 35kB ...\n",
      "    t2m         (valid_time) float32 35kB ...\n",
      "Attributes:\n",
      "    GRIB_centre:             ecmf\n",
      "    GRIB_centreDescription:  European Centre for Medium-Range Weather Forecasts\n",
      "    GRIB_subCentre:          0\n",
      "    Conventions:             CF-1.7\n",
      "    institution:             European Centre for Medium-Range Weather Forecasts\n",
      "    history:                 2024-12-03T18:54 GRIB to CDM+CF via cfgrib-0.9.1...\n"
     ]
    }
   ],
   "source": [
    "import xarray as xr\n",
    "import pandas as pd\n",
    "\n",
    "# Step 1: Open the .nc file\n",
    "file_path = \"extracted_data_instant.nc\"  # Replace with the path to your .nc file\n",
    "dataset = xr.open_dataset(file_path)\n",
    "\n",
    "# Step 2: Examine the dataset\n",
    "print(dataset)"
   ]
  },
  {
   "cell_type": "code",
   "execution_count": 7,
   "id": "a67d8bb4-0008-4cdc-885b-435e38b08980",
   "metadata": {},
   "outputs": [
    {
     "name": "stdout",
     "output_type": "stream",
     "text": [
      "<xarray.Dataset> Size: 421kB\n",
      "Dimensions:     (valid_time: 8760)\n",
      "Coordinates:\n",
      "    number      int64 8B 0\n",
      "  * valid_time  (valid_time) datetime64[ns] 70kB 2022-01-01 ... 2022-12-31T23...\n",
      "    latitude    float64 8B 21.25\n",
      "    longitude   float64 8B 72.75\n",
      "    expver      (valid_time) <U4 140kB '0001' '0001' '0001' ... '0001' '0001'\n",
      "Data variables:\n",
      "    tp          (valid_time) float32 35kB ...\n",
      "    ssrd        (valid_time) float32 35kB ...\n",
      "    e           (valid_time) float32 35kB ...\n",
      "    u10         (valid_time) float32 35kB ...\n",
      "    v10         (valid_time) float32 35kB ...\n",
      "    t2m         (valid_time) float32 35kB ...\n",
      "Attributes:\n",
      "    GRIB_centre:             ecmf\n",
      "    GRIB_centreDescription:  European Centre for Medium-Range Weather Forecasts\n",
      "    GRIB_subCentre:          0\n",
      "    Conventions:             CF-1.7\n",
      "    institution:             European Centre for Medium-Range Weather Forecasts\n",
      "    history:                 2024-12-03T18:54 GRIB to CDM+CF via cfgrib-0.9.1...\n"
     ]
    }
   ],
   "source": [
    "import xarray as xr\n",
    "\n",
    "# Open the NetCDF files\n",
    "ds1 = xr.open_dataset('extracted_data_accum.nc')  # Replace with the actual filename\n",
    "ds2 = xr.open_dataset('extracted_data_instant.nc')  # Replace with the actual filename\n",
    "\n",
    "# Merge the datasets along the shared dimensions\n",
    "merged_ds = xr.merge([ds1, ds2])\n",
    "\n",
    "# Check the merged dataset\n",
    "print(merged_ds)\n",
    "\n",
    "# Save the merged dataset to a new NetCDF file\n",
    "merged_ds.to_netcdf('merged.nc')\n",
    "\n",
    "# Close the original datasets to free resources\n",
    "ds1.close()\n",
    "ds2.close()"
   ]
  },
  {
   "cell_type": "code",
   "execution_count": 9,
   "id": "0fdc0f7e-9f97-460e-821a-9d579eaa2e91",
   "metadata": {},
   "outputs": [
    {
     "name": "stdout",
     "output_type": "stream",
     "text": [
      "CSV file saved as: output_file_cleaned.csv\n"
     ]
    }
   ],
   "source": [
    "import xarray as xr\n",
    "import pandas as pd\n",
    "\n",
    "# Step 1: Load the NetCDF file\n",
    "nc_file = \"merged.nc\"  # Replace with your file name\n",
    "ds = xr.open_dataset(nc_file)\n",
    "\n",
    "# Step 2: Convert to a pandas DataFrame\n",
    "df = ds.to_dataframe().reset_index()\n",
    "\n",
    "# Step 3: Drop unwanted columns (e.g., 'number', 'expver')\n",
    "df = df.drop(columns=[\"number\", \"expver\"], errors='ignore')  # Ignore errors if columns don't exist\n",
    "\n",
    "# Step 4: Save the cleaned DataFrame to CSV\n",
    "csv_file = \"output_file_cleaned.csv\"  # Replace with your desired CSV file name\n",
    "df.to_csv(csv_file, index=False)\n",
    "\n",
    "print(f\"CSV file saved as: {csv_file}\")"
   ]
  },
  {
   "cell_type": "code",
   "execution_count": null,
   "id": "72b8fde6-6935-48d7-963e-e78dd41bc6e6",
   "metadata": {},
   "outputs": [],
   "source": []
  }
 ],
 "metadata": {
  "kernelspec": {
   "display_name": "Python 3 (ipykernel)",
   "language": "python",
   "name": "python3"
  },
  "language_info": {
   "codemirror_mode": {
    "name": "ipython",
    "version": 3
   },
   "file_extension": ".py",
   "mimetype": "text/x-python",
   "name": "python",
   "nbconvert_exporter": "python",
   "pygments_lexer": "ipython3",
   "version": "3.10.14"
  }
 },
 "nbformat": 4,
 "nbformat_minor": 5
}

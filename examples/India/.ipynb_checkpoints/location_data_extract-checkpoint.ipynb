{
 "cells": [
  {
   "cell_type": "code",
   "execution_count": 1,
   "id": "da117ad4-5c58-4125-866a-0ee83f6d9d68",
   "metadata": {},
   "outputs": [
    {
     "name": "stdin",
     "output_type": "stream",
     "text": [
      "Enter the target latitude:  -0.1231828865136701\n",
      "Enter the target longitude:  33.701386172903916\n"
     ]
    },
    {
     "name": "stdout",
     "output_type": "stream",
     "text": [
      "Nearest Latitude: 0.0\n",
      "Nearest Longitude: 33.75\n",
      "Merged dataset saved to: location_data_extract.nc\n",
      "CSV file saved as: location_data_extract.csv\n"
     ]
    }
   ],
   "source": [
    "import xarray as xr\n",
    "import pandas as pd\n",
    "\n",
    "# Open the NetCDF files\n",
    "# Replace with the paths to your .nc files\n",
    "ds_accum = xr.open_dataset(\"cds_2022_accum.nc\")\n",
    "ds_instant = xr.open_dataset(\"cds_2022_instant.nc\")\n",
    "\n",
    "# Define the target latitude and longitude\n",
    "target_lat = float(input(\"Enter the target latitude: \"))\n",
    "target_lon = float(input(\"Enter the target longitude: \"))\n",
    "\n",
    "# Find the nearest latitude and longitude in the accumulation dataset\n",
    "nearest_lat = ds_accum.latitude.sel(latitude=target_lat, method=\"nearest\")\n",
    "nearest_lon = ds_accum.longitude.sel(longitude=target_lon, method=\"nearest\")\n",
    "\n",
    "print(f\"Nearest Latitude: {nearest_lat.values}\")\n",
    "print(f\"Nearest Longitude: {nearest_lon.values}\")\n",
    "\n",
    "# Extract data for the nearest location from both datasets\n",
    "data_at_location_accum = ds_accum.sel(latitude=nearest_lat, longitude=nearest_lon)\n",
    "data_at_location_instant = ds_instant.sel(latitude=nearest_lat, longitude=nearest_lon)\n",
    "\n",
    "# Merge the datasets\n",
    "merged_ds = xr.merge([data_at_location_accum, data_at_location_instant])\n",
    "\n",
    "# Save the merged dataset to a new NetCDF file\n",
    "merged_ds.to_netcdf(\"location_data_extract.nc\")\n",
    "print(\"Merged dataset saved to: location_data_extract.nc\")\n",
    "\n",
    "# Convert the merged dataset to a pandas DataFrame\n",
    "df = merged_ds.to_dataframe().reset_index()\n",
    "\n",
    "# Drop unnecessary columns if they exist\n",
    "df = df.drop(columns=[\"number\", \"expver\"], errors=\"ignore\")\n",
    "\n",
    "# Save the cleaned DataFrame to a CSV file\n",
    "df.to_csv(\"location_data_extract.csv\", index=False)\n",
    "print(\"CSV file saved as: location_data_extract.csv\")\n",
    "\n",
    "# Close the datasets\n",
    "ds_accum.close()\n",
    "ds_instant.close()\n"
   ]
  },
  {
   "cell_type": "code",
   "execution_count": null,
   "id": "4e56e3ab-763c-4145-a4f0-113deb9aa42f",
   "metadata": {},
   "outputs": [],
   "source": []
  }
 ],
 "metadata": {
  "kernelspec": {
   "display_name": "Python 3 (ipykernel)",
   "language": "python",
   "name": "python3"
  },
  "language_info": {
   "codemirror_mode": {
    "name": "ipython",
    "version": 3
   },
   "file_extension": ".py",
   "mimetype": "text/x-python",
   "name": "python",
   "nbconvert_exporter": "python",
   "pygments_lexer": "ipython3",
   "version": "3.10.14"
  }
 },
 "nbformat": 4,
 "nbformat_minor": 5
}

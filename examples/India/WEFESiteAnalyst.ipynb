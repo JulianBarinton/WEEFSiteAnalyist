{
 "cells": [
  {
   "cell_type": "markdown",
   "id": "cde045ab",
   "metadata": {},
   "source": [
    "# WEFE Site Analyst\n",
    "## implemented in Jupyter Notebook"
   ]
  },
  {
   "cell_type": "markdown",
   "id": "bc4a3874",
   "metadata": {},
   "source": [
    "This Jupyter Notebook collects environmental and socioeconomic data for the planning of integrated water, energy, food, and environment systems from open servers."
   ]
  },
  {
   "cell_type": "code",
   "execution_count": 1,
   "id": "da821e89",
   "metadata": {},
   "outputs": [],
   "source": [
    "# imports\n",
    "import pandas as pd\n",
    "import xarray as xr\n",
    "import matplotlib.pyplot as plt\n",
    "import os\n",
    "from math import sqrt\n",
    "import numpy as np\n",
    "import folium\n",
    "#import geojson\n",
    "import overpy\n",
    "import geemap\n",
    "import geemap.foliumap as gfolium\n",
    "import json\n",
    "import requests\n",
    "import ee\n",
    "import webbrowser\n",
    "\n",
    "\n",
    "\n",
    "from geemap import geojson_to_ee, ee_to_geojson\n",
    "from ipyleaflet import GeoJSON\n",
    "\n",
    "from geopandas import GeoDataFrame\n",
    "\n",
    "import shapely\n",
    "from shapely.geometry import Polygon, shape\n",
    "from shapely.geometry import LineString\n",
    "\n",
    "# to generate word report\n",
    "from docx import Document\n",
    "from docx.shared import Pt, Inches, RGBColor\n",
    "from docx.enum.text import WD_ALIGN_PARAGRAPH\n",
    "from docx.enum.table import WD_ALIGN_VERTICAL\n",
    "from io import BytesIO\n",
    "\n",
    "# import files from source\n",
    "os.chdir(\"../../src/\")\n",
    "import era5\n",
    "import ee_layer\n",
    "os.chdir(\"../examples/India\")"
   ]
  },
  {
   "cell_type": "code",
   "execution_count": 2,
   "id": "7c4a9269",
   "metadata": {},
   "outputs": [
    {
     "data": {
      "text/html": [
       "\n",
       "            <style>\n",
       "                .geemap-dark {\n",
       "                    --jp-widgets-color: white;\n",
       "                    --jp-widgets-label-color: white;\n",
       "                    --jp-ui-font-color1: white;\n",
       "                    --jp-layout-color2: #454545;\n",
       "                    background-color: #383838;\n",
       "                }\n",
       "\n",
       "                .geemap-dark .jupyter-button {\n",
       "                    --jp-layout-color3: #383838;\n",
       "                }\n",
       "\n",
       "                .geemap-colab {\n",
       "                    background-color: var(--colab-primary-surface-color, white);\n",
       "                }\n",
       "\n",
       "                .geemap-colab .jupyter-button {\n",
       "                    --jp-layout-color3: var(--colab-primary-surface-color, white);\n",
       "                }\n",
       "            </style>\n",
       "            "
      ],
      "text/plain": [
       "<IPython.core.display.HTML object>"
      ]
     },
     "metadata": {},
     "output_type": "display_data"
    }
   ],
   "source": [
    "# Update geemap package in case of errors\n",
    "\n",
    "# geemap.update_package()"
   ]
  },
  {
   "cell_type": "code",
   "execution_count": 3,
   "id": "1a9692c0",
   "metadata": {},
   "outputs": [
    {
     "data": {
      "text/html": [
       "\n",
       "            <style>\n",
       "                .geemap-dark {\n",
       "                    --jp-widgets-color: white;\n",
       "                    --jp-widgets-label-color: white;\n",
       "                    --jp-ui-font-color1: white;\n",
       "                    --jp-layout-color2: #454545;\n",
       "                    background-color: #383838;\n",
       "                }\n",
       "\n",
       "                .geemap-dark .jupyter-button {\n",
       "                    --jp-layout-color3: #383838;\n",
       "                }\n",
       "\n",
       "                .geemap-colab {\n",
       "                    background-color: var(--colab-primary-surface-color, white);\n",
       "                }\n",
       "\n",
       "                .geemap-colab .jupyter-button {\n",
       "                    --jp-layout-color3: var(--colab-primary-surface-color, white);\n",
       "                }\n",
       "            </style>\n",
       "            "
      ],
      "text/plain": [
       "<IPython.core.display.HTML object>"
      ]
     },
     "metadata": {},
     "output_type": "display_data"
    }
   ],
   "source": [
    "# set start and end date (end date will be included\n",
    "# in the time period for which data is downloaded)\n",
    "start_date, end_date = '2022-01-01', '2022-12-31'  # time in UTC choose start date one day before time of interest\n",
    "# for position east of 0° meridian for covering all hours of interest"
   ]
  },
  {
   "cell_type": "code",
   "execution_count": 4,
   "id": "e7efdf48",
   "metadata": {},
   "outputs": [
    {
     "data": {
      "text/html": [
       "\n",
       "            <style>\n",
       "                .geemap-dark {\n",
       "                    --jp-widgets-color: white;\n",
       "                    --jp-widgets-label-color: white;\n",
       "                    --jp-ui-font-color1: white;\n",
       "                    --jp-layout-color2: #454545;\n",
       "                    background-color: #383838;\n",
       "                }\n",
       "\n",
       "                .geemap-dark .jupyter-button {\n",
       "                    --jp-layout-color3: #383838;\n",
       "                }\n",
       "\n",
       "                .geemap-colab {\n",
       "                    background-color: var(--colab-primary-surface-color, white);\n",
       "                }\n",
       "\n",
       "                .geemap-colab .jupyter-button {\n",
       "                    --jp-layout-color3: var(--colab-primary-surface-color, white);\n",
       "                }\n",
       "            </style>\n",
       "            "
      ],
      "text/plain": [
       "<IPython.core.display.HTML object>"
      ]
     },
     "metadata": {},
     "output_type": "display_data"
    }
   ],
   "source": [
    "# initiate earth engine\n",
    "\n",
    "# Trigger the authentication flow.\n",
    "ee.Authenticate()\n",
    "\n",
    "# Initialize the library.\n",
    "ee.Initialize()"
   ]
  },
  {
   "cell_type": "code",
   "execution_count": 5,
   "id": "8b95e744",
   "metadata": {
    "scrolled": true
   },
   "outputs": [
    {
     "data": {
      "text/html": [
       "\n",
       "            <style>\n",
       "                .geemap-dark {\n",
       "                    --jp-widgets-color: white;\n",
       "                    --jp-widgets-label-color: white;\n",
       "                    --jp-ui-font-color1: white;\n",
       "                    --jp-layout-color2: #454545;\n",
       "                    background-color: #383838;\n",
       "                }\n",
       "\n",
       "                .geemap-dark .jupyter-button {\n",
       "                    --jp-layout-color3: #383838;\n",
       "                }\n",
       "\n",
       "                .geemap-colab {\n",
       "                    background-color: var(--colab-primary-surface-color, white);\n",
       "                }\n",
       "\n",
       "                .geemap-colab .jupyter-button {\n",
       "                    --jp-layout-color3: var(--colab-primary-surface-color, white);\n",
       "                }\n",
       "            </style>\n",
       "            "
      ],
      "text/plain": [
       "<IPython.core.display.HTML object>"
      ]
     },
     "metadata": {},
     "output_type": "display_data"
    },
    {
     "name": "stdin",
     "output_type": "stream",
     "text": [
      "Enter the name of the case study:  masma\n",
      "Enter the latitude:  21.298016354987144\n",
      "Enter the longitude:  72.76119193635735\n"
     ]
    },
    {
     "data": {
      "application/vnd.jupyter.widget-view+json": {
       "model_id": "6890ede7847740adb9821cf4aad1ef39",
       "version_major": 2,
       "version_minor": 0
      },
      "text/plain": [
       "Map(center=[21.298016354987144, 72.76119193635735], controls=(WidgetControl(options=['position', 'transparent_…"
      ]
     },
     "execution_count": 5,
     "metadata": {},
     "output_type": "execute_result"
    }
   ],
   "source": [
    "# provide case study name and coordiantes\n",
    "\n",
    "name = input(\"Enter the name of the case study: \")\n",
    "lat = float(input(\"Enter the latitude: \"))\n",
    "lon = float(input(\"Enter the longitude: \"))\n",
    "\n",
    "center = ee.Geometry.Point(lon, lat)\n",
    "\n",
    "# add function to add polygon representing the parcel in case user wants it\n",
    "\n",
    "# visualization as geemap\n",
    "satellite_map = geemap.Map(center=[lat, lon], zoom=16)\n",
    "satellite_map.add_basemap('SATELLITE')\n",
    "satellite_map.addLayer(center, {'color': 'red', 'weight': 1, 'opacity': 1}, \"center\")\n",
    "# map.add_layer(json_shape_layer)\n",
    "\n",
    "# Display the map\n",
    "satellite_map"
   ]
  },
  {
   "cell_type": "code",
   "execution_count": 6,
   "id": "e4dd73fe-f472-40e9-9ec2-085aa3203b7d",
   "metadata": {},
   "outputs": [
    {
     "data": {
      "text/html": [
       "\n",
       "            <style>\n",
       "                .geemap-dark {\n",
       "                    --jp-widgets-color: white;\n",
       "                    --jp-widgets-label-color: white;\n",
       "                    --jp-ui-font-color1: white;\n",
       "                    --jp-layout-color2: #454545;\n",
       "                    background-color: #383838;\n",
       "                }\n",
       "\n",
       "                .geemap-dark .jupyter-button {\n",
       "                    --jp-layout-color3: #383838;\n",
       "                }\n",
       "\n",
       "                .geemap-colab {\n",
       "                    background-color: var(--colab-primary-surface-color, white);\n",
       "                }\n",
       "\n",
       "                .geemap-colab .jupyter-button {\n",
       "                    --jp-layout-color3: var(--colab-primary-surface-color, white);\n",
       "                }\n",
       "            </style>\n",
       "            "
      ],
      "text/plain": [
       "<IPython.core.display.HTML object>"
      ]
     },
     "metadata": {},
     "output_type": "display_data"
    }
   ],
   "source": [
    "# Save the map in folder 'interactive_html'\n",
    "satellite_map.save('interactive_htmls/satellite_map.html')"
   ]
  },
  {
   "cell_type": "code",
   "execution_count": 7,
   "id": "0e252124",
   "metadata": {
    "scrolled": true
   },
   "outputs": [
    {
     "data": {
      "text/html": [
       "\n",
       "            <style>\n",
       "                .geemap-dark {\n",
       "                    --jp-widgets-color: white;\n",
       "                    --jp-widgets-label-color: white;\n",
       "                    --jp-ui-font-color1: white;\n",
       "                    --jp-layout-color2: #454545;\n",
       "                    background-color: #383838;\n",
       "                }\n",
       "\n",
       "                .geemap-dark .jupyter-button {\n",
       "                    --jp-layout-color3: #383838;\n",
       "                }\n",
       "\n",
       "                .geemap-colab {\n",
       "                    background-color: var(--colab-primary-surface-color, white);\n",
       "                }\n",
       "\n",
       "                .geemap-colab .jupyter-button {\n",
       "                    --jp-layout-color3: var(--colab-primary-surface-color, white);\n",
       "                }\n",
       "            </style>\n",
       "            "
      ],
      "text/plain": [
       "<IPython.core.display.HTML object>"
      ]
     },
     "metadata": {},
     "output_type": "display_data"
    },
    {
     "name": "stdout",
     "output_type": "stream",
     "text": [
      "Elevation at (21.298016354987144, 72.76119193635735): 8 meters\n",
      "Minimum Elevation in surrounding area: -20 meters\n",
      "Maximum Elevation in surrounding area: 58 meters\n"
     ]
    },
    {
     "data": {
      "application/vnd.jupyter.widget-view+json": {
       "model_id": "79dbff8efc534c79b405d64a01a243f5",
       "version_major": 2,
       "version_minor": 0
      },
      "text/plain": [
       "Map(center=[21.298016354987144, 72.76119193635735], controls=(WidgetControl(options=['position', 'transparent_…"
      ]
     },
     "execution_count": 7,
     "metadata": {},
     "output_type": "execute_result"
    }
   ],
   "source": [
    "## TERRAIN MAP\n",
    "# Define the location for which you want to create the elevation map (given abo)\n",
    "\n",
    "# Create a single central point based on given coordinates\n",
    "center = ee.Geometry.Point(lon, lat)\n",
    "# Create a buffer which definies the area of interest for calculating min/max elevation, in meters in this case\n",
    "buffer = center.buffer(distance=10000)\n",
    "\n",
    "# Get the digital elevation model from earth engine\n",
    "elevation = ee.Image('USGS/SRTMGL1_003')\n",
    "# Create a feature, in this case the center point based on given coordinates\n",
    "central_feature = ee.Feature(center, {'latitude': lat, 'longitude': lon})\n",
    "# Create a feature collection from the central point, in this case the feature collection only contains one feature\n",
    "fc = ee.FeatureCollection(central_feature)\n",
    "# Extract elevation from digital elevation model at the central point, a scale of 30 meters is used\n",
    "reducer = ee.Reducer.first()\n",
    "data = elevation.reduceRegions(fc, reducer.setOutputs(['elevation']), 10)\n",
    "# Get the central feature in the data, which is the first (and only) feature\n",
    "feature_center = ee.Feature(data.first())\n",
    "# Get the 'elevation' property from the feature\n",
    "elevation_value = feature_center.get('elevation')\n",
    "# Print the elevation value\n",
    "print(f'Elevation at ({lat}, {lon}): {elevation_value.getInfo()} meters')\n",
    "\n",
    "# Create a geemap map centered on the location\n",
    "terrain_map = geemap.Map(center=[lat, lon], zoom=16)\n",
    "\n",
    "# Use the 'SRTM 30m Digital Elevation Database' dataset to get elevation dataset for the buffer area\n",
    "elevation_buffer_area = ee.Image('USGS/SRTMGL1_003').clip(buffer)\n",
    "# Calculate statistics (min and max) for elevation within the buffer\n",
    "stats = elevation_buffer_area.reduceRegion(reducer=ee.Reducer.minMax(), geometry=buffer, scale=10)\n",
    "# Get minimum and maximum elevation info\n",
    "min_elevation = stats.getNumber('elevation_min')\n",
    "max_elevation = stats.getNumber('elevation_max')\n",
    "# Get minimum and maximum elevation values\n",
    "min_elevation_value = min_elevation.getInfo()\n",
    "max_elevation_value = max_elevation.getInfo()\n",
    "# Print the min and max elevation values\n",
    "print(f'Minimum Elevation in surrounding area: {min_elevation_value} meters')\n",
    "print(f'Maximum Elevation in surrounding area: {max_elevation_value} meters')\n",
    "\n",
    "slope = ee.Terrain.slope(elevation)\n",
    "# Calculate aspect. Units are degrees where 0=N, 90=E, 180=S, 270=W.\n",
    "aspect = ee.Terrain.aspect(elevation);\n",
    "terrain = ee.Terrain.products(elevation);\n",
    "\n",
    "# Update visaulisation parameters based on the min and max elevation values\n",
    "vis_params = {\n",
    "    'min': min_elevation_value,\n",
    "    'max': max_elevation_value,\n",
    "    'palette': ['006633', 'E5FFCC', '662A00', 'D8D8D8', 'F5F5F5'],\n",
    "}\n",
    "\n",
    "# Update visualisation parameters for the slopes in the map\n",
    "vis_params_slope = {\n",
    "    'min': 0,\n",
    "    'max': 20,\n",
    "    'palette': ['FFFFFF', '000000'],\n",
    "}\n",
    "terrain_map.add_basemap('SATELLITE')\n",
    "terrain_map.addLayer(slope,{'min': 0, 'max': 20, 'palette': ['FFFFFF', '000000']}, 'Slope')\n",
    "terrain_map.addLayer(aspect,{'min': 0, 'max': 360, 'palette': ['006633', 'E5FFCC', '662A00', 'D8D8D8', 'F5F5F5']}, 'Aspect')\n",
    "terrain_map.addLayer(terrain.select('hillshade'), {min: 0, max: 255}, 'Hillshade')\n",
    "terrain_map.addLayer(elevation, vis_params, 'Elevation')\n",
    "terrain_map.addLayer(center, {'color': 'red', 'weight': 1, 'opacity': 1}, \"center\")\n",
    "\n",
    "# Make pixels with elevation below sea level transparent -> please implement\n",
    "# elv_img = srtm.updateMask(srtm.gt(0))\n",
    "\n",
    "colors = vis_params['palette']\n",
    "vmin = vis_params['min']\n",
    "vmax = vis_params['max']\n",
    "\n",
    "terrain_map.add_colorbar_branca(vis_params = vis_params, colors=colors, vmin=vmin, vmax=vmax, layer_name=\"Elevation\")\n",
    "\n",
    "# Display the map\n",
    "terrain_map\n",
    "\n",
    "#image = terrain_map.clip(buffer).unmask()\n",
    "#geemap.ee_export_image(\n",
    "#image, filename='test_map.tif', scale=90, region=buffer, file_per_band=False\n",
    "#)"
   ]
  },
  {
   "cell_type": "code",
   "execution_count": 8,
   "id": "790ef6f8-1845-4b5a-b462-a439484e162e",
   "metadata": {},
   "outputs": [
    {
     "data": {
      "text/html": [
       "\n",
       "            <style>\n",
       "                .geemap-dark {\n",
       "                    --jp-widgets-color: white;\n",
       "                    --jp-widgets-label-color: white;\n",
       "                    --jp-ui-font-color1: white;\n",
       "                    --jp-layout-color2: #454545;\n",
       "                    background-color: #383838;\n",
       "                }\n",
       "\n",
       "                .geemap-dark .jupyter-button {\n",
       "                    --jp-layout-color3: #383838;\n",
       "                }\n",
       "\n",
       "                .geemap-colab {\n",
       "                    background-color: var(--colab-primary-surface-color, white);\n",
       "                }\n",
       "\n",
       "                .geemap-colab .jupyter-button {\n",
       "                    --jp-layout-color3: var(--colab-primary-surface-color, white);\n",
       "                }\n",
       "            </style>\n",
       "            "
      ],
      "text/plain": [
       "<IPython.core.display.HTML object>"
      ]
     },
     "metadata": {},
     "output_type": "display_data"
    }
   ],
   "source": [
    "# Save the map in folder 'interactive_html'\n",
    "terrain_map.save('interactive_htmls/terrain_map.html')"
   ]
  },
  {
   "cell_type": "code",
   "execution_count": 9,
   "id": "f8de2816",
   "metadata": {},
   "outputs": [
    {
     "data": {
      "text/html": [
       "\n",
       "            <style>\n",
       "                .geemap-dark {\n",
       "                    --jp-widgets-color: white;\n",
       "                    --jp-widgets-label-color: white;\n",
       "                    --jp-ui-font-color1: white;\n",
       "                    --jp-layout-color2: #454545;\n",
       "                    background-color: #383838;\n",
       "                }\n",
       "\n",
       "                .geemap-dark .jupyter-button {\n",
       "                    --jp-layout-color3: #383838;\n",
       "                }\n",
       "\n",
       "                .geemap-colab {\n",
       "                    background-color: var(--colab-primary-surface-color, white);\n",
       "                }\n",
       "\n",
       "                .geemap-colab .jupyter-button {\n",
       "                    --jp-layout-color3: var(--colab-primary-surface-color, white);\n",
       "                }\n",
       "            </style>\n",
       "            "
      ],
      "text/plain": [
       "<IPython.core.display.HTML object>"
      ]
     },
     "metadata": {},
     "output_type": "display_data"
    },
    {
     "data": {
      "application/vnd.jupyter.widget-view+json": {
       "model_id": "0a88cf4a59c9428eb62b01987449b1b0",
       "version_major": 2,
       "version_minor": 0
      },
      "text/plain": [
       "Map(center=[21.298016354987144, 72.76119193635735], controls=(WidgetControl(options=['position', 'transparent_…"
      ]
     },
     "execution_count": 9,
     "metadata": {},
     "output_type": "execute_result"
    }
   ],
   "source": [
    "## LANDUSE MAP\n",
    "# Define the location for which you want to create the map\n",
    "\n",
    "center = ee.Geometry.Point(lon, lat)\n",
    "buffer = center.buffer(3000)\n",
    "\n",
    "landuse_map = geemap.Map(center=[lat, lon], zoom=16)\n",
    "dataset = ee.ImageCollection(\"ESA/WorldCover/v100\").first()\n",
    "landuse_map.add_basemap('SATELLITE')\n",
    "landuse_map.addLayer(dataset, {'bands': ['Map']}, 'ESA Land Cover')\n",
    "landuse_map.add_legend(builtin_legend='ESA_WorldCover')\n",
    "landuse_map.addLayer(center,{'color': 'red', 'weight': 1, 'opacity': 1}, \"center\")\n",
    "\n",
    "# Display the map\n",
    "landuse_map"
   ]
  },
  {
   "cell_type": "code",
   "execution_count": 10,
   "id": "67fccef2-bdc3-41a1-ba59-5e0f61ebfdc2",
   "metadata": {},
   "outputs": [
    {
     "data": {
      "text/html": [
       "\n",
       "            <style>\n",
       "                .geemap-dark {\n",
       "                    --jp-widgets-color: white;\n",
       "                    --jp-widgets-label-color: white;\n",
       "                    --jp-ui-font-color1: white;\n",
       "                    --jp-layout-color2: #454545;\n",
       "                    background-color: #383838;\n",
       "                }\n",
       "\n",
       "                .geemap-dark .jupyter-button {\n",
       "                    --jp-layout-color3: #383838;\n",
       "                }\n",
       "\n",
       "                .geemap-colab {\n",
       "                    background-color: var(--colab-primary-surface-color, white);\n",
       "                }\n",
       "\n",
       "                .geemap-colab .jupyter-button {\n",
       "                    --jp-layout-color3: var(--colab-primary-surface-color, white);\n",
       "                }\n",
       "            </style>\n",
       "            "
      ],
      "text/plain": [
       "<IPython.core.display.HTML object>"
      ]
     },
     "metadata": {},
     "output_type": "display_data"
    }
   ],
   "source": [
    "# Save the map in folder 'interactive_html'\n",
    "landuse_map.save('interactive_htmls/landuse_map.html')"
   ]
  },
  {
   "cell_type": "code",
   "execution_count": 11,
   "id": "9cf3e18c",
   "metadata": {},
   "outputs": [
    {
     "data": {
      "text/html": [
       "\n",
       "            <style>\n",
       "                .geemap-dark {\n",
       "                    --jp-widgets-color: white;\n",
       "                    --jp-widgets-label-color: white;\n",
       "                    --jp-ui-font-color1: white;\n",
       "                    --jp-layout-color2: #454545;\n",
       "                    background-color: #383838;\n",
       "                }\n",
       "\n",
       "                .geemap-dark .jupyter-button {\n",
       "                    --jp-layout-color3: #383838;\n",
       "                }\n",
       "\n",
       "                .geemap-colab {\n",
       "                    background-color: var(--colab-primary-surface-color, white);\n",
       "                }\n",
       "\n",
       "                .geemap-colab .jupyter-button {\n",
       "                    --jp-layout-color3: var(--colab-primary-surface-color, white);\n",
       "                }\n",
       "            </style>\n",
       "            "
      ],
      "text/plain": [
       "<IPython.core.display.HTML object>"
      ]
     },
     "metadata": {},
     "output_type": "display_data"
    },
    {
     "data": {
      "application/vnd.jupyter.widget-view+json": {
       "model_id": "4f7910c36f034cdaa95223a0b7b7ca3a",
       "version_major": 2,
       "version_minor": 0
      },
      "text/plain": [
       "Map(center=[0, 0], controls=(WidgetControl(options=['position', 'transparent_bg'], widget=SearchDataGUI(childr…"
      ]
     },
     "execution_count": 11,
     "metadata": {},
     "output_type": "execute_result"
    }
   ],
   "source": [
    "# Hydrology Map\n",
    "\n",
    "case_study = ee.Geometry.Point(lon, lat)\n",
    "\n",
    "hydrology_map = geemap.Map(\n",
    "    case_study=[lat, lon], zoom=1, toolbar_control=False, layers_control=True\n",
    ")\n",
    "\n",
    "hydrology_map.add_basemap('SATELLITE')\n",
    "\n",
    "hydrology_map.add_osm_from_point(\n",
    "    center_point=(lat, lon),\n",
    "    tags={\"natural\": \"water\"},\n",
    "    dist=10000,\n",
    "    layer_name=\"water bodies\", \n",
    "    style={'color': '#224B99'}\n",
    ")\n",
    "\n",
    "hydrology_map.add_osm_from_point(\n",
    "    center_point=(lat, lon),\n",
    "    tags={\"waterway\":[\"river\", \"stream\", \"tidal_channel\", \"canal\", \"ditch\", \"drain\", \"pressurized\"]},\n",
    "    dist=10000,\n",
    "    layer_name=\"waterways\",\n",
    "    style={'color': '#097FFD'}  # Define the color for waterways - light blue color\n",
    ")\n",
    "\n",
    "hydrology_map.addLayer(center, {'color': 'red', 'weight': 1, 'opacity': 0.7}, \"case_study\")\n",
    "\n",
    "# Display the map\n",
    "hydrology_map\n",
    "\n",
    "# \"amenity\":\"drinking_water\"\n",
    "#waterway=river waterway=streamwaterway=tidal_channel waterway=canal waterway=ditch waterway=drain waterway=pressurised\n",
    "#natural=water\n",
    "#water=*"
   ]
  },
  {
   "cell_type": "code",
   "execution_count": 12,
   "id": "d08cf454-0181-4850-8943-e41e688fa68e",
   "metadata": {},
   "outputs": [
    {
     "data": {
      "text/html": [
       "\n",
       "            <style>\n",
       "                .geemap-dark {\n",
       "                    --jp-widgets-color: white;\n",
       "                    --jp-widgets-label-color: white;\n",
       "                    --jp-ui-font-color1: white;\n",
       "                    --jp-layout-color2: #454545;\n",
       "                    background-color: #383838;\n",
       "                }\n",
       "\n",
       "                .geemap-dark .jupyter-button {\n",
       "                    --jp-layout-color3: #383838;\n",
       "                }\n",
       "\n",
       "                .geemap-colab {\n",
       "                    background-color: var(--colab-primary-surface-color, white);\n",
       "                }\n",
       "\n",
       "                .geemap-colab .jupyter-button {\n",
       "                    --jp-layout-color3: var(--colab-primary-surface-color, white);\n",
       "                }\n",
       "            </style>\n",
       "            "
      ],
      "text/plain": [
       "<IPython.core.display.HTML object>"
      ]
     },
     "metadata": {},
     "output_type": "display_data"
    }
   ],
   "source": [
    "# Save the map in folder 'interactive_html'\n",
    "hydrology_map.save('interactive_htmls/hydrology_map.html')"
   ]
  },
  {
   "cell_type": "code",
   "execution_count": 13,
   "id": "f938d96d-7847-4df6-a814-ee7e70240305",
   "metadata": {},
   "outputs": [
    {
     "data": {
      "text/html": [
       "\n",
       "            <style>\n",
       "                .geemap-dark {\n",
       "                    --jp-widgets-color: white;\n",
       "                    --jp-widgets-label-color: white;\n",
       "                    --jp-ui-font-color1: white;\n",
       "                    --jp-layout-color2: #454545;\n",
       "                    background-color: #383838;\n",
       "                }\n",
       "\n",
       "                .geemap-dark .jupyter-button {\n",
       "                    --jp-layout-color3: #383838;\n",
       "                }\n",
       "\n",
       "                .geemap-colab {\n",
       "                    background-color: var(--colab-primary-surface-color, white);\n",
       "                }\n",
       "\n",
       "                .geemap-colab .jupyter-button {\n",
       "                    --jp-layout-color3: var(--colab-primary-surface-color, white);\n",
       "                }\n",
       "            </style>\n",
       "            "
      ],
      "text/plain": [
       "<IPython.core.display.HTML object>"
      ]
     },
     "metadata": {},
     "output_type": "display_data"
    }
   ],
   "source": [
    "# Use of Selenium and Time to convert interactive html maps to static screenshots\n",
    "from selenium import webdriver\n",
    "from selenium.webdriver.firefox.service import Service\n",
    "from selenium.webdriver.common.by import By\n",
    "from selenium.webdriver.support.ui import WebDriverWait\n",
    "from selenium.webdriver.support import expected_conditions as EC\n",
    "from PIL import Image\n",
    "import time\n",
    "\n",
    "# Path to the Geckodriver (https://sourceforge.net/projects/geckodriver.mirror/), differs for each Webbrowser\n",
    "driver_path = r'C:\\Users\\Vivek.Rana\\Desktop\\dsk\\Solvers\\geckodriver-v0.34.0-win64\\geckodriver.exe'\n",
    "\n",
    "# Set up the Selenium driver for Firefox in default\n",
    "service = Service(executable_path=driver_path)\n",
    "options = webdriver.FirefoxOptions()\n",
    "options.add_argument('--headless')\n",
    "options.add_argument('--disable-gpu')\n",
    "options.add_argument('--window-size=1200x800')\n",
    "driver = webdriver.Firefox(service=service, options=options)\n",
    "\n",
    "# List of HTML files to convert\n",
    "html_files = [\n",
    "    r'C:\\Users\\Vivek.Rana\\Desktop\\Projects\\WEFESA\\WEFESiteAnalyst\\examples\\India\\interactive_htmls\\satellite_map.html',\n",
    "    r'C:\\Users\\Vivek.Rana\\Desktop\\Projects\\WEFESA\\WEFESiteAnalyst\\examples\\India\\interactive_htmls\\terrain_map.html',\n",
    "    r'C:\\Users\\Vivek.Rana\\Desktop\\Projects\\WEFESA\\WEFESiteAnalyst\\examples\\India\\interactive_htmls\\landuse_map.html',\n",
    "    r'C:\\Users\\Vivek.Rana\\Desktop\\Projects\\WEFESA\\WEFESiteAnalyst\\examples\\India\\interactive_htmls\\hydrology_map.html'\n",
    "]\n",
    "\n",
    "# Directory to save the screenshots\n",
    "output_dir = 'screenshots'\n",
    "os.makedirs(output_dir, exist_ok=True)\n",
    "\n",
    "# Function to convert HTML file to static image\n",
    "def convert_html_to_image(html_file_path, output_image_path):\n",
    "    driver.get(f'file:///{html_file_path}')\n",
    "\n",
    "    # Wait for the map to load\n",
    "    try:\n",
    "        # Adjust the selector to target a specific element of your map\n",
    "        element_present = EC.presence_of_element_located((By.CLASS_NAME, 'leaflet-pane'))\n",
    "        WebDriverWait(driver, 10).until(element_present)\n",
    "    except Exception as e:\n",
    "        print(f\"An error occurred while loading {html_file_path}: {e}\")\n",
    "        return\n",
    "\n",
    "    # Add a delay to ensure everything is rendered\n",
    "    time.sleep(5)\n",
    "\n",
    "    # Save the screenshot\n",
    "    driver.save_screenshot(output_image_path)\n",
    "\n",
    "    # Optionally, crop the image to the desired area\n",
    "    #image = Image.open(output_image_path)\n",
    "    #cropped_image = image.crop((0, 0, 1200, 800))\n",
    "    #cropped_image.save(output_image_path)\n",
    "\n",
    "# Loop through HTML files and convert each one\n",
    "for html_file in html_files:\n",
    "    # Generate output image path based on HTML file name\n",
    "    output_image_name = os.path.basename(html_file).replace('.html', '.png')\n",
    "    output_image_path = os.path.join(output_dir, output_image_name)\n",
    "    \n",
    "    # Convert HTML to image\n",
    "    convert_html_to_image(html_file, output_image_path)\n",
    "\n",
    "# Close the driver\n",
    "driver.quit()"
   ]
  },
  {
   "cell_type": "code",
   "execution_count": 14,
   "id": "d17ab640",
   "metadata": {},
   "outputs": [
    {
     "data": {
      "text/html": [
       "\n",
       "            <style>\n",
       "                .geemap-dark {\n",
       "                    --jp-widgets-color: white;\n",
       "                    --jp-widgets-label-color: white;\n",
       "                    --jp-ui-font-color1: white;\n",
       "                    --jp-layout-color2: #454545;\n",
       "                    background-color: #383838;\n",
       "                }\n",
       "\n",
       "                .geemap-dark .jupyter-button {\n",
       "                    --jp-layout-color3: #383838;\n",
       "                }\n",
       "\n",
       "                .geemap-colab {\n",
       "                    background-color: var(--colab-primary-surface-color, white);\n",
       "                }\n",
       "\n",
       "                .geemap-colab .jupyter-button {\n",
       "                    --jp-layout-color3: var(--colab-primary-surface-color, white);\n",
       "                }\n",
       "            </style>\n",
       "            "
      ],
      "text/plain": [
       "<IPython.core.display.HTML object>"
      ]
     },
     "metadata": {},
     "output_type": "display_data"
    },
    {
     "name": "stdout",
     "output_type": "stream",
     "text": [
      "<class 'ee.image.Image'>\n",
      "            soil organic carbon [dg/kg]  bulk density [cg/cm³]  \\\n",
      "soil_depth                                                       \n",
      "0-5cm                               198                    148   \n",
      "100-200cm                            99                    151   \n",
      "15-30cm                             105                    151   \n",
      "30-60cm                             106                    150   \n",
      "5-15cm                              158                    150   \n",
      "60-100cm                             98                    151   \n",
      "\n",
      "            cation exchange capacity at pH 7 [mmol(c)/kg]  \\\n",
      "soil_depth                                                  \n",
      "0-5cm                                                 304   \n",
      "100-200cm                                             294   \n",
      "15-30cm                                               306   \n",
      "30-60cm                                               304   \n",
      "5-15cm                                                307   \n",
      "60-100cm                                              302   \n",
      "\n",
      "            nitrogen content [cg/kg]  pH of soil water [pH*10]  \\\n",
      "soil_depth                                                       \n",
      "0-5cm                           1507                        71   \n",
      "100-200cm                        786                        75   \n",
      "15-30cm                         1252                        71   \n",
      "30-60cm                         1107                        73   \n",
      "5-15cm                          1125                        71   \n",
      "60-100cm                         807                        75   \n",
      "\n",
      "            clay content [g/kg]  silt content [g/kg]  sand content [g/kg]  \n",
      "soil_depth                                                                 \n",
      "0-5cm                       365                  322                  365  \n",
      "100-200cm                   353                  329                  353  \n",
      "15-30cm                     396                  312                  396  \n",
      "30-60cm                     364                  318                  364  \n",
      "5-15cm                      373                  321                  373  \n",
      "60-100cm                    361                  323                  361  \n",
      "            soil organic carbon [dg/kg]  bulk density [cg/cm³]  \\\n",
      "soil_depth                                                       \n",
      "0-5cm                               198                    148   \n",
      "100-200cm                            99                    151   \n",
      "15-30cm                             105                    151   \n",
      "30-60cm                             106                    150   \n",
      "5-15cm                              158                    150   \n",
      "60-100cm                             98                    151   \n",
      "\n",
      "            cation exchange capacity at pH 7 [mmol(c)/kg]  \\\n",
      "soil_depth                                                  \n",
      "0-5cm                                                 304   \n",
      "100-200cm                                             294   \n",
      "15-30cm                                               306   \n",
      "30-60cm                                               304   \n",
      "5-15cm                                                307   \n",
      "60-100cm                                              302   \n",
      "\n",
      "            nitrogen content [cg/kg]  pH of soil water [pH*10]  \\\n",
      "soil_depth                                                       \n",
      "0-5cm                           1507                        71   \n",
      "100-200cm                        786                        75   \n",
      "15-30cm                         1252                        71   \n",
      "30-60cm                         1107                        73   \n",
      "5-15cm                          1125                        71   \n",
      "60-100cm                         807                        75   \n",
      "\n",
      "            clay content [g/kg]  silt content [g/kg]  sand content [g/kg]  \\\n",
      "soil_depth                                                                  \n",
      "0-5cm                       365                  322                  365   \n",
      "100-200cm                   353                  329                  353   \n",
      "15-30cm                     396                  312                  396   \n",
      "30-60cm                     364                  318                  364   \n",
      "5-15cm                      373                  321                  373   \n",
      "60-100cm                    361                  323                  361   \n",
      "\n",
      "           soil texture  \n",
      "soil_depth               \n",
      "0-5cm        Sandy Loam  \n",
      "100-200cm    Sandy Loam  \n",
      "15-30cm      Sandy Loam  \n",
      "30-60cm      Sandy Loam  \n",
      "5-15cm       Sandy Loam  \n",
      "60-100cm     Sandy Loam  \n"
     ]
    }
   ],
   "source": [
    "## Soil Properties\n",
    "\n",
    "#soil organic carbon\n",
    "soc_mean = ee.Image(\"projects/soilgrids-isric/soc_mean\")\n",
    "print(type(soc_mean))\n",
    "\n",
    "# Soil salinity\n",
    "# Soil depth\n",
    "# soil bulk density\n",
    "bdod_mean = ee.Image(\"projects/soilgrids-isric/bdod_mean\")\n",
    "# Soil Cation Exchange Capacity\n",
    "cec_mean = ee.Image(\"projects/soilgrids-isric/cec_mean\")\n",
    "# Soil moisture\n",
    "#nitrogen\n",
    "nitrogen_mean = ee.Image(\"projects/soilgrids-isric/nitrogen_mean\")\n",
    "# Soil pH (in H2O)\n",
    "phh2o_mean = ee.Image(\"projects/soilgrids-isric/phh2o_mean\")\n",
    "# soil texture\n",
    "clay_mean = ee.Image(\"projects/soilgrids-isric/clay_mean\")\n",
    "silt_mean = ee.Image(\"projects/soilgrids-isric/silt_mean\")\n",
    "sand_mean = ee.Image(\"projects/soilgrids-isric/sand_mean\")\n",
    "\n",
    "location = {\n",
    "  \"type\": \"Point\",\n",
    "  \"coordinates\": [lon, lat]\n",
    "}\n",
    "\n",
    "# Extract the soil properties for the location\n",
    "soc_mean = soc_mean.reduceRegion(\n",
    "    reducer=ee.Reducer.first(),\n",
    "    geometry=ee.Geometry.Point(location[\"coordinates\"]),\n",
    "    scale=250\n",
    ").getInfo()\n",
    "\n",
    "bdod_mean = bdod_mean.reduceRegion(\n",
    "    reducer=ee.Reducer.first(),\n",
    "    geometry=ee.Geometry.Point(location[\"coordinates\"]),\n",
    "    scale=250\n",
    ").getInfo()\n",
    "\n",
    "cec_mean = cec_mean.reduceRegion(\n",
    "    reducer=ee.Reducer.first(),\n",
    "    geometry=ee.Geometry.Point(location[\"coordinates\"]),\n",
    "    scale=250\n",
    ").getInfo()\n",
    "\n",
    "nitrogen_mean = nitrogen_mean.reduceRegion(\n",
    "    reducer=ee.Reducer.first(),\n",
    "    geometry=ee.Geometry.Point(location[\"coordinates\"]),\n",
    "    scale=250\n",
    ").getInfo()\n",
    "\n",
    "phh2o_mean = phh2o_mean.reduceRegion(\n",
    "    reducer=ee.Reducer.first(),\n",
    "    geometry=ee.Geometry.Point(location[\"coordinates\"]),\n",
    "    scale=250\n",
    ").getInfo()\n",
    "\n",
    "clay_mean = clay_mean.reduceRegion(\n",
    "    reducer=ee.Reducer.first(),\n",
    "    geometry=ee.Geometry.Point(location[\"coordinates\"]),\n",
    "    scale=250\n",
    ").getInfo()\n",
    "\n",
    "silt_mean = silt_mean.reduceRegion(\n",
    "    reducer=ee.Reducer.first(),\n",
    "    geometry=ee.Geometry.Point(location[\"coordinates\"]),\n",
    "    scale=250\n",
    ").getInfo()\n",
    "index_list = ['0-5cm', '100-200cm', '15-30cm', '30-60cm', '5-15cm', '60-100cm']\n",
    "\n",
    "sand_mean = sand_mean.reduceRegion(\n",
    "    reducer=ee.Reducer.first(),\n",
    "    geometry=ee.Geometry.Point(location[\"coordinates\"]),\n",
    "    scale=250\n",
    ").getInfo()\n",
    "\n",
    "# Convert the soil properties to a pandas dataframe\n",
    "soc_mean_df = pd.DataFrame.from_dict(soc_mean, orient='index', columns=[\"soil organic carbon [dg/kg]\"])\n",
    "soc_mean_df['soil_depth'] = index_list\n",
    "soc_mean_df = soc_mean_df.set_index(keys='soil_depth')\n",
    "\n",
    "bdod_mean_df = pd.DataFrame.from_dict(bdod_mean, orient='index', columns=[\"bulk density [cg/cm³]\"])\n",
    "bdod_mean_df['soil_depth'] = index_list\n",
    "bdod_mean_df = bdod_mean_df.set_index(keys='soil_depth')\n",
    "\n",
    "cec_mean_df  = pd.DataFrame.from_dict(cec_mean, orient='index', columns=[\"cation exchange capacity at pH 7 [mmol(c)/kg]\"])\n",
    "cec_mean_df['soil_depth'] = index_list\n",
    "cec_mean_df = cec_mean_df.set_index(keys='soil_depth')\n",
    "\n",
    "nitrogen_mean_df = pd.DataFrame.from_dict(nitrogen_mean, orient='index', columns=[\"nitrogen content [cg/kg]\"])\n",
    "nitrogen_mean_df['soil_depth'] = index_list\n",
    "nitrogen_mean_df = nitrogen_mean_df.set_index(keys='soil_depth')\n",
    "\n",
    "phh2o_mean_df = pd.DataFrame.from_dict(phh2o_mean, orient='index', columns=[\"pH of soil water [pH*10]\"])\n",
    "phh2o_mean_df['soil_depth'] = index_list\n",
    "phh2o_mean_df = phh2o_mean_df.set_index(keys='soil_depth')\n",
    "\n",
    "clay_mean_df = pd.DataFrame.from_dict(clay_mean, orient='index', columns=[\"clay content [g/kg]\"])\n",
    "clay_mean_df['soil_depth'] = index_list\n",
    "clay_mean_df = clay_mean_df.set_index(keys='soil_depth')\n",
    "\n",
    "silt_mean_df = pd.DataFrame.from_dict(silt_mean, orient='index', columns=[\"silt content [g/kg]\"])\n",
    "silt_mean_df['soil_depth'] = index_list\n",
    "silt_mean_df = silt_mean_df.set_index(keys='soil_depth')\n",
    "\n",
    "sand_mean_df = pd.DataFrame.from_dict(clay_mean, orient='index', columns=[\"sand content [g/kg]\"])\n",
    "sand_mean_df['soil_depth'] = index_list\n",
    "sand_mean_df = sand_mean_df.set_index(keys='soil_depth')\n",
    "\n",
    "soil_properties_df = pd.concat((soc_mean_df, bdod_mean_df, cec_mean_df, nitrogen_mean_df, phh2o_mean_df, clay_mean_df, silt_mean_df, sand_mean_df), axis=1)\n",
    "print(soil_properties_df)\n",
    "\n",
    "\n",
    "def soil_texture(row):\n",
    "    clay =row[\"clay content [g/kg]\"]\n",
    "    silt =row[\"silt content [g/kg]\"]\n",
    "    sand =row[\"sand content [g/kg]\"]\n",
    "    \n",
    "    total = clay + silt + sand\n",
    "    clay_percent = clay / total * 100\n",
    "    silt_percent = silt / total * 100\n",
    "    sand_percent = sand / total * 100\n",
    "\n",
    "    if sand_percent >= 50:\n",
    "        return \"Sand\"\n",
    "    elif silt_percent >= 50:\n",
    "        return \"Silt\"\n",
    "    elif clay_percent >= 50:\n",
    "        return \"Clay\"\n",
    "    elif sand_percent >= 30:\n",
    "        return \"Sandy Loam\"\n",
    "    elif silt_percent >= 30:\n",
    "        return \"Silt Loam\"\n",
    "    elif clay_percent >= 30:\n",
    "        return \"Clay Loam\"\n",
    "    else:\n",
    "        return \"Loam\"\n",
    "\n",
    "\n",
    "soil_properties_df[\"soil texture\"] = soil_properties_df.apply(soil_texture, axis=1)\n",
    "print(soil_properties_df)\n",
    "\n",
    "\n",
    "soil_properties_df.to_csv('soil_properties_'+name+'.csv', index = True)\n",
    "\n"
   ]
  },
  {
   "cell_type": "code",
   "execution_count": 15,
   "id": "c3a93934",
   "metadata": {},
   "outputs": [
    {
     "data": {
      "text/html": [
       "\n",
       "            <style>\n",
       "                .geemap-dark {\n",
       "                    --jp-widgets-color: white;\n",
       "                    --jp-widgets-label-color: white;\n",
       "                    --jp-ui-font-color1: white;\n",
       "                    --jp-layout-color2: #454545;\n",
       "                    background-color: #383838;\n",
       "                }\n",
       "\n",
       "                .geemap-dark .jupyter-button {\n",
       "                    --jp-layout-color3: #383838;\n",
       "                }\n",
       "\n",
       "                .geemap-colab {\n",
       "                    background-color: var(--colab-primary-surface-color, white);\n",
       "                }\n",
       "\n",
       "                .geemap-colab .jupyter-button {\n",
       "                    --jp-layout-color3: var(--colab-primary-surface-color, white);\n",
       "                }\n",
       "            </style>\n",
       "            "
      ],
      "text/plain": [
       "<IPython.core.display.HTML object>"
      ]
     },
     "metadata": {},
     "output_type": "display_data"
    },
    {
     "name": "stdout",
     "output_type": "stream",
     "text": [
      "era5_wefesiteanalyst_masma.nc\n"
     ]
    },
    {
     "name": "stderr",
     "output_type": "stream",
     "text": [
      "2024-12-11 16:17:28,409 INFO [2024-09-28T00:00:00] **Welcome to the New Climate Data Store (CDS)!** This new system is in its early days of full operations and still undergoing enhancements and fine tuning. Some disruptions are to be expected. Your \n",
      "[feedback](https://jira.ecmwf.int/plugins/servlet/desk/portal/1/create/202) is key to improve the user experience on the new CDS for the benefit of everyone. Thank you.\n",
      "2024-12-11 16:17:28,409 INFO [2024-09-26T00:00:00] Watch our [Forum](https://forum.ecmwf.int/) for Announcements, news and other discussed topics.\n",
      "2024-12-11 16:17:28,409 INFO [2024-09-16T00:00:00] Remember that you need to have an ECMWF account to use the new CDS. **Your old CDS credentials will not work in new CDS!**\n",
      "2024-12-11 16:17:28,409 WARNING [2024-06-16T00:00:00] CDS API syntax is changed and some keys or parameter names may have also changed. To avoid requests failing, please use the \"Show API request code\" tool on the dataset Download Form to check you are using the correct syntax for your API request.\n",
      "2024-12-11 16:17:28,862 WARNING [2024-10-10T00:00:00] The final validated ERA5 differs from ERA5T from July 2024 until further notice - please refer to our\n",
      "[Forum announcement](https://forum.ecmwf.int/t/final-validated-era5-product-to-differ-from-era5t-in-july-2024/6685)\n",
      "for details and watch it for further updates on this.\n",
      "2024-12-11 16:17:28,862 INFO Request ID is 71af087b-d1fd-4734-93b0-eb5140a80e96\n",
      "2024-12-11 16:17:29,262 INFO status has been updated to accepted\n",
      "2024-12-11 16:17:33,158 INFO status has been updated to running\n",
      "2024-12-11 16:17:36,830 INFO status has been updated to successful\n"
     ]
    },
    {
     "data": {
      "application/vnd.jupyter.widget-view+json": {
       "model_id": "",
       "version_major": 2,
       "version_minor": 0
      },
      "text/plain": [
       "184d8950b3f5ff07eca9276d5e6d18e6.zip:   0%|          | 0.00/1.28M [00:00<?, ?B/s]"
      ]
     },
     "metadata": {},
     "output_type": "display_data"
    }
   ],
   "source": [
    "# download era5 dataset\n",
    "\n",
    "variable = \"wefesiteanalyst\"\n",
    "target_file = 'era5_wefesiteanalyst_'+name+'.nc'\n",
    "print(target_file)\n",
    "\n",
    "\n",
    "ds = era5.get_era5_data_from_datespan_and_position(\n",
    "    variable=variable,\n",
    "    start_date=start_date, end_date=end_date,\n",
    "    latitude=lat, longitude=lon,\n",
    "    target_file=target_file)"
   ]
  },
  {
   "cell_type": "code",
   "execution_count": 22,
   "id": "9a0ebb45-636f-4d73-9340-8448cc8a3ade",
   "metadata": {},
   "outputs": [
    {
     "data": {
      "text/html": [
       "\n",
       "            <style>\n",
       "                .geemap-dark {\n",
       "                    --jp-widgets-color: white;\n",
       "                    --jp-widgets-label-color: white;\n",
       "                    --jp-ui-font-color1: white;\n",
       "                    --jp-layout-color2: #454545;\n",
       "                    background-color: #383838;\n",
       "                }\n",
       "\n",
       "                .geemap-dark .jupyter-button {\n",
       "                    --jp-layout-color3: #383838;\n",
       "                }\n",
       "\n",
       "                .geemap-colab {\n",
       "                    background-color: var(--colab-primary-surface-color, white);\n",
       "                }\n",
       "\n",
       "                .geemap-colab .jupyter-button {\n",
       "                    --jp-layout-color3: var(--colab-primary-surface-color, white);\n",
       "                }\n",
       "            </style>\n",
       "            "
      ],
      "text/plain": [
       "<IPython.core.display.HTML object>"
      ]
     },
     "metadata": {},
     "output_type": "display_data"
    },
    {
     "name": "stdout",
     "output_type": "stream",
     "text": [
      "Error opening file with xarray: [Errno -51] NetCDF: Unknown file format: 'C:\\\\Users\\\\Vivek.Rana\\\\Desktop\\\\Projects\\\\WEFESA\\\\WEFESiteAnalyst\\\\examples\\\\India\\\\era5_wefesiteanalyst_masma.nc'\n"
     ]
    }
   ],
   "source": [
    "import xarray as xr\n",
    "\n",
    "try:\n",
    "    ds = xr.open_dataset('era5_wefesiteanalyst_masma.nc', engine='netcdf4')\n",
    "    print(ds)\n",
    "except Exception as e:\n",
    "    print(\"Error opening file with xarray:\", e)"
   ]
  },
  {
   "cell_type": "code",
   "execution_count": 17,
   "id": "6177f804",
   "metadata": {},
   "outputs": [
    {
     "data": {
      "text/html": [
       "\n",
       "            <style>\n",
       "                .geemap-dark {\n",
       "                    --jp-widgets-color: white;\n",
       "                    --jp-widgets-label-color: white;\n",
       "                    --jp-ui-font-color1: white;\n",
       "                    --jp-layout-color2: #454545;\n",
       "                    background-color: #383838;\n",
       "                }\n",
       "\n",
       "                .geemap-dark .jupyter-button {\n",
       "                    --jp-layout-color3: #383838;\n",
       "                }\n",
       "\n",
       "                .geemap-colab {\n",
       "                    background-color: var(--colab-primary-surface-color, white);\n",
       "                }\n",
       "\n",
       "                .geemap-colab .jupyter-button {\n",
       "                    --jp-layout-color3: var(--colab-primary-surface-color, white);\n",
       "                }\n",
       "            </style>\n",
       "            "
      ],
      "text/plain": [
       "<IPython.core.display.HTML object>"
      ]
     },
     "metadata": {},
     "output_type": "display_data"
    },
    {
     "name": "stdout",
     "output_type": "stream",
     "text": [
      "True\n"
     ]
    },
    {
     "ename": "OSError",
     "evalue": "[Errno -51] NetCDF: Unknown file format: 'C:\\\\Users\\\\Vivek.Rana\\\\Desktop\\\\Projects\\\\WEFESA\\\\WEFESiteAnalyst\\\\examples\\\\India\\\\era5_wefesiteanalyst_masma.nc'",
     "output_type": "error",
     "traceback": [
      "\u001b[1;31m---------------------------------------------------------------------------\u001b[0m",
      "\u001b[1;31mKeyError\u001b[0m                                  Traceback (most recent call last)",
      "File \u001b[1;32m~\\AppData\\Local\\anaconda3\\envs\\WEFE_SA\\lib\\site-packages\\xarray\\backends\\file_manager.py:211\u001b[0m, in \u001b[0;36mCachingFileManager._acquire_with_cache_info\u001b[1;34m(self, needs_lock)\u001b[0m\n\u001b[0;32m    210\u001b[0m \u001b[38;5;28;01mtry\u001b[39;00m:\n\u001b[1;32m--> 211\u001b[0m     file \u001b[38;5;241m=\u001b[39m \u001b[38;5;28;43mself\u001b[39;49m\u001b[38;5;241;43m.\u001b[39;49m\u001b[43m_cache\u001b[49m\u001b[43m[\u001b[49m\u001b[38;5;28;43mself\u001b[39;49m\u001b[38;5;241;43m.\u001b[39;49m\u001b[43m_key\u001b[49m\u001b[43m]\u001b[49m\n\u001b[0;32m    212\u001b[0m \u001b[38;5;28;01mexcept\u001b[39;00m \u001b[38;5;167;01mKeyError\u001b[39;00m:\n",
      "File \u001b[1;32m~\\AppData\\Local\\anaconda3\\envs\\WEFE_SA\\lib\\site-packages\\xarray\\backends\\lru_cache.py:56\u001b[0m, in \u001b[0;36mLRUCache.__getitem__\u001b[1;34m(self, key)\u001b[0m\n\u001b[0;32m     55\u001b[0m \u001b[38;5;28;01mwith\u001b[39;00m \u001b[38;5;28mself\u001b[39m\u001b[38;5;241m.\u001b[39m_lock:\n\u001b[1;32m---> 56\u001b[0m     value \u001b[38;5;241m=\u001b[39m \u001b[38;5;28;43mself\u001b[39;49m\u001b[38;5;241;43m.\u001b[39;49m\u001b[43m_cache\u001b[49m\u001b[43m[\u001b[49m\u001b[43mkey\u001b[49m\u001b[43m]\u001b[49m\n\u001b[0;32m     57\u001b[0m     \u001b[38;5;28mself\u001b[39m\u001b[38;5;241m.\u001b[39m_cache\u001b[38;5;241m.\u001b[39mmove_to_end(key)\n",
      "\u001b[1;31mKeyError\u001b[0m: [<class 'netCDF4._netCDF4.Dataset'>, ('C:\\\\Users\\\\Vivek.Rana\\\\Desktop\\\\Projects\\\\WEFESA\\\\WEFESiteAnalyst\\\\examples\\\\India\\\\era5_wefesiteanalyst_masma.nc',), 'r', (('clobber', True), ('diskless', False), ('format', 'NETCDF4'), ('persist', False)), '43522182-f933-49f5-8138-85e01bf4efcd']",
      "\nDuring handling of the above exception, another exception occurred:\n",
      "\u001b[1;31mOSError\u001b[0m                                   Traceback (most recent call last)",
      "Cell \u001b[1;32mIn[17], line 3\u001b[0m\n\u001b[0;32m      1\u001b[0m \u001b[38;5;66;03m# File transformation nc to csv\u001b[39;00m\n\u001b[0;32m      2\u001b[0m \u001b[38;5;28mprint\u001b[39m(os\u001b[38;5;241m.\u001b[39mpath\u001b[38;5;241m.\u001b[39misfile(\u001b[38;5;124m'\u001b[39m\u001b[38;5;124mera5_wefesiteanalyst_\u001b[39m\u001b[38;5;124m'\u001b[39m \u001b[38;5;241m+\u001b[39m name \u001b[38;5;241m+\u001b[39m \u001b[38;5;124m'\u001b[39m\u001b[38;5;124m.nc\u001b[39m\u001b[38;5;124m'\u001b[39m))\n\u001b[1;32m----> 3\u001b[0m ds \u001b[38;5;241m=\u001b[39m \u001b[43mxr\u001b[49m\u001b[38;5;241;43m.\u001b[39;49m\u001b[43mopen_dataset\u001b[49m\u001b[43m(\u001b[49m\u001b[38;5;124;43m'\u001b[39;49m\u001b[38;5;124;43mera5_wefesiteanalyst_\u001b[39;49m\u001b[38;5;124;43m'\u001b[39;49m\u001b[38;5;241;43m+\u001b[39;49m\u001b[43mname\u001b[49m\u001b[38;5;241;43m+\u001b[39;49m\u001b[38;5;124;43m'\u001b[39;49m\u001b[38;5;124;43m.nc\u001b[39;49m\u001b[38;5;124;43m'\u001b[39;49m\u001b[43m,\u001b[49m\u001b[43m \u001b[49m\u001b[43mengine\u001b[49m\u001b[38;5;241;43m=\u001b[39;49m\u001b[38;5;124;43m'\u001b[39;49m\u001b[38;5;124;43mnetcdf4\u001b[39;49m\u001b[38;5;124;43m'\u001b[39;49m\u001b[43m)\u001b[49m\n\u001b[0;32m      4\u001b[0m era5_wefe \u001b[38;5;241m=\u001b[39m ds\u001b[38;5;241m.\u001b[39mto_dataframe()\n\u001b[0;32m      5\u001b[0m \u001b[38;5;66;03m# transform time: Costa Rica Time: UTC -6\u001b[39;00m\n\u001b[0;32m      6\u001b[0m \u001b[38;5;66;03m# Create a date range with the desired starting date and frequency\u001b[39;00m\n\u001b[0;32m      7\u001b[0m \u001b[38;5;66;03m#print(era5_wefe)\u001b[39;00m\n",
      "File \u001b[1;32m~\\AppData\\Local\\anaconda3\\envs\\WEFE_SA\\lib\\site-packages\\xarray\\backends\\api.py:571\u001b[0m, in \u001b[0;36mopen_dataset\u001b[1;34m(filename_or_obj, engine, chunks, cache, decode_cf, mask_and_scale, decode_times, decode_timedelta, use_cftime, concat_characters, decode_coords, drop_variables, inline_array, chunked_array_type, from_array_kwargs, backend_kwargs, **kwargs)\u001b[0m\n\u001b[0;32m    559\u001b[0m decoders \u001b[38;5;241m=\u001b[39m _resolve_decoders_kwargs(\n\u001b[0;32m    560\u001b[0m     decode_cf,\n\u001b[0;32m    561\u001b[0m     open_backend_dataset_parameters\u001b[38;5;241m=\u001b[39mbackend\u001b[38;5;241m.\u001b[39mopen_dataset_parameters,\n\u001b[1;32m   (...)\u001b[0m\n\u001b[0;32m    567\u001b[0m     decode_coords\u001b[38;5;241m=\u001b[39mdecode_coords,\n\u001b[0;32m    568\u001b[0m )\n\u001b[0;32m    570\u001b[0m overwrite_encoded_chunks \u001b[38;5;241m=\u001b[39m kwargs\u001b[38;5;241m.\u001b[39mpop(\u001b[38;5;124m\"\u001b[39m\u001b[38;5;124moverwrite_encoded_chunks\u001b[39m\u001b[38;5;124m\"\u001b[39m, \u001b[38;5;28;01mNone\u001b[39;00m)\n\u001b[1;32m--> 571\u001b[0m backend_ds \u001b[38;5;241m=\u001b[39m backend\u001b[38;5;241m.\u001b[39mopen_dataset(\n\u001b[0;32m    572\u001b[0m     filename_or_obj,\n\u001b[0;32m    573\u001b[0m     drop_variables\u001b[38;5;241m=\u001b[39mdrop_variables,\n\u001b[0;32m    574\u001b[0m     \u001b[38;5;241m*\u001b[39m\u001b[38;5;241m*\u001b[39mdecoders,\n\u001b[0;32m    575\u001b[0m     \u001b[38;5;241m*\u001b[39m\u001b[38;5;241m*\u001b[39mkwargs,\n\u001b[0;32m    576\u001b[0m )\n\u001b[0;32m    577\u001b[0m ds \u001b[38;5;241m=\u001b[39m _dataset_from_backend_dataset(\n\u001b[0;32m    578\u001b[0m     backend_ds,\n\u001b[0;32m    579\u001b[0m     filename_or_obj,\n\u001b[1;32m   (...)\u001b[0m\n\u001b[0;32m    589\u001b[0m     \u001b[38;5;241m*\u001b[39m\u001b[38;5;241m*\u001b[39mkwargs,\n\u001b[0;32m    590\u001b[0m )\n\u001b[0;32m    591\u001b[0m \u001b[38;5;28;01mreturn\u001b[39;00m ds\n",
      "File \u001b[1;32m~\\AppData\\Local\\anaconda3\\envs\\WEFE_SA\\lib\\site-packages\\xarray\\backends\\netCDF4_.py:645\u001b[0m, in \u001b[0;36mNetCDF4BackendEntrypoint.open_dataset\u001b[1;34m(self, filename_or_obj, mask_and_scale, decode_times, concat_characters, decode_coords, drop_variables, use_cftime, decode_timedelta, group, mode, format, clobber, diskless, persist, lock, autoclose)\u001b[0m\n\u001b[0;32m    624\u001b[0m \u001b[38;5;28;01mdef\u001b[39;00m \u001b[38;5;21mopen_dataset\u001b[39m(  \u001b[38;5;66;03m# type: ignore[override]  # allow LSP violation, not supporting **kwargs\u001b[39;00m\n\u001b[0;32m    625\u001b[0m     \u001b[38;5;28mself\u001b[39m,\n\u001b[0;32m    626\u001b[0m     filename_or_obj: \u001b[38;5;28mstr\u001b[39m \u001b[38;5;241m|\u001b[39m os\u001b[38;5;241m.\u001b[39mPathLike[Any] \u001b[38;5;241m|\u001b[39m BufferedIOBase \u001b[38;5;241m|\u001b[39m AbstractDataStore,\n\u001b[1;32m   (...)\u001b[0m\n\u001b[0;32m    642\u001b[0m     autoclose\u001b[38;5;241m=\u001b[39m\u001b[38;5;28;01mFalse\u001b[39;00m,\n\u001b[0;32m    643\u001b[0m ) \u001b[38;5;241m-\u001b[39m\u001b[38;5;241m>\u001b[39m Dataset:\n\u001b[0;32m    644\u001b[0m     filename_or_obj \u001b[38;5;241m=\u001b[39m _normalize_path(filename_or_obj)\n\u001b[1;32m--> 645\u001b[0m     store \u001b[38;5;241m=\u001b[39m \u001b[43mNetCDF4DataStore\u001b[49m\u001b[38;5;241;43m.\u001b[39;49m\u001b[43mopen\u001b[49m\u001b[43m(\u001b[49m\n\u001b[0;32m    646\u001b[0m \u001b[43m        \u001b[49m\u001b[43mfilename_or_obj\u001b[49m\u001b[43m,\u001b[49m\n\u001b[0;32m    647\u001b[0m \u001b[43m        \u001b[49m\u001b[43mmode\u001b[49m\u001b[38;5;241;43m=\u001b[39;49m\u001b[43mmode\u001b[49m\u001b[43m,\u001b[49m\n\u001b[0;32m    648\u001b[0m \u001b[43m        \u001b[49m\u001b[38;5;28;43mformat\u001b[39;49m\u001b[38;5;241;43m=\u001b[39;49m\u001b[38;5;28;43mformat\u001b[39;49m\u001b[43m,\u001b[49m\n\u001b[0;32m    649\u001b[0m \u001b[43m        \u001b[49m\u001b[43mgroup\u001b[49m\u001b[38;5;241;43m=\u001b[39;49m\u001b[43mgroup\u001b[49m\u001b[43m,\u001b[49m\n\u001b[0;32m    650\u001b[0m \u001b[43m        \u001b[49m\u001b[43mclobber\u001b[49m\u001b[38;5;241;43m=\u001b[39;49m\u001b[43mclobber\u001b[49m\u001b[43m,\u001b[49m\n\u001b[0;32m    651\u001b[0m \u001b[43m        \u001b[49m\u001b[43mdiskless\u001b[49m\u001b[38;5;241;43m=\u001b[39;49m\u001b[43mdiskless\u001b[49m\u001b[43m,\u001b[49m\n\u001b[0;32m    652\u001b[0m \u001b[43m        \u001b[49m\u001b[43mpersist\u001b[49m\u001b[38;5;241;43m=\u001b[39;49m\u001b[43mpersist\u001b[49m\u001b[43m,\u001b[49m\n\u001b[0;32m    653\u001b[0m \u001b[43m        \u001b[49m\u001b[43mlock\u001b[49m\u001b[38;5;241;43m=\u001b[39;49m\u001b[43mlock\u001b[49m\u001b[43m,\u001b[49m\n\u001b[0;32m    654\u001b[0m \u001b[43m        \u001b[49m\u001b[43mautoclose\u001b[49m\u001b[38;5;241;43m=\u001b[39;49m\u001b[43mautoclose\u001b[49m\u001b[43m,\u001b[49m\n\u001b[0;32m    655\u001b[0m \u001b[43m    \u001b[49m\u001b[43m)\u001b[49m\n\u001b[0;32m    657\u001b[0m     store_entrypoint \u001b[38;5;241m=\u001b[39m StoreBackendEntrypoint()\n\u001b[0;32m    658\u001b[0m     \u001b[38;5;28;01mwith\u001b[39;00m close_on_error(store):\n",
      "File \u001b[1;32m~\\AppData\\Local\\anaconda3\\envs\\WEFE_SA\\lib\\site-packages\\xarray\\backends\\netCDF4_.py:408\u001b[0m, in \u001b[0;36mNetCDF4DataStore.open\u001b[1;34m(cls, filename, mode, format, group, clobber, diskless, persist, lock, lock_maker, autoclose)\u001b[0m\n\u001b[0;32m    402\u001b[0m kwargs \u001b[38;5;241m=\u001b[39m \u001b[38;5;28mdict\u001b[39m(\n\u001b[0;32m    403\u001b[0m     clobber\u001b[38;5;241m=\u001b[39mclobber, diskless\u001b[38;5;241m=\u001b[39mdiskless, persist\u001b[38;5;241m=\u001b[39mpersist, \u001b[38;5;28mformat\u001b[39m\u001b[38;5;241m=\u001b[39m\u001b[38;5;28mformat\u001b[39m\n\u001b[0;32m    404\u001b[0m )\n\u001b[0;32m    405\u001b[0m manager \u001b[38;5;241m=\u001b[39m CachingFileManager(\n\u001b[0;32m    406\u001b[0m     netCDF4\u001b[38;5;241m.\u001b[39mDataset, filename, mode\u001b[38;5;241m=\u001b[39mmode, kwargs\u001b[38;5;241m=\u001b[39mkwargs\n\u001b[0;32m    407\u001b[0m )\n\u001b[1;32m--> 408\u001b[0m \u001b[38;5;28;01mreturn\u001b[39;00m \u001b[38;5;28;43mcls\u001b[39;49m\u001b[43m(\u001b[49m\u001b[43mmanager\u001b[49m\u001b[43m,\u001b[49m\u001b[43m \u001b[49m\u001b[43mgroup\u001b[49m\u001b[38;5;241;43m=\u001b[39;49m\u001b[43mgroup\u001b[49m\u001b[43m,\u001b[49m\u001b[43m \u001b[49m\u001b[43mmode\u001b[49m\u001b[38;5;241;43m=\u001b[39;49m\u001b[43mmode\u001b[49m\u001b[43m,\u001b[49m\u001b[43m \u001b[49m\u001b[43mlock\u001b[49m\u001b[38;5;241;43m=\u001b[39;49m\u001b[43mlock\u001b[49m\u001b[43m,\u001b[49m\u001b[43m \u001b[49m\u001b[43mautoclose\u001b[49m\u001b[38;5;241;43m=\u001b[39;49m\u001b[43mautoclose\u001b[49m\u001b[43m)\u001b[49m\n",
      "File \u001b[1;32m~\\AppData\\Local\\anaconda3\\envs\\WEFE_SA\\lib\\site-packages\\xarray\\backends\\netCDF4_.py:355\u001b[0m, in \u001b[0;36mNetCDF4DataStore.__init__\u001b[1;34m(self, manager, group, mode, lock, autoclose)\u001b[0m\n\u001b[0;32m    353\u001b[0m \u001b[38;5;28mself\u001b[39m\u001b[38;5;241m.\u001b[39m_group \u001b[38;5;241m=\u001b[39m group\n\u001b[0;32m    354\u001b[0m \u001b[38;5;28mself\u001b[39m\u001b[38;5;241m.\u001b[39m_mode \u001b[38;5;241m=\u001b[39m mode\n\u001b[1;32m--> 355\u001b[0m \u001b[38;5;28mself\u001b[39m\u001b[38;5;241m.\u001b[39mformat \u001b[38;5;241m=\u001b[39m \u001b[38;5;28;43mself\u001b[39;49m\u001b[38;5;241;43m.\u001b[39;49m\u001b[43mds\u001b[49m\u001b[38;5;241m.\u001b[39mdata_model\n\u001b[0;32m    356\u001b[0m \u001b[38;5;28mself\u001b[39m\u001b[38;5;241m.\u001b[39m_filename \u001b[38;5;241m=\u001b[39m \u001b[38;5;28mself\u001b[39m\u001b[38;5;241m.\u001b[39mds\u001b[38;5;241m.\u001b[39mfilepath()\n\u001b[0;32m    357\u001b[0m \u001b[38;5;28mself\u001b[39m\u001b[38;5;241m.\u001b[39mis_remote \u001b[38;5;241m=\u001b[39m is_remote_uri(\u001b[38;5;28mself\u001b[39m\u001b[38;5;241m.\u001b[39m_filename)\n",
      "File \u001b[1;32m~\\AppData\\Local\\anaconda3\\envs\\WEFE_SA\\lib\\site-packages\\xarray\\backends\\netCDF4_.py:417\u001b[0m, in \u001b[0;36mNetCDF4DataStore.ds\u001b[1;34m(self)\u001b[0m\n\u001b[0;32m    415\u001b[0m \u001b[38;5;129m@property\u001b[39m\n\u001b[0;32m    416\u001b[0m \u001b[38;5;28;01mdef\u001b[39;00m \u001b[38;5;21mds\u001b[39m(\u001b[38;5;28mself\u001b[39m):\n\u001b[1;32m--> 417\u001b[0m     \u001b[38;5;28;01mreturn\u001b[39;00m \u001b[38;5;28;43mself\u001b[39;49m\u001b[38;5;241;43m.\u001b[39;49m\u001b[43m_acquire\u001b[49m\u001b[43m(\u001b[49m\u001b[43m)\u001b[49m\n",
      "File \u001b[1;32m~\\AppData\\Local\\anaconda3\\envs\\WEFE_SA\\lib\\site-packages\\xarray\\backends\\netCDF4_.py:411\u001b[0m, in \u001b[0;36mNetCDF4DataStore._acquire\u001b[1;34m(self, needs_lock)\u001b[0m\n\u001b[0;32m    410\u001b[0m \u001b[38;5;28;01mdef\u001b[39;00m \u001b[38;5;21m_acquire\u001b[39m(\u001b[38;5;28mself\u001b[39m, needs_lock\u001b[38;5;241m=\u001b[39m\u001b[38;5;28;01mTrue\u001b[39;00m):\n\u001b[1;32m--> 411\u001b[0m     \u001b[38;5;28;01mwith\u001b[39;00m \u001b[38;5;28mself\u001b[39m\u001b[38;5;241m.\u001b[39m_manager\u001b[38;5;241m.\u001b[39macquire_context(needs_lock) \u001b[38;5;28;01mas\u001b[39;00m root:\n\u001b[0;32m    412\u001b[0m         ds \u001b[38;5;241m=\u001b[39m _nc4_require_group(root, \u001b[38;5;28mself\u001b[39m\u001b[38;5;241m.\u001b[39m_group, \u001b[38;5;28mself\u001b[39m\u001b[38;5;241m.\u001b[39m_mode)\n\u001b[0;32m    413\u001b[0m     \u001b[38;5;28;01mreturn\u001b[39;00m ds\n",
      "File \u001b[1;32m~\\AppData\\Local\\anaconda3\\envs\\WEFE_SA\\lib\\contextlib.py:135\u001b[0m, in \u001b[0;36m_GeneratorContextManager.__enter__\u001b[1;34m(self)\u001b[0m\n\u001b[0;32m    133\u001b[0m \u001b[38;5;28;01mdel\u001b[39;00m \u001b[38;5;28mself\u001b[39m\u001b[38;5;241m.\u001b[39margs, \u001b[38;5;28mself\u001b[39m\u001b[38;5;241m.\u001b[39mkwds, \u001b[38;5;28mself\u001b[39m\u001b[38;5;241m.\u001b[39mfunc\n\u001b[0;32m    134\u001b[0m \u001b[38;5;28;01mtry\u001b[39;00m:\n\u001b[1;32m--> 135\u001b[0m     \u001b[38;5;28;01mreturn\u001b[39;00m \u001b[38;5;28;43mnext\u001b[39;49m\u001b[43m(\u001b[49m\u001b[38;5;28;43mself\u001b[39;49m\u001b[38;5;241;43m.\u001b[39;49m\u001b[43mgen\u001b[49m\u001b[43m)\u001b[49m\n\u001b[0;32m    136\u001b[0m \u001b[38;5;28;01mexcept\u001b[39;00m \u001b[38;5;167;01mStopIteration\u001b[39;00m:\n\u001b[0;32m    137\u001b[0m     \u001b[38;5;28;01mraise\u001b[39;00m \u001b[38;5;167;01mRuntimeError\u001b[39;00m(\u001b[38;5;124m\"\u001b[39m\u001b[38;5;124mgenerator didn\u001b[39m\u001b[38;5;124m'\u001b[39m\u001b[38;5;124mt yield\u001b[39m\u001b[38;5;124m\"\u001b[39m) \u001b[38;5;28;01mfrom\u001b[39;00m \u001b[38;5;28;01mNone\u001b[39;00m\n",
      "File \u001b[1;32m~\\AppData\\Local\\anaconda3\\envs\\WEFE_SA\\lib\\site-packages\\xarray\\backends\\file_manager.py:199\u001b[0m, in \u001b[0;36mCachingFileManager.acquire_context\u001b[1;34m(self, needs_lock)\u001b[0m\n\u001b[0;32m    196\u001b[0m \u001b[38;5;129m@contextlib\u001b[39m\u001b[38;5;241m.\u001b[39mcontextmanager\n\u001b[0;32m    197\u001b[0m \u001b[38;5;28;01mdef\u001b[39;00m \u001b[38;5;21macquire_context\u001b[39m(\u001b[38;5;28mself\u001b[39m, needs_lock\u001b[38;5;241m=\u001b[39m\u001b[38;5;28;01mTrue\u001b[39;00m):\n\u001b[0;32m    198\u001b[0m \u001b[38;5;250m    \u001b[39m\u001b[38;5;124;03m\"\"\"Context manager for acquiring a file.\"\"\"\u001b[39;00m\n\u001b[1;32m--> 199\u001b[0m     file, cached \u001b[38;5;241m=\u001b[39m \u001b[38;5;28;43mself\u001b[39;49m\u001b[38;5;241;43m.\u001b[39;49m\u001b[43m_acquire_with_cache_info\u001b[49m\u001b[43m(\u001b[49m\u001b[43mneeds_lock\u001b[49m\u001b[43m)\u001b[49m\n\u001b[0;32m    200\u001b[0m     \u001b[38;5;28;01mtry\u001b[39;00m:\n\u001b[0;32m    201\u001b[0m         \u001b[38;5;28;01myield\u001b[39;00m file\n",
      "File \u001b[1;32m~\\AppData\\Local\\anaconda3\\envs\\WEFE_SA\\lib\\site-packages\\xarray\\backends\\file_manager.py:217\u001b[0m, in \u001b[0;36mCachingFileManager._acquire_with_cache_info\u001b[1;34m(self, needs_lock)\u001b[0m\n\u001b[0;32m    215\u001b[0m     kwargs \u001b[38;5;241m=\u001b[39m kwargs\u001b[38;5;241m.\u001b[39mcopy()\n\u001b[0;32m    216\u001b[0m     kwargs[\u001b[38;5;124m\"\u001b[39m\u001b[38;5;124mmode\u001b[39m\u001b[38;5;124m\"\u001b[39m] \u001b[38;5;241m=\u001b[39m \u001b[38;5;28mself\u001b[39m\u001b[38;5;241m.\u001b[39m_mode\n\u001b[1;32m--> 217\u001b[0m file \u001b[38;5;241m=\u001b[39m \u001b[38;5;28mself\u001b[39m\u001b[38;5;241m.\u001b[39m_opener(\u001b[38;5;241m*\u001b[39m\u001b[38;5;28mself\u001b[39m\u001b[38;5;241m.\u001b[39m_args, \u001b[38;5;241m*\u001b[39m\u001b[38;5;241m*\u001b[39mkwargs)\n\u001b[0;32m    218\u001b[0m \u001b[38;5;28;01mif\u001b[39;00m \u001b[38;5;28mself\u001b[39m\u001b[38;5;241m.\u001b[39m_mode \u001b[38;5;241m==\u001b[39m \u001b[38;5;124m\"\u001b[39m\u001b[38;5;124mw\u001b[39m\u001b[38;5;124m\"\u001b[39m:\n\u001b[0;32m    219\u001b[0m     \u001b[38;5;66;03m# ensure file doesn't get overridden when opened again\u001b[39;00m\n\u001b[0;32m    220\u001b[0m     \u001b[38;5;28mself\u001b[39m\u001b[38;5;241m.\u001b[39m_mode \u001b[38;5;241m=\u001b[39m \u001b[38;5;124m\"\u001b[39m\u001b[38;5;124ma\u001b[39m\u001b[38;5;124m\"\u001b[39m\n",
      "File \u001b[1;32msrc\\\\netCDF4\\\\_netCDF4.pyx:2470\u001b[0m, in \u001b[0;36mnetCDF4._netCDF4.Dataset.__init__\u001b[1;34m()\u001b[0m\n",
      "File \u001b[1;32msrc\\\\netCDF4\\\\_netCDF4.pyx:2107\u001b[0m, in \u001b[0;36mnetCDF4._netCDF4._ensure_nc_success\u001b[1;34m()\u001b[0m\n",
      "\u001b[1;31mOSError\u001b[0m: [Errno -51] NetCDF: Unknown file format: 'C:\\\\Users\\\\Vivek.Rana\\\\Desktop\\\\Projects\\\\WEFESA\\\\WEFESiteAnalyst\\\\examples\\\\India\\\\era5_wefesiteanalyst_masma.nc'"
     ]
    }
   ],
   "source": [
    "# File transformation nc to csv\n",
    "print(os.path.isfile('era5_wefesiteanalyst_' + name + '.nc'))\n",
    "ds = xr.open_dataset('era5_wefesiteanalyst_'+name+'.nc', engine='netcdf4')\n",
    "era5_wefe = ds.to_dataframe()\n",
    "# transform time: Costa Rica Time: UTC -6\n",
    "# Create a date range with the desired starting date and frequency\n",
    "#print(era5_wefe)\n",
    "date_range = pd.date_range(start='2022-01-01 00:00:00', freq='H', periods=len(era5_wefe))\n",
    "# Set the date range as the index of the DataFrame\n",
    "era5_wefe.set_index(date_range, inplace=True)\n",
    "# print(era5_wefe)\n",
    "# print(era5_wefe.dtypes)\n",
    "# convert units\n",
    "# global horizontal irradiance\n",
    "era5_wefe['ghi'] = (era5_wefe['ssrd'] / 3600.0)\n",
    "era5_wefe['t_air'] = era5_wefe['t2m']-273.15\n",
    "era5_wefe['e'] *=1000\n",
    "era5_wefe['tp']*=1000\n",
    "\n",
    "\n",
    "def calc_sqrt_sum_squares(df, col1, col2):\n",
    "    return np.sqrt(df[col1]**2 + df[col2]**2)\n",
    "\n",
    "era5_wefe['windspeed'] = calc_sqrt_sum_squares(era5_wefe, 'u10', 'v10')\n",
    "\n",
    "# create new dataframe only consisting out of data for required parameters\n",
    "\n",
    "columns = ['ghi', 't_air', 'e', 'tp', 'windspeed']\n",
    "values = era5_wefe[columns].values\n",
    "ep = pd.DataFrame(values, columns=columns, index = era5_wefe.index)\n",
    "\n",
    "\n",
    "print(ep)\n",
    "#print(ep.dtypes)\n",
    "\n",
    "ep.to_csv('era5_wefesiteanalyst_'+name+'.csv', index=True)\n"
   ]
  },
  {
   "cell_type": "code",
   "execution_count": 18,
   "id": "066bee93",
   "metadata": {},
   "outputs": [
    {
     "data": {
      "text/html": [
       "\n",
       "            <style>\n",
       "                .geemap-dark {\n",
       "                    --jp-widgets-color: white;\n",
       "                    --jp-widgets-label-color: white;\n",
       "                    --jp-ui-font-color1: white;\n",
       "                    --jp-layout-color2: #454545;\n",
       "                    background-color: #383838;\n",
       "                }\n",
       "\n",
       "                .geemap-dark .jupyter-button {\n",
       "                    --jp-layout-color3: #383838;\n",
       "                }\n",
       "\n",
       "                .geemap-colab {\n",
       "                    background-color: var(--colab-primary-surface-color, white);\n",
       "                }\n",
       "\n",
       "                .geemap-colab .jupyter-button {\n",
       "                    --jp-layout-color3: var(--colab-primary-surface-color, white);\n",
       "                }\n",
       "            </style>\n",
       "            "
      ],
      "text/plain": [
       "<IPython.core.display.HTML object>"
      ]
     },
     "metadata": {},
     "output_type": "display_data"
    },
    {
     "name": "stdout",
     "output_type": "stream",
     "text": [
      "2010.55\n",
      "2.71\n",
      "666.61\n",
      "19.31\n"
     ]
    }
   ],
   "source": [
    "#era5_wefe = pd.read_csv(r\"wefe.csv\")\n",
    "ep.head()\n",
    "solar_irrad_total = round(ep['ghi'].sum()/1000, 2)\n",
    "print(solar_irrad_total)\n",
    "windspeed_mean = round(ep['windspeed'].mean(), 2)\n",
    "print(windspeed_mean)\n",
    "precip_total = round(ep['tp'].sum(), 2)\n",
    "print(precip_total)\n",
    "temp_mean = round(ep['t_air'].mean(), 2)\n",
    "print(temp_mean)"
   ]
  },
  {
   "cell_type": "code",
   "execution_count": 19,
   "id": "78f0329f",
   "metadata": {},
   "outputs": [
    {
     "data": {
      "text/html": [
       "\n",
       "            <style>\n",
       "                .geemap-dark {\n",
       "                    --jp-widgets-color: white;\n",
       "                    --jp-widgets-label-color: white;\n",
       "                    --jp-ui-font-color1: white;\n",
       "                    --jp-layout-color2: #454545;\n",
       "                    background-color: #383838;\n",
       "                }\n",
       "\n",
       "                .geemap-dark .jupyter-button {\n",
       "                    --jp-layout-color3: #383838;\n",
       "                }\n",
       "\n",
       "                .geemap-colab {\n",
       "                    background-color: var(--colab-primary-surface-color, white);\n",
       "                }\n",
       "\n",
       "                .geemap-colab .jupyter-button {\n",
       "                    --jp-layout-color3: var(--colab-primary-surface-color, white);\n",
       "                }\n",
       "            </style>\n",
       "            "
      ],
      "text/plain": [
       "<IPython.core.display.HTML object>"
      ]
     },
     "metadata": {},
     "output_type": "display_data"
    },
    {
     "data": {
      "image/png": "[encoded data removed]",
      "text/plain": [
       "<Figure size 640x480 with 1 Axes>"
      ]
     },
     "metadata": {},
     "output_type": "display_data"
    }
   ],
   "source": [
    "# global horizontal irradiance\n",
    "era5_wefe.loc[:, ['ghi']].plot(title='Irradiance')\n",
    "plt.xlabel('Time')\n",
    "plt.ylabel('Solar Irradiance $[W/m^2]$')\n",
    "\n",
    "solar_irrad_plot = BytesIO()\n",
    "plt.savefig(solar_irrad_plot, format='png')"
   ]
  },
  {
   "cell_type": "code",
   "execution_count": 20,
   "id": "943d425d-5756-46d9-9a98-6548cc65b349",
   "metadata": {},
   "outputs": [
    {
     "data": {
      "text/html": [
       "\n",
       "            <style>\n",
       "                .geemap-dark {\n",
       "                    --jp-widgets-color: white;\n",
       "                    --jp-widgets-label-color: white;\n",
       "                    --jp-ui-font-color1: white;\n",
       "                    --jp-layout-color2: #454545;\n",
       "                    background-color: #383838;\n",
       "                }\n",
       "\n",
       "                .geemap-dark .jupyter-button {\n",
       "                    --jp-layout-color3: #383838;\n",
       "                }\n",
       "\n",
       "                .geemap-colab {\n",
       "                    background-color: var(--colab-primary-surface-color, white);\n",
       "                }\n",
       "\n",
       "                .geemap-colab .jupyter-button {\n",
       "                    --jp-layout-color3: var(--colab-primary-surface-color, white);\n",
       "                }\n",
       "            </style>\n",
       "            "
      ],
      "text/plain": [
       "<IPython.core.display.HTML object>"
      ]
     },
     "metadata": {},
     "output_type": "display_data"
    },
    {
     "data": {
      "image/png": "[encoded data removed]",
      "text/plain": [
       "<Figure size 640x480 with 1 Axes>"
      ]
     },
     "metadata": {},
     "output_type": "display_data"
    }
   ],
   "source": [
    "# windspeed\n",
    "era5_wefe.loc[:, ['windspeed']].plot(title='Windspeed')\n",
    "plt.xlabel('Time')\n",
    "plt.ylabel('Windspeed $[m/s]$')\n",
    "\n",
    "windspeed_plot = BytesIO()\n",
    "plt.savefig(windspeed_plot, format='png')"
   ]
  },
  {
   "cell_type": "code",
   "execution_count": 21,
   "id": "2b3c2442",
   "metadata": {},
   "outputs": [
    {
     "data": {
      "text/html": [
       "\n",
       "            <style>\n",
       "                .geemap-dark {\n",
       "                    --jp-widgets-color: white;\n",
       "                    --jp-widgets-label-color: white;\n",
       "                    --jp-ui-font-color1: white;\n",
       "                    --jp-layout-color2: #454545;\n",
       "                    background-color: #383838;\n",
       "                }\n",
       "\n",
       "                .geemap-dark .jupyter-button {\n",
       "                    --jp-layout-color3: #383838;\n",
       "                }\n",
       "\n",
       "                .geemap-colab {\n",
       "                    background-color: var(--colab-primary-surface-color, white);\n",
       "                }\n",
       "\n",
       "                .geemap-colab .jupyter-button {\n",
       "                    --jp-layout-color3: var(--colab-primary-surface-color, white);\n",
       "                }\n",
       "            </style>\n",
       "            "
      ],
      "text/plain": [
       "<IPython.core.display.HTML object>"
      ]
     },
     "metadata": {},
     "output_type": "display_data"
    },
    {
     "data": {
      "image/png": "[encoded data removed]",
      "text/plain": [
       "<Figure size 640x480 with 1 Axes>"
      ]
     },
     "metadata": {},
     "output_type": "display_data"
    }
   ],
   "source": [
    "# plot total precipitation\n",
    "era5_wefe.loc[:, ['tp']].plot(title='Precipitation')\n",
    "plt.xlabel('Time')\n",
    "plt.ylabel('Hourly Precipitation $[mm]$')\n",
    "\n",
    "precip_plot = BytesIO()\n",
    "plt.savefig(precip_plot, format='png')"
   ]
  },
  {
   "cell_type": "code",
   "execution_count": 22,
   "id": "263de23f",
   "metadata": {},
   "outputs": [
    {
     "data": {
      "text/html": [
       "\n",
       "            <style>\n",
       "                .geemap-dark {\n",
       "                    --jp-widgets-color: white;\n",
       "                    --jp-widgets-label-color: white;\n",
       "                    --jp-ui-font-color1: white;\n",
       "                    --jp-layout-color2: #454545;\n",
       "                    background-color: #383838;\n",
       "                }\n",
       "\n",
       "                .geemap-dark .jupyter-button {\n",
       "                    --jp-layout-color3: #383838;\n",
       "                }\n",
       "\n",
       "                .geemap-colab {\n",
       "                    background-color: var(--colab-primary-surface-color, white);\n",
       "                }\n",
       "\n",
       "                .geemap-colab .jupyter-button {\n",
       "                    --jp-layout-color3: var(--colab-primary-surface-color, white);\n",
       "                }\n",
       "            </style>\n",
       "            "
      ],
      "text/plain": [
       "<IPython.core.display.HTML object>"
      ]
     },
     "metadata": {},
     "output_type": "display_data"
    },
    {
     "data": {
      "image/png": "[encoded data removed]",
      "text/plain": [
       "<Figure size 640x480 with 1 Axes>"
      ]
     },
     "metadata": {},
     "output_type": "display_data"
    }
   ],
   "source": [
    "# plot temperature\n",
    "era5_wefe.loc[:, ['t_air']].plot(title='Air Temperature')\n",
    "plt.xlabel('Time')\n",
    "plt.ylabel('Air Temperature $[°C]$')\n",
    "\n",
    "temp_plot = BytesIO()\n",
    "plt.savefig(temp_plot, format='png')"
   ]
  },
  {
   "cell_type": "code",
   "execution_count": 23,
   "id": "f5c13226",
   "metadata": {},
   "outputs": [
    {
     "data": {
      "text/html": [
       "\n",
       "            <style>\n",
       "                .geemap-dark {\n",
       "                    --jp-widgets-color: white;\n",
       "                    --jp-widgets-label-color: white;\n",
       "                    --jp-ui-font-color1: white;\n",
       "                    --jp-layout-color2: #454545;\n",
       "                    background-color: #383838;\n",
       "                }\n",
       "\n",
       "                .geemap-dark .jupyter-button {\n",
       "                    --jp-layout-color3: #383838;\n",
       "                }\n",
       "\n",
       "                .geemap-colab {\n",
       "                    background-color: var(--colab-primary-surface-color, white);\n",
       "                }\n",
       "\n",
       "                .geemap-colab .jupyter-button {\n",
       "                    --jp-layout-color3: var(--colab-primary-surface-color, white);\n",
       "                }\n",
       "            </style>\n",
       "            "
      ],
      "text/plain": [
       "<IPython.core.display.HTML object>"
      ]
     },
     "metadata": {},
     "output_type": "display_data"
    }
   ],
   "source": [
    "# Map Dissemination\n",
    "\n",
    "# Currently the static maps (png images) are created by the user applying the snapshot tool (upper right corner) of geemap.\n",
    "# The maps are saved in the folder '/maps', using generic name:\n",
    "# satellite_map.png, terrain_map.png, landuse_map.png, hydrology_map.png\n",
    "\n",
    "# Alternatively the maps can be stored as html and used in future web maps\n",
    "# For including them into the report automatically they can be converted to png.\n",
    "# However, this feature currently does not work; as the png only show a black screen\n",
    "\n",
    "# save maps as html\n",
    "\n",
    "#satellite_map.save('maps/satellite_map.html')\n",
    "#terrain_map.save('maps/terrain_map.html')\n",
    "#landuse_map.save('maps/landuse_map.html')\n",
    "#hydrology_map.save('maps/hydrology_map.html')\n",
    "\n",
    "\n",
    "# convet html to png\n",
    "\n",
    "# import imgkit\n",
    "# Indicate where wkhtmltoimage can be found\n",
    "# con = imgkit.config(wkhtmltoimage='C:\\\\Program Files\\\\wkhtmltopdf\\\\bin\\\\wkhtmltoimage.exe')\n",
    "# \"C:\\Program Files\\wkhtmltopdf\\bin\\wkhtmltoimage.exe\"\n",
    "# imgkit.from_file('test.html', 'test.png', config=con)\n",
    "\n",
    "\n",
    "#from html2image import Html2Image\n",
    "\n",
    "# Initialize the module\n",
    "#htmlImg = Html2Image()\n",
    "\n",
    "# Convert an HTML file to an image\n",
    "#htmlImg.screenshot(html_file='test.html', save_as='test.png')\n",
    "\n",
    "\n",
    "#terrain_map.layer_to_image('Elevation', output='test_terrain_map.jpg')\n",
    "#geemap.show_image('test_terrain_map.jpg')\n",
    "\n",
    "# Save the map as an HTML file\n",
    "#html_file_path = 'test_map_2_map.html'\n",
    "#terrain_map.save(html_file_path)\n",
    "\n",
    "# Open the HTML file in fullscreen mode\n",
    "#webbrowser.open('file://' + os.path.realpath(html_file_path), new=2)\n",
    "\n",
    "#output_dir = os.getcwd()\n",
    "#image_export_path = os.path.join(output_dir, 'terrain_map.jpg')\n",
    "#geemap.Map.to_image(terrain_map, filename=image_export_path)\n",
    "\n",
    "# Alternatively the package 'cartoee' could be used to create static maps to be included into the report\n"
   ]
  },
  {
   "cell_type": "code",
   "execution_count": 24,
   "id": "d162948b-bcbd-4b63-a348-abee2502c0b2",
   "metadata": {},
   "outputs": [
    {
     "data": {
      "text/html": [
       "\n",
       "            <style>\n",
       "                .geemap-dark {\n",
       "                    --jp-widgets-color: white;\n",
       "                    --jp-widgets-label-color: white;\n",
       "                    --jp-ui-font-color1: white;\n",
       "                    --jp-layout-color2: #454545;\n",
       "                    background-color: #383838;\n",
       "                }\n",
       "\n",
       "                .geemap-dark .jupyter-button {\n",
       "                    --jp-layout-color3: #383838;\n",
       "                }\n",
       "\n",
       "                .geemap-colab {\n",
       "                    background-color: var(--colab-primary-surface-color, white);\n",
       "                }\n",
       "\n",
       "                .geemap-colab .jupyter-button {\n",
       "                    --jp-layout-color3: var(--colab-primary-surface-color, white);\n",
       "                }\n",
       "            </style>\n",
       "            "
      ],
      "text/plain": [
       "<IPython.core.display.HTML object>"
      ]
     },
     "metadata": {},
     "output_type": "display_data"
    }
   ],
   "source": [
    "## Automated Report Generation\n",
    "\n",
    "# Function to add a paragraph with specified run style\n",
    "def add_paragraph_with_styles(doc, parts):\n",
    "    paragraph = doc.add_paragraph()\n",
    "    for text, bold, size in parts:\n",
    "        run = paragraph.add_run(text)\n",
    "        run.font.bold = bold\n",
    "        run.font.size = Pt(size)\n",
    "    return paragraph\n",
    "\n",
    "# Create a document object\n",
    "doc = Document()\n",
    "\n",
    "# Set default font for the entire document\n",
    "default_style = doc.styles['Normal']\n",
    "default_style.font.name = 'Calibri'  # Set default font to Calibri\n",
    "default_style.font.size = Pt(12)  # Set default font size\n",
    "\n",
    "# Title text for the document\n",
    "title_text = f\"WEFESite Analyst Report: {name} Case Study\"\n",
    "doc.add_heading(title_text, level=0)\n",
    "\n",
    "# Introductory text\n",
    "intro_text = (\n",
    "    \"WEFESiteAnalyst is an automatized remote data collection tool for the site-tailored planning of \"\n",
    "    \"integrated Water-Energy-Food-Environment Systems (iWEFEs). \"\n",
    "    \"This report presents findings and insights from the analysis of the case study for \"\n",
    "    f\"{name}. The WEFESite Analyst tool aims to provide valuable information for decision-making and \"\n",
    "    \"planning related to environmental factors, site suitability, and more. \"\n",
    "    \"Thank you for using WEFESite Analyst for your case study analysis!\"\n",
    ")\n",
    "add_paragraph_with_styles(doc, [(intro_text, False, 12)])\n",
    "\n",
    "# Add Satelite Map section\n",
    "doc.add_heading(\"Satellite Map\", level=1)\n",
    "satellite_map_image = 'screenshots/satellite_map.png'\n",
    "doc.add_picture(satellite_map_image, width=Inches(6))\n",
    "\n",
    "\n",
    "# Add Terrain section\n",
    "doc.add_heading(\"Terrain\", level=1)\n",
    "terrain_map_image = 'screenshots/terrain_map.png'\n",
    "doc.add_picture(terrain_map_image, width=Inches(6))\n",
    "add_paragraph_with_styles(doc, [(\"Elevation value at location: \", True, 12), (f'{elevation_value.getInfo()} meters', False, 12)])\n",
    "\n",
    "# Add Landuse section\n",
    "doc.add_heading(\"Landuse\", level=1)\n",
    "landuse_map_image = 'screenshots/landuse_map.png'\n",
    "doc.add_picture(landuse_map_image, width=Inches(6))\n",
    "\n",
    "# Add Hydrology section\n",
    "doc.add_heading(\"Hydrology\", level=1)\n",
    "hydrology_map_image = 'screenshots/hydrology_map.png'\n",
    "doc.add_picture(hydrology_map_image, width=Inches(6))\n",
    "\n",
    "# Add Soil section to report document\n",
    "doc.add_heading(\"Soil\", level=1)\n",
    "# Add an empty paragraph for spacing\n",
    "doc.add_paragraph()\n",
    "\n",
    "# Selecting only specific columns\n",
    "selected_columns = [\"soil organic carbon [dg/kg]\", \"bulk density [cg/cm³]\", \"cation exchange capacity at pH 7 [mmol(c)/kg]\", \"nitrogen content [cg/kg]\"]\n",
    "df_filtered_soil = soil_properties_df[selected_columns]\n",
    "\n",
    "# Transpose the DataFrame\n",
    "df_filtered_soil = df_filtered_soil.T.reset_index()\n",
    "\n",
    "# Add a table to the document\n",
    "table_soil = doc.add_table(rows=df_filtered_soil.shape[0] + 1, cols=2)  # +1 for the header row\n",
    "table_soil.style = 'Light Grid Accent 1'\n",
    "\n",
    "# Populate the header row\n",
    "for j, header in enumerate([\"Parameter\", \"Value\"]):\n",
    "    table_soil.cell(0, j).text = header\n",
    "    table_soil.cell(0, j).vertical_alignment = WD_ALIGN_VERTICAL.CENTER  # Optional: Align text vertically to center\n",
    "\n",
    "# Populate the table with parameter names and values\n",
    "for i in range(df_filtered_soil.shape[0]):\n",
    "    table_soil.cell(i + 1, 0).text = df_filtered_soil.iloc[i, 0]  # Parameter name\n",
    "    table_soil.cell(i + 1, 1).text = f\"{df_filtered_soil.iloc[i, 1]:.2f}\"  # Parameter value\n",
    "    for j in range(2):\n",
    "        table_soil.cell(i + 1, j).vertical_alignment = WD_ALIGN_VERTICAL.CENTER  # Optional: Align text vertically to center\n",
    "\n",
    "\n",
    "# Add Climate section\n",
    "doc.add_heading(\"Climate\", level=1)\n",
    "\n",
    "# Add Solar Irradiance subsection\n",
    "doc.add_heading(\"Solar Irradiance\", level=2)\n",
    "# Add paragraph with styles\n",
    "add_paragraph_with_styles(doc, [(\"Total solar irradiance: \", True, 12), (f'{solar_irrad_total:.2f} kWh/m^2/a', False, 12)])\n",
    "# Insert the saved image into the Word document\n",
    "doc.add_picture(solar_irrad_plot, width=Inches(5))\n",
    "# Retrieve the last paragraph in the document (should be the plot)\n",
    "solar_irrad_paragraph = doc.paragraphs[-1]\n",
    "# Set it to center alignment\n",
    "solar_irrad_paragraph.alignment = 1\n",
    "# Add an empty paragraph for spacing\n",
    "doc.add_paragraph()\n",
    "\n",
    "# Add Windspeed subsection\n",
    "doc.add_heading(\"Windspeed\", level=2)\n",
    "# Add paragraph with styles\n",
    "add_paragraph_with_styles(doc, [(\"Average windspeed: \", True, 12), (f'{windspeed_mean:.2f} m/s', False, 12)])\n",
    "# Insert the saved image into the Word document\n",
    "doc.add_picture(windspeed_plot, width=Inches(5))\n",
    "# Retrieve the last paragraph in the document (should be the plot)\n",
    "windspeed_paragraph = doc.paragraphs[-1]\n",
    "# Set it to center alignment\n",
    "windspeed_paragraph.alignment = 1\n",
    "# Add an empty paragraph for spacing\n",
    "doc.add_paragraph()\n",
    "\n",
    "# Add Precipitation subsection\n",
    "doc.add_heading(\"Precipitation\", level=2)\n",
    "# Add paragraph with styles\n",
    "add_paragraph_with_styles(doc, [(\"Total precipitation: \", True, 12), (f'{precip_total:.2f} mm', False, 12)])\n",
    "# Insert the saved image into the Word document\n",
    "doc.add_picture(precip_plot, width=Inches(5))\n",
    "# Retrieve the last paragraph in the document (should be the plot)\n",
    "precip_paragraph = doc.paragraphs[-1]\n",
    "# Set it to center alignment\n",
    "precip_paragraph.alignment = 1\n",
    "# Add an empty paragraph for spacing\n",
    "doc.add_paragraph()\n",
    "\n",
    "# Add Temperature subsection\n",
    "doc.add_heading(\"Temperature\", level=2)\n",
    "# Add paragraph with styles\n",
    "add_paragraph_with_styles(doc, [(\"Average temperature: \", True, 12), (f'{temp_mean:.2f} °C', False, 12)])\n",
    "# Insert the saved image into the Word document\n",
    "doc.add_picture(temp_plot, width=Inches(5))\n",
    "# Retrieve the last paragraph in the document (should be the plot)\n",
    "temp_paragraph = doc.paragraphs[-1]\n",
    "# Set it to center alignment\n",
    "temp_paragraph.alignment = 1"
   ]
  },
  {
   "cell_type": "code",
   "execution_count": 25,
   "id": "d30cb574",
   "metadata": {},
   "outputs": [
    {
     "data": {
      "text/html": [
       "\n",
       "            <style>\n",
       "                .geemap-dark {\n",
       "                    --jp-widgets-color: white;\n",
       "                    --jp-widgets-label-color: white;\n",
       "                    --jp-ui-font-color1: white;\n",
       "                    --jp-layout-color2: #454545;\n",
       "                    background-color: #383838;\n",
       "                }\n",
       "\n",
       "                .geemap-dark .jupyter-button {\n",
       "                    --jp-layout-color3: #383838;\n",
       "                }\n",
       "\n",
       "                .geemap-colab {\n",
       "                    background-color: var(--colab-primary-surface-color, white);\n",
       "                }\n",
       "\n",
       "                .geemap-colab .jupyter-button {\n",
       "                    --jp-layout-color3: var(--colab-primary-surface-color, white);\n",
       "                }\n",
       "            </style>\n",
       "            "
      ],
      "text/plain": [
       "<IPython.core.display.HTML object>"
      ]
     },
     "metadata": {},
     "output_type": "display_data"
    },
    {
     "data": {
      "text/plain": [
       "<docx.document.Document at 0x1ae2f671420>"
      ]
     },
     "metadata": {},
     "output_type": "display_data"
    }
   ],
   "source": [
    "# Define report filename\n",
    "report_filename = f'wefe_site_analyst_{name}.docx'\n",
    "# Save the report\n",
    "doc.save(report_filename)\n",
    "display(doc)"
   ]
  },
  {
   "cell_type": "code",
   "execution_count": 26,
   "id": "0aeb430f",
   "metadata": {},
   "outputs": [
    {
     "data": {
      "text/html": [
       "\n",
       "            <style>\n",
       "                .geemap-dark {\n",
       "                    --jp-widgets-color: white;\n",
       "                    --jp-widgets-label-color: white;\n",
       "                    --jp-ui-font-color1: white;\n",
       "                    --jp-layout-color2: #454545;\n",
       "                    background-color: #383838;\n",
       "                }\n",
       "\n",
       "                .geemap-dark .jupyter-button {\n",
       "                    --jp-layout-color3: #383838;\n",
       "                }\n",
       "\n",
       "                .geemap-colab {\n",
       "                    background-color: var(--colab-primary-surface-color, white);\n",
       "                }\n",
       "\n",
       "                .geemap-colab .jupyter-button {\n",
       "                    --jp-layout-color3: var(--colab-primary-surface-color, white);\n",
       "                }\n",
       "            </style>\n",
       "            "
      ],
      "text/plain": [
       "<IPython.core.display.HTML object>"
      ]
     },
     "metadata": {},
     "output_type": "display_data"
    },
    {
     "name": "stdout",
     "output_type": "stream",
     "text": [
      "please draw center of demand and area of interest into the map displayed below\n"
     ]
    },
    {
     "data": {
      "text/html": [
       "<iframe srcdoc=\"&lt;!DOCTYPE html&gt;\n",
       "&lt;html&gt;\n",
       "&lt;head&gt;\n",
       "    \n",
       "    &lt;meta http-equiv=&quot;content-type&quot; content=&quot;text/html; charset=UTF-8&quot; /&gt;\n",
       "    \n",
       "        &lt;script&gt;\n",
       "            L_NO_TOUCH = false;\n",
       "            L_DISABLE_3D = false;\n",
       "        &lt;/script&gt;\n",
       "    \n",
       "    &lt;style&gt;html, body {width: 100%;height: 100%;margin: 0;padding: 0;}&lt;/style&gt;\n",
       "    &lt;style&gt;#map {position:absolute;top:0;bottom:0;right:0;left:0;}&lt;/style&gt;\n",
       "    &lt;script src=&quot;https://cdn.jsdelivr.net/npm/leaflet@1.9.3/dist/leaflet.js&quot;&gt;&lt;/script&gt;\n",
       "    &lt;script src=&quot;https://code.jquery.com/jquery-3.7.1.min.js&quot;&gt;&lt;/script&gt;\n",
       "    &lt;script src=&quot;https://cdn.jsdelivr.net/npm/bootstrap@5.2.2/dist/js/bootstrap.bundle.min.js&quot;&gt;&lt;/script&gt;\n",
       "    &lt;script src=&quot;https://cdnjs.cloudflare.com/ajax/libs/Leaflet.awesome-markers/2.0.2/leaflet.awesome-markers.js&quot;&gt;&lt;/script&gt;\n",
       "    &lt;link rel=&quot;stylesheet&quot; href=&quot;https://cdn.jsdelivr.net/npm/leaflet@1.9.3/dist/leaflet.css&quot;/&gt;\n",
       "    &lt;link rel=&quot;stylesheet&quot; href=&quot;https://cdn.jsdelivr.net/npm/bootstrap@5.2.2/dist/css/bootstrap.min.css&quot;/&gt;\n",
       "    &lt;link rel=&quot;stylesheet&quot; href=&quot;https://netdna.bootstrapcdn.com/bootstrap/3.0.0/css/bootstrap-glyphicons.css&quot;/&gt;\n",
       "    &lt;link rel=&quot;stylesheet&quot; href=&quot;https://cdn.jsdelivr.net/npm/@fortawesome/fontawesome-free@6.2.0/css/all.min.css&quot;/&gt;\n",
       "    &lt;link rel=&quot;stylesheet&quot; href=&quot;https://cdnjs.cloudflare.com/ajax/libs/Leaflet.awesome-markers/2.0.2/leaflet.awesome-markers.css&quot;/&gt;\n",
       "    &lt;link rel=&quot;stylesheet&quot; href=&quot;https://cdn.jsdelivr.net/gh/python-visualization/folium/folium/templates/leaflet.awesome.rotate.min.css&quot;/&gt;\n",
       "    \n",
       "            &lt;meta name=&quot;viewport&quot; content=&quot;width=device-width,\n",
       "                initial-scale=1.0, maximum-scale=1.0, user-scalable=no&quot; /&gt;\n",
       "            &lt;style&gt;\n",
       "                #map_976f56f1bfc1ec746f2aea3800dd6f5e {\n",
       "                    position: relative;\n",
       "                    width: 100.0%;\n",
       "                    height: 100.0%;\n",
       "                    left: 0.0%;\n",
       "                    top: 0.0%;\n",
       "                }\n",
       "                .leaflet-container { font-size: 1rem; }\n",
       "            &lt;/style&gt;\n",
       "        \n",
       "    &lt;script src=&quot;https://cdn.jsdelivr.net/npm/leaflet.fullscreen@3.0.0/Control.FullScreen.min.js&quot;&gt;&lt;/script&gt;\n",
       "    &lt;link rel=&quot;stylesheet&quot; href=&quot;https://cdn.jsdelivr.net/npm/leaflet.fullscreen@3.0.0/Control.FullScreen.css&quot;/&gt;\n",
       "    &lt;script src=&quot;https://cdnjs.cloudflare.com/ajax/libs/leaflet.draw/1.0.2/leaflet.draw.js&quot;&gt;&lt;/script&gt;\n",
       "    &lt;link rel=&quot;stylesheet&quot; href=&quot;https://cdnjs.cloudflare.com/ajax/libs/leaflet.draw/1.0.2/leaflet.draw.css&quot;/&gt;\n",
       "    &lt;script src=&quot;https://unpkg.com/leaflet-control-geocoder/dist/Control.Geocoder.js&quot;&gt;&lt;/script&gt;\n",
       "    &lt;link rel=&quot;stylesheet&quot; href=&quot;https://unpkg.com/leaflet-control-geocoder/dist/Control.Geocoder.css&quot;/&gt;\n",
       "&lt;/head&gt;\n",
       "&lt;body&gt;\n",
       "    \n",
       "    \n",
       "            &lt;div class=&quot;folium-map&quot; id=&quot;map_976f56f1bfc1ec746f2aea3800dd6f5e&quot; &gt;&lt;/div&gt;\n",
       "        \n",
       "&lt;/body&gt;\n",
       "&lt;script&gt;\n",
       "    \n",
       "    \n",
       "            var map_976f56f1bfc1ec746f2aea3800dd6f5e = L.map(\n",
       "                &quot;map_976f56f1bfc1ec746f2aea3800dd6f5e&quot;,\n",
       "                {\n",
       "                    center: [-26.1077249, 28.758605],\n",
       "                    crs: L.CRS.EPSG3857,\n",
       "                    zoom: 17,\n",
       "                    zoomControl: true,\n",
       "                    preferCanvas: false,\n",
       "                    toolbarControl: false,\n",
       "                    layersControl: true,\n",
       "                    eeInitialize: true,\n",
       "                    addGoogleMap: false,\n",
       "                    pluginLatlngpopup: false,\n",
       "                    pluginFullscreen: true,\n",
       "                    pluginDraw: true,\n",
       "                    DrawExport: false,\n",
       "                    pluginMinimap: false,\n",
       "                    locateControl: false,\n",
       "                    searchControl: true,\n",
       "                }\n",
       "            );\n",
       "\n",
       "            \n",
       "\n",
       "        \n",
       "    \n",
       "            var tile_layer_c368791dc98d152efac96ba497d02f69 = L.tileLayer(\n",
       "                &quot;https://tile.openstreetmap.org/{z}/{x}/{y}.png&quot;,\n",
       "                {&quot;attribution&quot;: &quot;\\u0026copy; \\u003ca href=\\&quot;https://www.openstreetmap.org/copyright\\&quot;\\u003eOpenStreetMap\\u003c/a\\u003e contributors&quot;, &quot;detectRetina&quot;: false, &quot;maxNativeZoom&quot;: 19, &quot;maxZoom&quot;: 30, &quot;minZoom&quot;: 0, &quot;noWrap&quot;: false, &quot;opacity&quot;: 1, &quot;subdomains&quot;: &quot;abc&quot;, &quot;tms&quot;: false}\n",
       "            );\n",
       "        \n",
       "    \n",
       "            tile_layer_c368791dc98d152efac96ba497d02f69.addTo(map_976f56f1bfc1ec746f2aea3800dd6f5e);\n",
       "        \n",
       "    \n",
       "            L.control.fullscreen(\n",
       "                {&quot;forceSeparateButton&quot;: false, &quot;position&quot;: &quot;topleft&quot;, &quot;title&quot;: &quot;Full Screen&quot;, &quot;titleCancel&quot;: &quot;Exit Full Screen&quot;}\n",
       "            ).addTo(map_976f56f1bfc1ec746f2aea3800dd6f5e);\n",
       "        \n",
       "    \n",
       "            var options = {\n",
       "              position: &quot;topleft&quot;,\n",
       "              draw: {},\n",
       "              edit: {},\n",
       "            }\n",
       "            // FeatureGroup is to store editable layers.\n",
       "            var drawnItems_draw_control_6c04a49f6670cdaea7bcdffa1c6888a1 = new L.featureGroup().addTo(\n",
       "                map_976f56f1bfc1ec746f2aea3800dd6f5e\n",
       "            );\n",
       "            options.edit.featureGroup = drawnItems_draw_control_6c04a49f6670cdaea7bcdffa1c6888a1;\n",
       "            var draw_control_6c04a49f6670cdaea7bcdffa1c6888a1 = new L.Control.Draw(\n",
       "                options\n",
       "            ).addTo( map_976f56f1bfc1ec746f2aea3800dd6f5e );\n",
       "            map_976f56f1bfc1ec746f2aea3800dd6f5e.on(L.Draw.Event.CREATED, function(e) {\n",
       "                var layer = e.layer,\n",
       "                    type = e.layerType;\n",
       "                var coords = JSON.stringify(layer.toGeoJSON());\n",
       "                layer.on(&#x27;click&#x27;, function() {\n",
       "                    alert(coords);\n",
       "                    console.log(coords);\n",
       "                });\n",
       "                drawnItems_draw_control_6c04a49f6670cdaea7bcdffa1c6888a1.addLayer(layer);\n",
       "             });\n",
       "            map_976f56f1bfc1ec746f2aea3800dd6f5e.on(&#x27;draw:created&#x27;, function(e) {\n",
       "                drawnItems_draw_control_6c04a49f6670cdaea7bcdffa1c6888a1.addLayer(e.layer);\n",
       "            });\n",
       "            \n",
       "        \n",
       "    \n",
       "\n",
       "            var geocoderOpts_geocoder_f06354c9b9dc2a79906f0e99d2948d86 = {&quot;collapsed&quot;: true, &quot;defaultMarkGeocode&quot;: true, &quot;position&quot;: &quot;topleft&quot;, &quot;provider&quot;: &quot;nominatim&quot;, &quot;providerOptions&quot;: {}, &quot;zoom&quot;: 11};\n",
       "\n",
       "            // note: geocoder name should start with lowercase\n",
       "            var geocoderName_geocoder_f06354c9b9dc2a79906f0e99d2948d86 = geocoderOpts_geocoder_f06354c9b9dc2a79906f0e99d2948d86[&quot;provider&quot;];\n",
       "\n",
       "            var customGeocoder_geocoder_f06354c9b9dc2a79906f0e99d2948d86 = L.Control.Geocoder[ geocoderName_geocoder_f06354c9b9dc2a79906f0e99d2948d86 ](\n",
       "                geocoderOpts_geocoder_f06354c9b9dc2a79906f0e99d2948d86[&#x27;providerOptions&#x27;]\n",
       "            );\n",
       "            geocoderOpts_geocoder_f06354c9b9dc2a79906f0e99d2948d86[&quot;geocoder&quot;] = customGeocoder_geocoder_f06354c9b9dc2a79906f0e99d2948d86;\n",
       "\n",
       "            L.Control.geocoder(\n",
       "                geocoderOpts_geocoder_f06354c9b9dc2a79906f0e99d2948d86\n",
       "            ).on(&#x27;markgeocode&#x27;, function(e) {\n",
       "                var zoom = geocoderOpts_geocoder_f06354c9b9dc2a79906f0e99d2948d86[&#x27;zoom&#x27;] || map_976f56f1bfc1ec746f2aea3800dd6f5e.getZoom();\n",
       "                map_976f56f1bfc1ec746f2aea3800dd6f5e.setView(e.geocode.center, zoom);\n",
       "            }).addTo(map_976f56f1bfc1ec746f2aea3800dd6f5e);\n",
       "\n",
       "        \n",
       "    \n",
       "            map_976f56f1bfc1ec746f2aea3800dd6f5e.fitBounds(\n",
       "                [[-26.1077249, 28.758605], [-26.1077249, 28.758605]],\n",
       "                {&quot;maxZoom&quot;: 17}\n",
       "            );\n",
       "        \n",
       "    \n",
       "            var tile_layer_8d263c22dad4c98cc8f4e733906d9d70 = L.tileLayer(\n",
       "                &quot;https://server.arcgisonline.com/ArcGIS/rest/services/World_Imagery/MapServer/tile/{z}/{y}/{x}&quot;,\n",
       "                {&quot;attribution&quot;: &quot;Esri&quot;, &quot;detectRetina&quot;: false, &quot;maxZoom&quot;: 22, &quot;minZoom&quot;: 0, &quot;noWrap&quot;: false, &quot;opacity&quot;: 1, &quot;subdomains&quot;: &quot;abc&quot;, &quot;tms&quot;: false}\n",
       "            );\n",
       "        \n",
       "    \n",
       "            tile_layer_8d263c22dad4c98cc8f4e733906d9d70.addTo(map_976f56f1bfc1ec746f2aea3800dd6f5e);\n",
       "        \n",
       "    \n",
       "            var tile_layer_f137aabac322598a88d9df82c998bc92 = L.tileLayer(\n",
       "                &quot;https://earthengine.googleapis.com/v1/projects/earthengine-legacy/maps/d555a485fa46087558f90494e436f99e-eed563dd23f3e7434e7f64a29126debd/tiles/{z}/{x}/{y}&quot;,\n",
       "                {&quot;attribution&quot;: &quot;Google Earth Engine&quot;, &quot;detectRetina&quot;: false, &quot;maxZoom&quot;: 24, &quot;minZoom&quot;: 0, &quot;noWrap&quot;: false, &quot;opacity&quot;: 1.0, &quot;subdomains&quot;: &quot;abc&quot;, &quot;tms&quot;: false}\n",
       "            );\n",
       "        \n",
       "    \n",
       "            tile_layer_f137aabac322598a88d9df82c998bc92.addTo(map_976f56f1bfc1ec746f2aea3800dd6f5e);\n",
       "        \n",
       "    \n",
       "            var layer_control_bba36b53fb8a24a559fe8d708d7621a3_layers = {\n",
       "                base_layers : {\n",
       "                    &quot;openstreetmap&quot; : tile_layer_c368791dc98d152efac96ba497d02f69,\n",
       "                },\n",
       "                overlays :  {\n",
       "                    &quot;Esri.WorldImagery&quot; : tile_layer_8d263c22dad4c98cc8f4e733906d9d70,\n",
       "                    &quot;center&quot; : tile_layer_f137aabac322598a88d9df82c998bc92,\n",
       "                },\n",
       "            };\n",
       "            let layer_control_bba36b53fb8a24a559fe8d708d7621a3 = L.control.layers(\n",
       "                layer_control_bba36b53fb8a24a559fe8d708d7621a3_layers.base_layers,\n",
       "                layer_control_bba36b53fb8a24a559fe8d708d7621a3_layers.overlays,\n",
       "                {&quot;autoZIndex&quot;: true, &quot;collapsed&quot;: true, &quot;position&quot;: &quot;topright&quot;}\n",
       "            ).addTo(map_976f56f1bfc1ec746f2aea3800dd6f5e);\n",
       "\n",
       "        \n",
       "&lt;/script&gt;\n",
       "&lt;/html&gt;\" width=\"100%\" height=\"600\"style=\"border:none !important;\" \"allowfullscreen\" \"webkitallowfullscreen\" \"mozallowfullscreen\"></iframe>"
      ],
      "text/plain": [
       "<geemap.foliumap.Map at 0x1ae2f660a30>"
      ]
     },
     "execution_count": 26,
     "metadata": {},
     "output_type": "execute_result"
    }
   ],
   "source": [
    "# retrieve area of interest from drawing/alternative in case polygon file is not available\n",
    "\n",
    "\n",
    "center = ee.Geometry.Point(lon, lat)\n",
    "\n",
    "print(\"please draw center of demand and area of interest into the map displayed below\")\n",
    "\n",
    "\n",
    "m = gfolium.Map(\n",
    "    center=[lat, lon], zoom=17, toolbar_control=False, layers_control=True\n",
    ")\n",
    "\n",
    "m.add_basemap('SATELLITE')\n",
    "m.addLayer(center, {'color': 'red', 'weight': 1, 'opacity': 1}, \"center\")\n",
    "\n",
    "m\n"
   ]
  },
  {
   "cell_type": "code",
   "execution_count": null,
   "id": "e67525b6-30c8-4781-a6aa-01f8486e54c4",
   "metadata": {},
   "outputs": [],
   "source": []
  },
  {
   "cell_type": "code",
   "execution_count": null,
   "id": "3b39937e-3c9f-4b50-8fd2-3a961286dbfe",
   "metadata": {},
   "outputs": [],
   "source": []
  }
 ],
 "metadata": {
  "kernelspec": {
   "display_name": "Python 3 (ipykernel)",
   "language": "python",
   "name": "python3"
  },
  "language_info": {
   "codemirror_mode": {
    "name": "ipython",
    "version": 3
   },
   "file_extension": ".py",
   "mimetype": "text/x-python",
   "name": "python",
   "nbconvert_exporter": "python",
   "pygments_lexer": "ipython3",
   "version": "3.10.14"
  },
  "varInspector": {
   "cols": {
    "lenName": 16,
    "lenType": 16,
    "lenVar": 40
   },
   "kernels_config": {
    "python": {
     "delete_cmd_postfix": "",
     "delete_cmd_prefix": "del ",
     "library": "var_list.py",
     "varRefreshCmd": "print(var_dic_list())"
    },
    "r": {
     "delete_cmd_postfix": ") ",
     "delete_cmd_prefix": "rm(",
     "library": "var_list.r",
     "varRefreshCmd": "cat(var_dic_list()) "
    }
   },
   "oldHeight": 122.828,
   "position": {
    "height": "40px",
    "left": "1563.44px",
    "right": "20px",
    "top": "231px",
    "width": "350px"
   },
   "types_to_exclude": [
    "module",
    "function",
    "builtin_function_or_method",
    "instance",
    "_Feature"
   ],
   "varInspector_section_display": "none",
   "window_display": false
  }
 },
 "nbformat": 4,
 "nbformat_minor": 5
}
